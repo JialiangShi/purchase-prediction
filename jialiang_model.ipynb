{
 "cells": [
  {
   "cell_type": "code",
   "execution_count": 1,
   "metadata": {},
   "outputs": [],
   "source": [
    "import pandas as pd\n",
    "import numpy as np"
   ]
  },
  {
   "cell_type": "markdown",
   "metadata": {},
   "source": [
    "## Load Data"
   ]
  },
  {
   "cell_type": "code",
   "execution_count": 2,
   "metadata": {},
   "outputs": [],
   "source": [
    "# Read in the sessions table\n",
    "# Drop app_id, device_id, timezone_offset, latitude, longitude and locale columns\n",
    "\n",
    "session_path = '/Users/jialiang.shi/data/leanplum/sessions.csv'\n",
    "\n",
    "session_dtype = {'session_id':'category', 'start_timestamp':np.uint64, 'timezone':'category', \n",
    "                 'previous_sessions_duration':np.uint32, 'user_created_timestamp':np.uint64,\n",
    "                 'is_user_first_session':np.bool, 'is_session':np.bool, 'is_developer':np.bool, \n",
    "                 'is_wau':np.bool, 'is_mau':np.bool, 'country':'category', 'region':'category', \n",
    "                 'city':'category', 'os_name':'category', 'session_index':np.uint16, 'user_id_hash':'category'}\n",
    "\n",
    "sessions = pd.read_csv(session_path, usecols=session_dtype.keys(), dtype=session_dtype)\n"
   ]
  },
  {
   "cell_type": "code",
   "execution_count": 3,
   "metadata": {},
   "outputs": [],
   "source": [
    "# Session table filter\n",
    "sessions = sessions[(sessions.is_session == True) & (sessions.is_wau == False)\\\n",
    "                    & (sessions.is_mau == False) & (sessions.is_developer == False)]\n",
    "sessions.drop_duplicates(inplace=True)"
   ]
  },
  {
   "cell_type": "code",
   "execution_count": 4,
   "metadata": {},
   "outputs": [],
   "source": [
    "sessions['start_timestamp']=pd.to_datetime(sessions.start_timestamp, unit='ms')  "
   ]
  },
  {
   "cell_type": "code",
   "execution_count": 5,
   "metadata": {},
   "outputs": [],
   "source": [
    "# Read in the events table\n",
    "# Drop app_id columns\n",
    "\n",
    "event_path = '/Users/jialiang.shi/data/leanplum/events.csv'\n",
    "event_dtype = {'session_id': 'category', 'event': 'category', 'event_timestamp': np.uint64,\n",
    "               'event_value': np.float32, 'user_id_hash': 'category'}\n",
    "\n",
    "events = pd.read_csv(event_path, usecols=event_dtype.keys(), dtype=event_dtype)"
   ]
  },
  {
   "cell_type": "code",
   "execution_count": 6,
   "metadata": {},
   "outputs": [],
   "source": [
    "# Drop duplicates and add Timestamp\n",
    "events.drop_duplicates(inplace=True)\n",
    "events['event_timestamp']=pd.to_datetime(events.event_timestamp, unit='ms')  "
   ]
  },
  {
   "cell_type": "code",
   "execution_count": 7,
   "metadata": {},
   "outputs": [],
   "source": [
    "all_users = events['user_id_hash'].unique()"
   ]
  },
  {
   "cell_type": "markdown",
   "metadata": {},
   "source": [
    "## Generate Label"
   ]
  },
  {
   "cell_type": "code",
   "execution_count": 7,
   "metadata": {},
   "outputs": [],
   "source": [
    "# event_data = events.loc[events.event_timestamp < '2018-12-01 00:00']\n",
    "# purchase_14 = events.loc[events.event_timestamp > '2018-12-01 00:00']\n",
    "# purchase_7 = purchase_14.loc[purchase_14.event_timestamp < '2018-12-08 00:00']\n",
    "# userID_7 = purchase_7.loc[purchase_7.event=='8'].user_id_hash.unique()\n",
    "# userID_14 = purchase_14.loc[purchase_14.event=='8'].user_id_hash.unique()\n",
    "# target = [(x, (x in userID_7), (x in userID_14)) for x in all_users]\n",
    "# target_df = pd.DataFrame(target, columns=['user_id_hash', 'one_week_purchase', 'two_week_purchase'])\n",
    "# target_df.to_csv('target.csv', index=False)"
   ]
  },
  {
   "cell_type": "code",
   "execution_count": 8,
   "metadata": {},
   "outputs": [],
   "source": [
    "target_df = pd.read_csv('target.csv')"
   ]
  },
  {
   "cell_type": "code",
   "execution_count": 9,
   "metadata": {},
   "outputs": [
    {
     "data": {
      "text/html": [
       "<div>\n",
       "<style scoped>\n",
       "    .dataframe tbody tr th:only-of-type {\n",
       "        vertical-align: middle;\n",
       "    }\n",
       "\n",
       "    .dataframe tbody tr th {\n",
       "        vertical-align: top;\n",
       "    }\n",
       "\n",
       "    .dataframe thead th {\n",
       "        text-align: right;\n",
       "    }\n",
       "</style>\n",
       "<table border=\"1\" class=\"dataframe\">\n",
       "  <thead>\n",
       "    <tr style=\"text-align: right;\">\n",
       "      <th></th>\n",
       "      <th>user_id_hash</th>\n",
       "      <th>one_week_purchase</th>\n",
       "      <th>two_week_purchase</th>\n",
       "    </tr>\n",
       "  </thead>\n",
       "  <tbody>\n",
       "    <tr>\n",
       "      <th>0</th>\n",
       "      <td>9943447915df3a45fd6720a026af905b6da6b56a37701b...</td>\n",
       "      <td>False</td>\n",
       "      <td>False</td>\n",
       "    </tr>\n",
       "    <tr>\n",
       "      <th>1</th>\n",
       "      <td>43f75f8042d3c80c45e222bdd09267f4584684c54d6fae...</td>\n",
       "      <td>False</td>\n",
       "      <td>False</td>\n",
       "    </tr>\n",
       "    <tr>\n",
       "      <th>2</th>\n",
       "      <td>999524249720812f2d8c0390293efd58e1ac84d587a01c...</td>\n",
       "      <td>False</td>\n",
       "      <td>False</td>\n",
       "    </tr>\n",
       "    <tr>\n",
       "      <th>3</th>\n",
       "      <td>4e6bc35cf7fd79a5312047651e7865915f4a6bec193cf2...</td>\n",
       "      <td>False</td>\n",
       "      <td>False</td>\n",
       "    </tr>\n",
       "    <tr>\n",
       "      <th>4</th>\n",
       "      <td>dc009148ee26d658e0240c7b7f6a258790a457737f96e8...</td>\n",
       "      <td>False</td>\n",
       "      <td>False</td>\n",
       "    </tr>\n",
       "  </tbody>\n",
       "</table>\n",
       "</div>"
      ],
      "text/plain": [
       "                                        user_id_hash  one_week_purchase  \\\n",
       "0  9943447915df3a45fd6720a026af905b6da6b56a37701b...              False   \n",
       "1  43f75f8042d3c80c45e222bdd09267f4584684c54d6fae...              False   \n",
       "2  999524249720812f2d8c0390293efd58e1ac84d587a01c...              False   \n",
       "3  4e6bc35cf7fd79a5312047651e7865915f4a6bec193cf2...              False   \n",
       "4  dc009148ee26d658e0240c7b7f6a258790a457737f96e8...              False   \n",
       "\n",
       "   two_week_purchase  \n",
       "0              False  \n",
       "1              False  \n",
       "2              False  \n",
       "3              False  \n",
       "4              False  "
      ]
     },
     "execution_count": 9,
     "metadata": {},
     "output_type": "execute_result"
    }
   ],
   "source": [
    "target_df.head()"
   ]
  },
  {
   "cell_type": "code",
   "execution_count": 10,
   "metadata": {},
   "outputs": [
    {
     "data": {
      "text/plain": [
       "621001"
      ]
     },
     "execution_count": 10,
     "metadata": {},
     "output_type": "execute_result"
    }
   ],
   "source": [
    "len(target_df)"
   ]
  },
  {
   "cell_type": "markdown",
   "metadata": {},
   "source": [
    "## Purchase counts"
   ]
  },
  {
   "cell_type": "code",
   "execution_count": 18,
   "metadata": {},
   "outputs": [],
   "source": [
    "event_data = events.loc[events.event_timestamp < '2018-12-01 00:00']"
   ]
  },
  {
   "cell_type": "code",
   "execution_count": 19,
   "metadata": {},
   "outputs": [],
   "source": [
    "purchase = event_data.loc[event_data.event=='8']\n",
    "purchase_count = purchase.groupby('user_id_hash')['event'].count().to_frame()\n",
    "purchase_count = purchase_count.reset_index()"
   ]
  },
  {
   "cell_type": "code",
   "execution_count": 20,
   "metadata": {},
   "outputs": [
    {
     "data": {
      "text/html": [
       "<div>\n",
       "<style scoped>\n",
       "    .dataframe tbody tr th:only-of-type {\n",
       "        vertical-align: middle;\n",
       "    }\n",
       "\n",
       "    .dataframe tbody tr th {\n",
       "        vertical-align: top;\n",
       "    }\n",
       "\n",
       "    .dataframe thead th {\n",
       "        text-align: right;\n",
       "    }\n",
       "</style>\n",
       "<table border=\"1\" class=\"dataframe\">\n",
       "  <thead>\n",
       "    <tr style=\"text-align: right;\">\n",
       "      <th></th>\n",
       "      <th>user_id_hash</th>\n",
       "      <th>purchase_count</th>\n",
       "    </tr>\n",
       "  </thead>\n",
       "  <tbody>\n",
       "    <tr>\n",
       "      <th>0</th>\n",
       "      <td>002e447aed33ed4c51a68743cc293ef2148058b6a6239e...</td>\n",
       "      <td>0</td>\n",
       "    </tr>\n",
       "    <tr>\n",
       "      <th>1</th>\n",
       "      <td>005c9d79cf18efc6c8b5fa767964b1def9b8e2f8abd23f...</td>\n",
       "      <td>0</td>\n",
       "    </tr>\n",
       "    <tr>\n",
       "      <th>2</th>\n",
       "      <td>0061b4d30e8a9935b2ebeec954ff509b4f0cb500cd725c...</td>\n",
       "      <td>0</td>\n",
       "    </tr>\n",
       "    <tr>\n",
       "      <th>3</th>\n",
       "      <td>00fbbf507c7d3c2f259cd3329d241c29d35712e2d4699f...</td>\n",
       "      <td>0</td>\n",
       "    </tr>\n",
       "    <tr>\n",
       "      <th>4</th>\n",
       "      <td>0107a0017873efc2dea9a9155832363ceacf6fe97bd428...</td>\n",
       "      <td>0</td>\n",
       "    </tr>\n",
       "  </tbody>\n",
       "</table>\n",
       "</div>"
      ],
      "text/plain": [
       "                                        user_id_hash  purchase_count\n",
       "0  002e447aed33ed4c51a68743cc293ef2148058b6a6239e...               0\n",
       "1  005c9d79cf18efc6c8b5fa767964b1def9b8e2f8abd23f...               0\n",
       "2  0061b4d30e8a9935b2ebeec954ff509b4f0cb500cd725c...               0\n",
       "3  00fbbf507c7d3c2f259cd3329d241c29d35712e2d4699f...               0\n",
       "4  0107a0017873efc2dea9a9155832363ceacf6fe97bd428...               0"
      ]
     },
     "execution_count": 20,
     "metadata": {},
     "output_type": "execute_result"
    }
   ],
   "source": [
    "purchase_count = purchase_count.rename(index=str, columns={\"event\": \"purchase_count\"})\n",
    "purchase_count.head()"
   ]
  },
  {
   "cell_type": "code",
   "execution_count": 22,
   "metadata": {},
   "outputs": [
    {
     "data": {
      "text/plain": [
       "621001"
      ]
     },
     "execution_count": 22,
     "metadata": {},
     "output_type": "execute_result"
    }
   ],
   "source": [
    "len(purchase_count)"
   ]
  },
  {
   "cell_type": "markdown",
   "metadata": {},
   "source": [
    "## Sum and Mean Purchase "
   ]
  },
  {
   "cell_type": "code",
   "execution_count": 25,
   "metadata": {},
   "outputs": [],
   "source": [
    "purchase_value = purchase.groupby('user_id_hash')['event_value'].agg(['sum', 'mean'])\\\n",
    "                     .rename(columns={'sum': 'sum_value', 'mean': 'mean_value'})"
   ]
  },
  {
   "cell_type": "code",
   "execution_count": 27,
   "metadata": {},
   "outputs": [
    {
     "data": {
      "text/plain": [
       "sum_value     False\n",
       "mean_value    False\n",
       "dtype: bool"
      ]
     },
     "execution_count": 27,
     "metadata": {},
     "output_type": "execute_result"
    }
   ],
   "source": [
    "purchase_value.mean_value.fillna(0, inplace=True)\n",
    "purchase_value.isna().any()"
   ]
  },
  {
   "cell_type": "code",
   "execution_count": 28,
   "metadata": {},
   "outputs": [
    {
     "data": {
      "text/html": [
       "<div>\n",
       "<style scoped>\n",
       "    .dataframe tbody tr th:only-of-type {\n",
       "        vertical-align: middle;\n",
       "    }\n",
       "\n",
       "    .dataframe tbody tr th {\n",
       "        vertical-align: top;\n",
       "    }\n",
       "\n",
       "    .dataframe thead th {\n",
       "        text-align: right;\n",
       "    }\n",
       "</style>\n",
       "<table border=\"1\" class=\"dataframe\">\n",
       "  <thead>\n",
       "    <tr style=\"text-align: right;\">\n",
       "      <th></th>\n",
       "      <th>sum_value</th>\n",
       "      <th>mean_value</th>\n",
       "    </tr>\n",
       "    <tr>\n",
       "      <th>user_id_hash</th>\n",
       "      <th></th>\n",
       "      <th></th>\n",
       "    </tr>\n",
       "  </thead>\n",
       "  <tbody>\n",
       "    <tr>\n",
       "      <th>002e447aed33ed4c51a68743cc293ef2148058b6a6239e37d013cc6dc49bdfdf</th>\n",
       "      <td>0.0</td>\n",
       "      <td>0.0</td>\n",
       "    </tr>\n",
       "    <tr>\n",
       "      <th>005c9d79cf18efc6c8b5fa767964b1def9b8e2f8abd23f453310f60d69584a9f</th>\n",
       "      <td>0.0</td>\n",
       "      <td>0.0</td>\n",
       "    </tr>\n",
       "    <tr>\n",
       "      <th>0061b4d30e8a9935b2ebeec954ff509b4f0cb500cd725c1aa7145841c82d907c</th>\n",
       "      <td>0.0</td>\n",
       "      <td>0.0</td>\n",
       "    </tr>\n",
       "    <tr>\n",
       "      <th>00fbbf507c7d3c2f259cd3329d241c29d35712e2d4699f5c6a51d5149219ecee</th>\n",
       "      <td>0.0</td>\n",
       "      <td>0.0</td>\n",
       "    </tr>\n",
       "    <tr>\n",
       "      <th>0107a0017873efc2dea9a9155832363ceacf6fe97bd428a73efa67b639962ac0</th>\n",
       "      <td>0.0</td>\n",
       "      <td>0.0</td>\n",
       "    </tr>\n",
       "  </tbody>\n",
       "</table>\n",
       "</div>"
      ],
      "text/plain": [
       "                                                    sum_value  mean_value\n",
       "user_id_hash                                                             \n",
       "002e447aed33ed4c51a68743cc293ef2148058b6a6239e3...        0.0         0.0\n",
       "005c9d79cf18efc6c8b5fa767964b1def9b8e2f8abd23f4...        0.0         0.0\n",
       "0061b4d30e8a9935b2ebeec954ff509b4f0cb500cd725c1...        0.0         0.0\n",
       "00fbbf507c7d3c2f259cd3329d241c29d35712e2d4699f5...        0.0         0.0\n",
       "0107a0017873efc2dea9a9155832363ceacf6fe97bd428a...        0.0         0.0"
      ]
     },
     "execution_count": 28,
     "metadata": {},
     "output_type": "execute_result"
    }
   ],
   "source": [
    "purchase_value.head()"
   ]
  },
  {
   "cell_type": "markdown",
   "metadata": {},
   "source": [
    "## Last 7 days and 14 days purchase data"
   ]
  },
  {
   "cell_type": "code",
   "execution_count": 29,
   "metadata": {},
   "outputs": [],
   "source": [
    "last_7_events = events.loc[(events.event_timestamp < '2018-12-01 00:00') & (events.event_timestamp > '2018-11-24 00:00')]\n",
    "last_14_events = events.loc[(events.event_timestamp < '2018-12-01 00:00') & (events.event_timestamp > '2018-11-17 00:00')]\n"
   ]
  },
  {
   "cell_type": "code",
   "execution_count": 30,
   "metadata": {},
   "outputs": [],
   "source": [
    "purchase_7 = last_7_events.loc[last_7_events.event=='8']\n",
    "purchase_count_7 = purchase_7.groupby('user_id_hash')['event'].count().to_frame()\n",
    "purchase_count_7 = purchase_count_7.reset_index()\n",
    "purchase_count_7 = purchase_count_7.rename(index=str, columns={\"event\": \"purchase_count_7\"})"
   ]
  },
  {
   "cell_type": "code",
   "execution_count": 32,
   "metadata": {},
   "outputs": [],
   "source": [
    "purchase_value_7 = last_7_events.groupby('user_id_hash')['event_value'].agg(['sum', 'mean'])\\\n",
    "                     .rename(columns={'sum': 'sum_value_7', 'mean': 'mean_value_7'})"
   ]
  },
  {
   "cell_type": "code",
   "execution_count": 35,
   "metadata": {},
   "outputs": [
    {
     "data": {
      "text/plain": [
       "sum_value_7     False\n",
       "mean_value_7    False\n",
       "dtype: bool"
      ]
     },
     "execution_count": 35,
     "metadata": {},
     "output_type": "execute_result"
    }
   ],
   "source": [
    "purchase_value_7.fillna(0, inplace=True)\n",
    "purchase_value_7.isna().any()"
   ]
  },
  {
   "cell_type": "code",
   "execution_count": 31,
   "metadata": {},
   "outputs": [],
   "source": [
    "purchase_14 = last_14_events.loc[last_14_events.event=='8']\n",
    "purchase_count_14 = purchase_14.groupby('user_id_hash')['event'].count().to_frame()\n",
    "purchase_count_14 = purchase_count_14.reset_index()\n",
    "purchase_count_14 = purchase_count_14.rename(index=str, columns={\"event\": \"purchase_count_14\"})"
   ]
  },
  {
   "cell_type": "code",
   "execution_count": 33,
   "metadata": {},
   "outputs": [],
   "source": [
    "purchase_value_14 = last_14_events.groupby('user_id_hash')['event_value'].agg(['sum', 'mean'])\\\n",
    "                     .rename(columns={'sum': 'sum_value_14', 'mean': 'mean_value_14'})"
   ]
  },
  {
   "cell_type": "code",
   "execution_count": 36,
   "metadata": {},
   "outputs": [
    {
     "data": {
      "text/plain": [
       "sum_value_14     False\n",
       "mean_value_14    False\n",
       "dtype: bool"
      ]
     },
     "execution_count": 36,
     "metadata": {},
     "output_type": "execute_result"
    }
   ],
   "source": [
    "purchase_value_14.fillna(0, inplace=True)\n",
    "purchase_value_14.isna().any()"
   ]
  },
  {
   "cell_type": "markdown",
   "metadata": {},
   "source": [
    "## Purchase Nonpurchase ratio per user"
   ]
  },
  {
   "cell_type": "code",
   "execution_count": 37,
   "metadata": {},
   "outputs": [],
   "source": [
    "pur_npur_ratio = event_data[event_data.event=='8'].groupby('user_id_hash').size()/event_data.groupby('user_id_hash').size()\n",
    "pur_npur_ratio = pur_npur_ratio.to_frame().reset_index()\n",
    "pur_npur_ratio.rename(columns={0: 'ratio'}, inplace=True)\n"
   ]
  },
  {
   "cell_type": "code",
   "execution_count": 38,
   "metadata": {},
   "outputs": [],
   "source": [
    "pur_npur_ratio.ratio.fillna(0, inplace=True)"
   ]
  },
  {
   "cell_type": "code",
   "execution_count": 39,
   "metadata": {},
   "outputs": [
    {
     "data": {
      "text/html": [
       "<div>\n",
       "<style scoped>\n",
       "    .dataframe tbody tr th:only-of-type {\n",
       "        vertical-align: middle;\n",
       "    }\n",
       "\n",
       "    .dataframe tbody tr th {\n",
       "        vertical-align: top;\n",
       "    }\n",
       "\n",
       "    .dataframe thead th {\n",
       "        text-align: right;\n",
       "    }\n",
       "</style>\n",
       "<table border=\"1\" class=\"dataframe\">\n",
       "  <thead>\n",
       "    <tr style=\"text-align: right;\">\n",
       "      <th></th>\n",
       "      <th>user_id_hash</th>\n",
       "      <th>ratio</th>\n",
       "    </tr>\n",
       "  </thead>\n",
       "  <tbody>\n",
       "    <tr>\n",
       "      <th>0</th>\n",
       "      <td>002e447aed33ed4c51a68743cc293ef2148058b6a6239e...</td>\n",
       "      <td>0.0</td>\n",
       "    </tr>\n",
       "    <tr>\n",
       "      <th>1</th>\n",
       "      <td>005c9d79cf18efc6c8b5fa767964b1def9b8e2f8abd23f...</td>\n",
       "      <td>0.0</td>\n",
       "    </tr>\n",
       "    <tr>\n",
       "      <th>2</th>\n",
       "      <td>0061b4d30e8a9935b2ebeec954ff509b4f0cb500cd725c...</td>\n",
       "      <td>0.0</td>\n",
       "    </tr>\n",
       "    <tr>\n",
       "      <th>3</th>\n",
       "      <td>00fbbf507c7d3c2f259cd3329d241c29d35712e2d4699f...</td>\n",
       "      <td>0.0</td>\n",
       "    </tr>\n",
       "    <tr>\n",
       "      <th>4</th>\n",
       "      <td>0107a0017873efc2dea9a9155832363ceacf6fe97bd428...</td>\n",
       "      <td>0.0</td>\n",
       "    </tr>\n",
       "  </tbody>\n",
       "</table>\n",
       "</div>"
      ],
      "text/plain": [
       "                                        user_id_hash  ratio\n",
       "0  002e447aed33ed4c51a68743cc293ef2148058b6a6239e...    0.0\n",
       "1  005c9d79cf18efc6c8b5fa767964b1def9b8e2f8abd23f...    0.0\n",
       "2  0061b4d30e8a9935b2ebeec954ff509b4f0cb500cd725c...    0.0\n",
       "3  00fbbf507c7d3c2f259cd3329d241c29d35712e2d4699f...    0.0\n",
       "4  0107a0017873efc2dea9a9155832363ceacf6fe97bd428...    0.0"
      ]
     },
     "execution_count": 39,
     "metadata": {},
     "output_type": "execute_result"
    }
   ],
   "source": [
    "pur_npur_ratio.head()"
   ]
  },
  {
   "cell_type": "markdown",
   "metadata": {},
   "source": [
    "## Aggregate event data per user"
   ]
  },
  {
   "cell_type": "code",
   "execution_count": 40,
   "metadata": {},
   "outputs": [],
   "source": [
    "group_event = event_data.groupby('user_id_hash')['event_value'].agg(['sum', 'mean', 'count'])\\\n",
    "            .rename(columns={'sum': 'sum_event', 'mean': 'mean_event_value', 'count': 'count_event'})"
   ]
  },
  {
   "cell_type": "code",
   "execution_count": 41,
   "metadata": {},
   "outputs": [
    {
     "data": {
      "text/html": [
       "<div>\n",
       "<style scoped>\n",
       "    .dataframe tbody tr th:only-of-type {\n",
       "        vertical-align: middle;\n",
       "    }\n",
       "\n",
       "    .dataframe tbody tr th {\n",
       "        vertical-align: top;\n",
       "    }\n",
       "\n",
       "    .dataframe thead th {\n",
       "        text-align: right;\n",
       "    }\n",
       "</style>\n",
       "<table border=\"1\" class=\"dataframe\">\n",
       "  <thead>\n",
       "    <tr style=\"text-align: right;\">\n",
       "      <th></th>\n",
       "      <th>sum_event</th>\n",
       "      <th>mean_event_value</th>\n",
       "      <th>count_event</th>\n",
       "    </tr>\n",
       "    <tr>\n",
       "      <th>user_id_hash</th>\n",
       "      <th></th>\n",
       "      <th></th>\n",
       "      <th></th>\n",
       "    </tr>\n",
       "  </thead>\n",
       "  <tbody>\n",
       "    <tr>\n",
       "      <th>002e447aed33ed4c51a68743cc293ef2148058b6a6239e37d013cc6dc49bdfdf</th>\n",
       "      <td>43.0</td>\n",
       "      <td>0.361345</td>\n",
       "      <td>119</td>\n",
       "    </tr>\n",
       "    <tr>\n",
       "      <th>005c9d79cf18efc6c8b5fa767964b1def9b8e2f8abd23f453310f60d69584a9f</th>\n",
       "      <td>12.0</td>\n",
       "      <td>0.500000</td>\n",
       "      <td>24</td>\n",
       "    </tr>\n",
       "    <tr>\n",
       "      <th>0061b4d30e8a9935b2ebeec954ff509b4f0cb500cd725c1aa7145841c82d907c</th>\n",
       "      <td>0.0</td>\n",
       "      <td>0.000000</td>\n",
       "      <td>34</td>\n",
       "    </tr>\n",
       "    <tr>\n",
       "      <th>00fbbf507c7d3c2f259cd3329d241c29d35712e2d4699f5c6a51d5149219ecee</th>\n",
       "      <td>53.0</td>\n",
       "      <td>1.127660</td>\n",
       "      <td>47</td>\n",
       "    </tr>\n",
       "    <tr>\n",
       "      <th>0107a0017873efc2dea9a9155832363ceacf6fe97bd428a73efa67b639962ac0</th>\n",
       "      <td>0.0</td>\n",
       "      <td>0.000000</td>\n",
       "      <td>14</td>\n",
       "    </tr>\n",
       "  </tbody>\n",
       "</table>\n",
       "</div>"
      ],
      "text/plain": [
       "                                                    sum_event  \\\n",
       "user_id_hash                                                    \n",
       "002e447aed33ed4c51a68743cc293ef2148058b6a6239e3...       43.0   \n",
       "005c9d79cf18efc6c8b5fa767964b1def9b8e2f8abd23f4...       12.0   \n",
       "0061b4d30e8a9935b2ebeec954ff509b4f0cb500cd725c1...        0.0   \n",
       "00fbbf507c7d3c2f259cd3329d241c29d35712e2d4699f5...       53.0   \n",
       "0107a0017873efc2dea9a9155832363ceacf6fe97bd428a...        0.0   \n",
       "\n",
       "                                                    mean_event_value  \\\n",
       "user_id_hash                                                           \n",
       "002e447aed33ed4c51a68743cc293ef2148058b6a6239e3...          0.361345   \n",
       "005c9d79cf18efc6c8b5fa767964b1def9b8e2f8abd23f4...          0.500000   \n",
       "0061b4d30e8a9935b2ebeec954ff509b4f0cb500cd725c1...          0.000000   \n",
       "00fbbf507c7d3c2f259cd3329d241c29d35712e2d4699f5...          1.127660   \n",
       "0107a0017873efc2dea9a9155832363ceacf6fe97bd428a...          0.000000   \n",
       "\n",
       "                                                    count_event  \n",
       "user_id_hash                                                     \n",
       "002e447aed33ed4c51a68743cc293ef2148058b6a6239e3...          119  \n",
       "005c9d79cf18efc6c8b5fa767964b1def9b8e2f8abd23f4...           24  \n",
       "0061b4d30e8a9935b2ebeec954ff509b4f0cb500cd725c1...           34  \n",
       "00fbbf507c7d3c2f259cd3329d241c29d35712e2d4699f5...           47  \n",
       "0107a0017873efc2dea9a9155832363ceacf6fe97bd428a...           14  "
      ]
     },
     "execution_count": 41,
     "metadata": {},
     "output_type": "execute_result"
    }
   ],
   "source": [
    "group_event.head()"
   ]
  },
  {
   "cell_type": "code",
   "execution_count": 42,
   "metadata": {},
   "outputs": [],
   "source": [
    "group_event.fillna(0, inplace=True)"
   ]
  },
  {
   "cell_type": "code",
   "execution_count": 43,
   "metadata": {},
   "outputs": [
    {
     "data": {
      "text/plain": [
       "621001"
      ]
     },
     "execution_count": 43,
     "metadata": {},
     "output_type": "execute_result"
    }
   ],
   "source": [
    "len(group_event)"
   ]
  },
  {
   "cell_type": "markdown",
   "metadata": {},
   "source": [
    "## Aggregate last 7 and 14 days event data per user"
   ]
  },
  {
   "cell_type": "code",
   "execution_count": 45,
   "metadata": {},
   "outputs": [],
   "source": [
    "group_event_7 = last_7_events.groupby('user_id_hash')['event_value'].agg(['sum', 'mean', 'count'])\\\n",
    "            .rename(columns={'sum': 'sum_event_7', 'mean': 'mean_event_value_7', 'count': 'count_event_7'})\n",
    "\n",
    "group_event_14 = last_14_events.groupby('user_id_hash')['event_value'].agg(['sum', 'mean', 'count'])\\\n",
    "            .rename(columns={'sum': 'sum_event_14', 'mean': 'mean_event_value_14', 'count': 'count_event_14'})\n"
   ]
  },
  {
   "cell_type": "code",
   "execution_count": 46,
   "metadata": {},
   "outputs": [],
   "source": [
    "group_event_7.fillna(0, inplace=True)\n",
    "group_event_14.fillna(0, inplace=True)"
   ]
  },
  {
   "cell_type": "markdown",
   "metadata": {},
   "source": [
    "## Aggregate Session Data"
   ]
  },
  {
   "cell_type": "code",
   "execution_count": 47,
   "metadata": {},
   "outputs": [
    {
     "data": {
      "text/html": [
       "<div>\n",
       "<style scoped>\n",
       "    .dataframe tbody tr th:only-of-type {\n",
       "        vertical-align: middle;\n",
       "    }\n",
       "\n",
       "    .dataframe tbody tr th {\n",
       "        vertical-align: top;\n",
       "    }\n",
       "\n",
       "    .dataframe thead th {\n",
       "        text-align: right;\n",
       "    }\n",
       "</style>\n",
       "<table border=\"1\" class=\"dataframe\">\n",
       "  <thead>\n",
       "    <tr style=\"text-align: right;\">\n",
       "      <th></th>\n",
       "      <th>session_id</th>\n",
       "      <th>start_timestamp</th>\n",
       "      <th>timezone</th>\n",
       "      <th>previous_sessions_duration</th>\n",
       "      <th>user_created_timestamp</th>\n",
       "      <th>is_user_first_session</th>\n",
       "      <th>is_session</th>\n",
       "      <th>is_developer</th>\n",
       "      <th>is_wau</th>\n",
       "      <th>is_mau</th>\n",
       "      <th>country</th>\n",
       "      <th>region</th>\n",
       "      <th>city</th>\n",
       "      <th>os_name</th>\n",
       "      <th>session_index</th>\n",
       "      <th>user_id_hash</th>\n",
       "    </tr>\n",
       "  </thead>\n",
       "  <tbody>\n",
       "    <tr>\n",
       "      <th>0</th>\n",
       "      <td>5558845121177764917</td>\n",
       "      <td>2018-11-14 17:09:24.580</td>\n",
       "      <td>Asia/Manila</td>\n",
       "      <td>25837591</td>\n",
       "      <td>1538874289458</td>\n",
       "      <td>False</td>\n",
       "      <td>True</td>\n",
       "      <td>False</td>\n",
       "      <td>False</td>\n",
       "      <td>False</td>\n",
       "      <td>PH</td>\n",
       "      <td>00</td>\n",
       "      <td>makati</td>\n",
       "      <td>Android OS</td>\n",
       "      <td>30</td>\n",
       "      <td>9943447915df3a45fd6720a026af905b6da6b56a37701b...</td>\n",
       "    </tr>\n",
       "    <tr>\n",
       "      <th>1</th>\n",
       "      <td>2201961907282901522</td>\n",
       "      <td>2018-12-02 01:09:37.293</td>\n",
       "      <td>Asia/Manila</td>\n",
       "      <td>35050130</td>\n",
       "      <td>1538874289458</td>\n",
       "      <td>False</td>\n",
       "      <td>True</td>\n",
       "      <td>False</td>\n",
       "      <td>False</td>\n",
       "      <td>False</td>\n",
       "      <td>PH</td>\n",
       "      <td>00</td>\n",
       "      <td>quezon city</td>\n",
       "      <td>Android OS</td>\n",
       "      <td>47</td>\n",
       "      <td>9943447915df3a45fd6720a026af905b6da6b56a37701b...</td>\n",
       "    </tr>\n",
       "    <tr>\n",
       "      <th>2</th>\n",
       "      <td>18781111175537580</td>\n",
       "      <td>2018-10-10 23:52:48.666</td>\n",
       "      <td>Asia/Manila</td>\n",
       "      <td>11343848</td>\n",
       "      <td>1538874289458</td>\n",
       "      <td>False</td>\n",
       "      <td>True</td>\n",
       "      <td>False</td>\n",
       "      <td>False</td>\n",
       "      <td>False</td>\n",
       "      <td>PH</td>\n",
       "      <td>00</td>\n",
       "      <td>makati</td>\n",
       "      <td>Android OS</td>\n",
       "      <td>10</td>\n",
       "      <td>9943447915df3a45fd6720a026af905b6da6b56a37701b...</td>\n",
       "    </tr>\n",
       "    <tr>\n",
       "      <th>3</th>\n",
       "      <td>1477540082628742048</td>\n",
       "      <td>2018-10-21 11:19:03.010</td>\n",
       "      <td>Asia/Manila</td>\n",
       "      <td>13499724</td>\n",
       "      <td>1538874289458</td>\n",
       "      <td>False</td>\n",
       "      <td>True</td>\n",
       "      <td>False</td>\n",
       "      <td>False</td>\n",
       "      <td>False</td>\n",
       "      <td>PH</td>\n",
       "      <td>11</td>\n",
       "      <td>davao city</td>\n",
       "      <td>Android OS</td>\n",
       "      <td>13</td>\n",
       "      <td>9943447915df3a45fd6720a026af905b6da6b56a37701b...</td>\n",
       "    </tr>\n",
       "    <tr>\n",
       "      <th>4</th>\n",
       "      <td>8184875317380844086</td>\n",
       "      <td>2018-11-19 23:53:45.528</td>\n",
       "      <td>Asia/Manila</td>\n",
       "      <td>32788010</td>\n",
       "      <td>1538874289458</td>\n",
       "      <td>False</td>\n",
       "      <td>True</td>\n",
       "      <td>False</td>\n",
       "      <td>False</td>\n",
       "      <td>False</td>\n",
       "      <td>PH</td>\n",
       "      <td>00</td>\n",
       "      <td>makati</td>\n",
       "      <td>Android OS</td>\n",
       "      <td>41</td>\n",
       "      <td>9943447915df3a45fd6720a026af905b6da6b56a37701b...</td>\n",
       "    </tr>\n",
       "  </tbody>\n",
       "</table>\n",
       "</div>"
      ],
      "text/plain": [
       "            session_id         start_timestamp     timezone  \\\n",
       "0  5558845121177764917 2018-11-14 17:09:24.580  Asia/Manila   \n",
       "1  2201961907282901522 2018-12-02 01:09:37.293  Asia/Manila   \n",
       "2    18781111175537580 2018-10-10 23:52:48.666  Asia/Manila   \n",
       "3  1477540082628742048 2018-10-21 11:19:03.010  Asia/Manila   \n",
       "4  8184875317380844086 2018-11-19 23:53:45.528  Asia/Manila   \n",
       "\n",
       "   previous_sessions_duration  user_created_timestamp  is_user_first_session  \\\n",
       "0                    25837591           1538874289458                  False   \n",
       "1                    35050130           1538874289458                  False   \n",
       "2                    11343848           1538874289458                  False   \n",
       "3                    13499724           1538874289458                  False   \n",
       "4                    32788010           1538874289458                  False   \n",
       "\n",
       "   is_session  is_developer  is_wau  is_mau country region         city  \\\n",
       "0        True         False   False   False      PH     00       makati   \n",
       "1        True         False   False   False      PH     00  quezon city   \n",
       "2        True         False   False   False      PH     00       makati   \n",
       "3        True         False   False   False      PH     11   davao city   \n",
       "4        True         False   False   False      PH     00       makati   \n",
       "\n",
       "      os_name  session_index  \\\n",
       "0  Android OS             30   \n",
       "1  Android OS             47   \n",
       "2  Android OS             10   \n",
       "3  Android OS             13   \n",
       "4  Android OS             41   \n",
       "\n",
       "                                        user_id_hash  \n",
       "0  9943447915df3a45fd6720a026af905b6da6b56a37701b...  \n",
       "1  9943447915df3a45fd6720a026af905b6da6b56a37701b...  \n",
       "2  9943447915df3a45fd6720a026af905b6da6b56a37701b...  \n",
       "3  9943447915df3a45fd6720a026af905b6da6b56a37701b...  \n",
       "4  9943447915df3a45fd6720a026af905b6da6b56a37701b...  "
      ]
     },
     "execution_count": 47,
     "metadata": {},
     "output_type": "execute_result"
    }
   ],
   "source": [
    "sessions.head()"
   ]
  },
  {
   "cell_type": "code",
   "execution_count": 48,
   "metadata": {},
   "outputs": [],
   "source": [
    "sessions_data = sessions.loc[sessions.start_timestamp < '2018-12-01 00:00']"
   ]
  },
  {
   "cell_type": "code",
   "execution_count": 49,
   "metadata": {},
   "outputs": [],
   "source": [
    "grouped = sessions_data.groupby('user_id_hash')\n",
    "user_agg = grouped['previous_sessions_duration'].agg(['sum', 'mean', 'count'])\\\n",
    "                   .rename(columns={'sum': 'sum_duration', 'mean': 'mean_duration', 'count': 'count_session'})"
   ]
  },
  {
   "cell_type": "code",
   "execution_count": 50,
   "metadata": {},
   "outputs": [],
   "source": [
    "user_agg.fillna(0, inplace=True)"
   ]
  },
  {
   "cell_type": "code",
   "execution_count": 51,
   "metadata": {},
   "outputs": [
    {
     "data": {
      "text/plain": [
       "621106"
      ]
     },
     "execution_count": 51,
     "metadata": {},
     "output_type": "execute_result"
    }
   ],
   "source": [
    "len(user_agg)"
   ]
  },
  {
   "cell_type": "markdown",
   "metadata": {},
   "source": [
    "## Aggregate last 7 and 14 days Session Data"
   ]
  },
  {
   "cell_type": "code",
   "execution_count": 52,
   "metadata": {},
   "outputs": [],
   "source": [
    "last_7_sessions = sessions.loc[(sessions.start_timestamp < '2018-12-01 00:00') & (sessions.start_timestamp > '2018-11-24 00:00')]\n",
    "last_14_sessions = sessions.loc[(sessions.start_timestamp < '2018-12-01 00:00') & (sessions.start_timestamp > '2018-11-17 00:00')]\n"
   ]
  },
  {
   "cell_type": "code",
   "execution_count": 53,
   "metadata": {},
   "outputs": [],
   "source": [
    "grouped_7 = last_7_sessions.groupby('user_id_hash')\n",
    "user_agg_7 = grouped_7['previous_sessions_duration'].agg(['sum', 'mean', 'count'])\\\n",
    "                   .rename(columns={'sum': 'sum_duration_7', 'mean': 'mean_duration_7', 'count': 'count_session_7'})\n",
    "\n",
    "grouped_14 = last_14_sessions.groupby('user_id_hash')\n",
    "user_agg_14 = grouped_14['previous_sessions_duration'].agg(['sum', 'mean', 'count'])\\\n",
    "                   .rename(columns={'sum': 'sum_duration_14', 'mean': 'mean_duration_14', 'count': 'count_session_14'})\n"
   ]
  },
  {
   "cell_type": "code",
   "execution_count": 54,
   "metadata": {},
   "outputs": [],
   "source": [
    "user_agg_7.fillna(0, inplace=True)\n",
    "user_agg_14.fillna(0, inplace=True)"
   ]
  },
  {
   "cell_type": "markdown",
   "metadata": {},
   "source": [
    "## One-Hot Encoding on OS name"
   ]
  },
  {
   "cell_type": "code",
   "execution_count": 55,
   "metadata": {},
   "outputs": [
    {
     "data": {
      "text/plain": [
       "Android OS    3360427\n",
       "iOS           1766212\n",
       "iPhone OS       39083\n",
       "Name: os_name, dtype: int64"
      ]
     },
     "execution_count": 55,
     "metadata": {},
     "output_type": "execute_result"
    }
   ],
   "source": [
    "sessions.os_name.value_counts()"
   ]
  },
  {
   "cell_type": "code",
   "execution_count": 56,
   "metadata": {},
   "outputs": [],
   "source": [
    "sessions.os_name.fillna('Android OS', inplace=True)\n",
    "sessions.loc[sessions.os_name=='iPhone OS', 'os_name'] = 'iOS'"
   ]
  },
  {
   "cell_type": "code",
   "execution_count": 57,
   "metadata": {},
   "outputs": [
    {
     "data": {
      "text/plain": [
       "Android OS    3360435\n",
       "iOS           1805295\n",
       "iPhone OS           0\n",
       "Name: os_name, dtype: int64"
      ]
     },
     "execution_count": 57,
     "metadata": {},
     "output_type": "execute_result"
    }
   ],
   "source": [
    "sessions.os_name.value_counts()"
   ]
  },
  {
   "cell_type": "code",
   "execution_count": 58,
   "metadata": {},
   "outputs": [],
   "source": [
    "user_os = sessions.groupby('user_id_hash')['os_name'].first()"
   ]
  },
  {
   "cell_type": "code",
   "execution_count": 59,
   "metadata": {},
   "outputs": [],
   "source": [
    "user_os = user_os.to_frame()"
   ]
  },
  {
   "cell_type": "code",
   "execution_count": 60,
   "metadata": {},
   "outputs": [
    {
     "data": {
      "text/html": [
       "<div>\n",
       "<style scoped>\n",
       "    .dataframe tbody tr th:only-of-type {\n",
       "        vertical-align: middle;\n",
       "    }\n",
       "\n",
       "    .dataframe tbody tr th {\n",
       "        vertical-align: top;\n",
       "    }\n",
       "\n",
       "    .dataframe thead th {\n",
       "        text-align: right;\n",
       "    }\n",
       "</style>\n",
       "<table border=\"1\" class=\"dataframe\">\n",
       "  <thead>\n",
       "    <tr style=\"text-align: right;\">\n",
       "      <th></th>\n",
       "      <th>os_name</th>\n",
       "    </tr>\n",
       "    <tr>\n",
       "      <th>user_id_hash</th>\n",
       "      <th></th>\n",
       "    </tr>\n",
       "  </thead>\n",
       "  <tbody>\n",
       "    <tr>\n",
       "      <th>0013ae7e9f73194aeb0d350f1de1f441625825efe403c4c7d0a93c304fbf206f</th>\n",
       "      <td>Android OS</td>\n",
       "    </tr>\n",
       "    <tr>\n",
       "      <th>0025a6c398e0ec7c471342188141853877f94a76b5127031cc673627dfa921de</th>\n",
       "      <td>iOS</td>\n",
       "    </tr>\n",
       "    <tr>\n",
       "      <th>002e3b6443aef897fc35486e072c5781d087943cdb9dff9fbe4eb39d525cc061</th>\n",
       "      <td>iOS</td>\n",
       "    </tr>\n",
       "    <tr>\n",
       "      <th>002e447aed33ed4c51a68743cc293ef2148058b6a6239e37d013cc6dc49bdfdf</th>\n",
       "      <td>iOS</td>\n",
       "    </tr>\n",
       "    <tr>\n",
       "      <th>005c9d79cf18efc6c8b5fa767964b1def9b8e2f8abd23f453310f60d69584a9f</th>\n",
       "      <td>Android OS</td>\n",
       "    </tr>\n",
       "  </tbody>\n",
       "</table>\n",
       "</div>"
      ],
      "text/plain": [
       "                                                       os_name\n",
       "user_id_hash                                                  \n",
       "0013ae7e9f73194aeb0d350f1de1f441625825efe403c4c...  Android OS\n",
       "0025a6c398e0ec7c471342188141853877f94a76b512703...         iOS\n",
       "002e3b6443aef897fc35486e072c5781d087943cdb9dff9...         iOS\n",
       "002e447aed33ed4c51a68743cc293ef2148058b6a6239e3...         iOS\n",
       "005c9d79cf18efc6c8b5fa767964b1def9b8e2f8abd23f4...  Android OS"
      ]
     },
     "execution_count": 60,
     "metadata": {},
     "output_type": "execute_result"
    }
   ],
   "source": [
    "user_os.head()"
   ]
  },
  {
   "cell_type": "code",
   "execution_count": 61,
   "metadata": {},
   "outputs": [],
   "source": [
    "os_enc = pd.get_dummies(user_os.os_name)"
   ]
  },
  {
   "cell_type": "code",
   "execution_count": 62,
   "metadata": {},
   "outputs": [
    {
     "data": {
      "text/html": [
       "<div>\n",
       "<style scoped>\n",
       "    .dataframe tbody tr th:only-of-type {\n",
       "        vertical-align: middle;\n",
       "    }\n",
       "\n",
       "    .dataframe tbody tr th {\n",
       "        vertical-align: top;\n",
       "    }\n",
       "\n",
       "    .dataframe thead th {\n",
       "        text-align: right;\n",
       "    }\n",
       "</style>\n",
       "<table border=\"1\" class=\"dataframe\">\n",
       "  <thead>\n",
       "    <tr style=\"text-align: right;\">\n",
       "      <th></th>\n",
       "      <th>Android OS</th>\n",
       "      <th>iOS</th>\n",
       "    </tr>\n",
       "    <tr>\n",
       "      <th>user_id_hash</th>\n",
       "      <th></th>\n",
       "      <th></th>\n",
       "    </tr>\n",
       "  </thead>\n",
       "  <tbody>\n",
       "    <tr>\n",
       "      <th>0013ae7e9f73194aeb0d350f1de1f441625825efe403c4c7d0a93c304fbf206f</th>\n",
       "      <td>1</td>\n",
       "      <td>0</td>\n",
       "    </tr>\n",
       "    <tr>\n",
       "      <th>0025a6c398e0ec7c471342188141853877f94a76b5127031cc673627dfa921de</th>\n",
       "      <td>0</td>\n",
       "      <td>1</td>\n",
       "    </tr>\n",
       "    <tr>\n",
       "      <th>002e3b6443aef897fc35486e072c5781d087943cdb9dff9fbe4eb39d525cc061</th>\n",
       "      <td>0</td>\n",
       "      <td>1</td>\n",
       "    </tr>\n",
       "    <tr>\n",
       "      <th>002e447aed33ed4c51a68743cc293ef2148058b6a6239e37d013cc6dc49bdfdf</th>\n",
       "      <td>0</td>\n",
       "      <td>1</td>\n",
       "    </tr>\n",
       "    <tr>\n",
       "      <th>005c9d79cf18efc6c8b5fa767964b1def9b8e2f8abd23f453310f60d69584a9f</th>\n",
       "      <td>1</td>\n",
       "      <td>0</td>\n",
       "    </tr>\n",
       "  </tbody>\n",
       "</table>\n",
       "</div>"
      ],
      "text/plain": [
       "                                                    Android OS  iOS\n",
       "user_id_hash                                                       \n",
       "0013ae7e9f73194aeb0d350f1de1f441625825efe403c4c...           1    0\n",
       "0025a6c398e0ec7c471342188141853877f94a76b512703...           0    1\n",
       "002e3b6443aef897fc35486e072c5781d087943cdb9dff9...           0    1\n",
       "002e447aed33ed4c51a68743cc293ef2148058b6a6239e3...           0    1\n",
       "005c9d79cf18efc6c8b5fa767964b1def9b8e2f8abd23f4...           1    0"
      ]
     },
     "execution_count": 62,
     "metadata": {},
     "output_type": "execute_result"
    }
   ],
   "source": [
    "os_enc.head()"
   ]
  },
  {
   "cell_type": "raw",
   "metadata": {},
   "source": [
    "purchase_count, purchase_value, pur_npur_ratio, group_event\n",
    "user_agg"
   ]
  },
  {
   "cell_type": "markdown",
   "metadata": {},
   "source": [
    "## Train Test Split"
   ]
  },
  {
   "cell_type": "code",
   "execution_count": 69,
   "metadata": {},
   "outputs": [],
   "source": [
    "from sklearn.linear_model import LogisticRegression\n",
    "from sklearn.ensemble import RandomForestClassifier\n",
    "from sklearn.model_selection import train_test_split\n",
    "from sklearn.metrics import classification_report\n",
    "from sklearn import metrics\n",
    "from functools import reduce"
   ]
  },
  {
   "cell_type": "code",
   "execution_count": 70,
   "metadata": {},
   "outputs": [],
   "source": [
    "dfs = [pur_npur_ratio, os_enc, purchase_count, purchase_count_7, purchase_count_14, \n",
    "       purchase_value, purchase_value_7, purchase_value_14, \n",
    "       group_event, group_event_7, group_event_14, user_agg, user_agg_7, user_agg_14, target_df]"
   ]
  },
  {
   "cell_type": "code",
   "execution_count": 71,
   "metadata": {},
   "outputs": [],
   "source": [
    "df = reduce(lambda left,right: pd.merge(left,right,on='user_id_hash'), dfs)"
   ]
  },
  {
   "cell_type": "code",
   "execution_count": 72,
   "metadata": {},
   "outputs": [
    {
     "data": {
      "text/html": [
       "<div>\n",
       "<style scoped>\n",
       "    .dataframe tbody tr th:only-of-type {\n",
       "        vertical-align: middle;\n",
       "    }\n",
       "\n",
       "    .dataframe tbody tr th {\n",
       "        vertical-align: top;\n",
       "    }\n",
       "\n",
       "    .dataframe thead th {\n",
       "        text-align: right;\n",
       "    }\n",
       "</style>\n",
       "<table border=\"1\" class=\"dataframe\">\n",
       "  <thead>\n",
       "    <tr style=\"text-align: right;\">\n",
       "      <th></th>\n",
       "      <th>user_id_hash</th>\n",
       "      <th>ratio</th>\n",
       "      <th>Android OS</th>\n",
       "      <th>iOS</th>\n",
       "      <th>purchase_count</th>\n",
       "      <th>purchase_count_7</th>\n",
       "      <th>purchase_count_14</th>\n",
       "      <th>sum_value</th>\n",
       "      <th>mean_value</th>\n",
       "      <th>sum_value_7</th>\n",
       "      <th>...</th>\n",
       "      <th>mean_duration</th>\n",
       "      <th>count_session</th>\n",
       "      <th>sum_duration_7</th>\n",
       "      <th>mean_duration_7</th>\n",
       "      <th>count_session_7</th>\n",
       "      <th>sum_duration_14</th>\n",
       "      <th>mean_duration_14</th>\n",
       "      <th>count_session_14</th>\n",
       "      <th>one_week_purchase</th>\n",
       "      <th>two_week_purchase</th>\n",
       "    </tr>\n",
       "  </thead>\n",
       "  <tbody>\n",
       "    <tr>\n",
       "      <th>0</th>\n",
       "      <td>002e447aed33ed4c51a68743cc293ef2148058b6a6239e...</td>\n",
       "      <td>0.0</td>\n",
       "      <td>0</td>\n",
       "      <td>1</td>\n",
       "      <td>0</td>\n",
       "      <td>0</td>\n",
       "      <td>0</td>\n",
       "      <td>0.0</td>\n",
       "      <td>0.0</td>\n",
       "      <td>0.0</td>\n",
       "      <td>...</td>\n",
       "      <td>1889284.25</td>\n",
       "      <td>4</td>\n",
       "      <td>0.0</td>\n",
       "      <td>0.0</td>\n",
       "      <td>0</td>\n",
       "      <td>0.0</td>\n",
       "      <td>0.0</td>\n",
       "      <td>0</td>\n",
       "      <td>False</td>\n",
       "      <td>False</td>\n",
       "    </tr>\n",
       "    <tr>\n",
       "      <th>1</th>\n",
       "      <td>005c9d79cf18efc6c8b5fa767964b1def9b8e2f8abd23f...</td>\n",
       "      <td>0.0</td>\n",
       "      <td>1</td>\n",
       "      <td>0</td>\n",
       "      <td>0</td>\n",
       "      <td>0</td>\n",
       "      <td>0</td>\n",
       "      <td>0.0</td>\n",
       "      <td>0.0</td>\n",
       "      <td>0.0</td>\n",
       "      <td>...</td>\n",
       "      <td>0.00</td>\n",
       "      <td>1</td>\n",
       "      <td>0.0</td>\n",
       "      <td>0.0</td>\n",
       "      <td>0</td>\n",
       "      <td>0.0</td>\n",
       "      <td>0.0</td>\n",
       "      <td>0</td>\n",
       "      <td>False</td>\n",
       "      <td>False</td>\n",
       "    </tr>\n",
       "    <tr>\n",
       "      <th>2</th>\n",
       "      <td>0061b4d30e8a9935b2ebeec954ff509b4f0cb500cd725c...</td>\n",
       "      <td>0.0</td>\n",
       "      <td>0</td>\n",
       "      <td>1</td>\n",
       "      <td>0</td>\n",
       "      <td>0</td>\n",
       "      <td>0</td>\n",
       "      <td>0.0</td>\n",
       "      <td>0.0</td>\n",
       "      <td>0.0</td>\n",
       "      <td>...</td>\n",
       "      <td>0.00</td>\n",
       "      <td>1</td>\n",
       "      <td>0.0</td>\n",
       "      <td>0.0</td>\n",
       "      <td>0</td>\n",
       "      <td>0.0</td>\n",
       "      <td>0.0</td>\n",
       "      <td>0</td>\n",
       "      <td>False</td>\n",
       "      <td>False</td>\n",
       "    </tr>\n",
       "    <tr>\n",
       "      <th>3</th>\n",
       "      <td>00fbbf507c7d3c2f259cd3329d241c29d35712e2d4699f...</td>\n",
       "      <td>0.0</td>\n",
       "      <td>0</td>\n",
       "      <td>1</td>\n",
       "      <td>0</td>\n",
       "      <td>0</td>\n",
       "      <td>0</td>\n",
       "      <td>0.0</td>\n",
       "      <td>0.0</td>\n",
       "      <td>0.0</td>\n",
       "      <td>...</td>\n",
       "      <td>645705.50</td>\n",
       "      <td>2</td>\n",
       "      <td>0.0</td>\n",
       "      <td>0.0</td>\n",
       "      <td>0</td>\n",
       "      <td>0.0</td>\n",
       "      <td>0.0</td>\n",
       "      <td>0</td>\n",
       "      <td>False</td>\n",
       "      <td>False</td>\n",
       "    </tr>\n",
       "    <tr>\n",
       "      <th>4</th>\n",
       "      <td>0107a0017873efc2dea9a9155832363ceacf6fe97bd428...</td>\n",
       "      <td>0.0</td>\n",
       "      <td>0</td>\n",
       "      <td>1</td>\n",
       "      <td>0</td>\n",
       "      <td>0</td>\n",
       "      <td>0</td>\n",
       "      <td>0.0</td>\n",
       "      <td>0.0</td>\n",
       "      <td>0.0</td>\n",
       "      <td>...</td>\n",
       "      <td>0.00</td>\n",
       "      <td>1</td>\n",
       "      <td>0.0</td>\n",
       "      <td>0.0</td>\n",
       "      <td>0</td>\n",
       "      <td>0.0</td>\n",
       "      <td>0.0</td>\n",
       "      <td>0</td>\n",
       "      <td>False</td>\n",
       "      <td>False</td>\n",
       "    </tr>\n",
       "  </tbody>\n",
       "</table>\n",
       "<p>5 rows × 33 columns</p>\n",
       "</div>"
      ],
      "text/plain": [
       "                                        user_id_hash  ratio  Android OS  iOS  \\\n",
       "0  002e447aed33ed4c51a68743cc293ef2148058b6a6239e...    0.0           0    1   \n",
       "1  005c9d79cf18efc6c8b5fa767964b1def9b8e2f8abd23f...    0.0           1    0   \n",
       "2  0061b4d30e8a9935b2ebeec954ff509b4f0cb500cd725c...    0.0           0    1   \n",
       "3  00fbbf507c7d3c2f259cd3329d241c29d35712e2d4699f...    0.0           0    1   \n",
       "4  0107a0017873efc2dea9a9155832363ceacf6fe97bd428...    0.0           0    1   \n",
       "\n",
       "   purchase_count  purchase_count_7  purchase_count_14  sum_value  mean_value  \\\n",
       "0               0                 0                  0        0.0         0.0   \n",
       "1               0                 0                  0        0.0         0.0   \n",
       "2               0                 0                  0        0.0         0.0   \n",
       "3               0                 0                  0        0.0         0.0   \n",
       "4               0                 0                  0        0.0         0.0   \n",
       "\n",
       "   sum_value_7        ...          mean_duration  count_session  \\\n",
       "0          0.0        ...             1889284.25              4   \n",
       "1          0.0        ...                   0.00              1   \n",
       "2          0.0        ...                   0.00              1   \n",
       "3          0.0        ...              645705.50              2   \n",
       "4          0.0        ...                   0.00              1   \n",
       "\n",
       "   sum_duration_7  mean_duration_7  count_session_7  sum_duration_14  \\\n",
       "0             0.0              0.0                0              0.0   \n",
       "1             0.0              0.0                0              0.0   \n",
       "2             0.0              0.0                0              0.0   \n",
       "3             0.0              0.0                0              0.0   \n",
       "4             0.0              0.0                0              0.0   \n",
       "\n",
       "   mean_duration_14  count_session_14  one_week_purchase  two_week_purchase  \n",
       "0               0.0                 0              False              False  \n",
       "1               0.0                 0              False              False  \n",
       "2               0.0                 0              False              False  \n",
       "3               0.0                 0              False              False  \n",
       "4               0.0                 0              False              False  \n",
       "\n",
       "[5 rows x 33 columns]"
      ]
     },
     "execution_count": 72,
     "metadata": {},
     "output_type": "execute_result"
    }
   ],
   "source": [
    "df.head()"
   ]
  },
  {
   "cell_type": "code",
   "execution_count": 73,
   "metadata": {},
   "outputs": [],
   "source": [
    "X = df.iloc[:,1:-2]\n",
    "y_7 = df['one_week_purchase']\n",
    "y_14 = df['two_week_purchase']"
   ]
  },
  {
   "cell_type": "code",
   "execution_count": 74,
   "metadata": {},
   "outputs": [
    {
     "data": {
      "text/html": [
       "<div>\n",
       "<style scoped>\n",
       "    .dataframe tbody tr th:only-of-type {\n",
       "        vertical-align: middle;\n",
       "    }\n",
       "\n",
       "    .dataframe tbody tr th {\n",
       "        vertical-align: top;\n",
       "    }\n",
       "\n",
       "    .dataframe thead th {\n",
       "        text-align: right;\n",
       "    }\n",
       "</style>\n",
       "<table border=\"1\" class=\"dataframe\">\n",
       "  <thead>\n",
       "    <tr style=\"text-align: right;\">\n",
       "      <th></th>\n",
       "      <th>ratio</th>\n",
       "      <th>Android OS</th>\n",
       "      <th>iOS</th>\n",
       "      <th>purchase_count</th>\n",
       "      <th>purchase_count_7</th>\n",
       "      <th>purchase_count_14</th>\n",
       "      <th>sum_value</th>\n",
       "      <th>mean_value</th>\n",
       "      <th>sum_value_7</th>\n",
       "      <th>mean_value_7</th>\n",
       "      <th>...</th>\n",
       "      <th>count_event_14</th>\n",
       "      <th>sum_duration</th>\n",
       "      <th>mean_duration</th>\n",
       "      <th>count_session</th>\n",
       "      <th>sum_duration_7</th>\n",
       "      <th>mean_duration_7</th>\n",
       "      <th>count_session_7</th>\n",
       "      <th>sum_duration_14</th>\n",
       "      <th>mean_duration_14</th>\n",
       "      <th>count_session_14</th>\n",
       "    </tr>\n",
       "  </thead>\n",
       "  <tbody>\n",
       "    <tr>\n",
       "      <th>0</th>\n",
       "      <td>0.0</td>\n",
       "      <td>0</td>\n",
       "      <td>1</td>\n",
       "      <td>0</td>\n",
       "      <td>0</td>\n",
       "      <td>0</td>\n",
       "      <td>0.0</td>\n",
       "      <td>0.0</td>\n",
       "      <td>0.0</td>\n",
       "      <td>0.0</td>\n",
       "      <td>...</td>\n",
       "      <td>0</td>\n",
       "      <td>7557137.0</td>\n",
       "      <td>1889284.25</td>\n",
       "      <td>4</td>\n",
       "      <td>0.0</td>\n",
       "      <td>0.0</td>\n",
       "      <td>0</td>\n",
       "      <td>0.0</td>\n",
       "      <td>0.0</td>\n",
       "      <td>0</td>\n",
       "    </tr>\n",
       "    <tr>\n",
       "      <th>1</th>\n",
       "      <td>0.0</td>\n",
       "      <td>1</td>\n",
       "      <td>0</td>\n",
       "      <td>0</td>\n",
       "      <td>0</td>\n",
       "      <td>0</td>\n",
       "      <td>0.0</td>\n",
       "      <td>0.0</td>\n",
       "      <td>0.0</td>\n",
       "      <td>0.0</td>\n",
       "      <td>...</td>\n",
       "      <td>0</td>\n",
       "      <td>0.0</td>\n",
       "      <td>0.00</td>\n",
       "      <td>1</td>\n",
       "      <td>0.0</td>\n",
       "      <td>0.0</td>\n",
       "      <td>0</td>\n",
       "      <td>0.0</td>\n",
       "      <td>0.0</td>\n",
       "      <td>0</td>\n",
       "    </tr>\n",
       "    <tr>\n",
       "      <th>2</th>\n",
       "      <td>0.0</td>\n",
       "      <td>0</td>\n",
       "      <td>1</td>\n",
       "      <td>0</td>\n",
       "      <td>0</td>\n",
       "      <td>0</td>\n",
       "      <td>0.0</td>\n",
       "      <td>0.0</td>\n",
       "      <td>0.0</td>\n",
       "      <td>0.0</td>\n",
       "      <td>...</td>\n",
       "      <td>0</td>\n",
       "      <td>0.0</td>\n",
       "      <td>0.00</td>\n",
       "      <td>1</td>\n",
       "      <td>0.0</td>\n",
       "      <td>0.0</td>\n",
       "      <td>0</td>\n",
       "      <td>0.0</td>\n",
       "      <td>0.0</td>\n",
       "      <td>0</td>\n",
       "    </tr>\n",
       "    <tr>\n",
       "      <th>3</th>\n",
       "      <td>0.0</td>\n",
       "      <td>0</td>\n",
       "      <td>1</td>\n",
       "      <td>0</td>\n",
       "      <td>0</td>\n",
       "      <td>0</td>\n",
       "      <td>0.0</td>\n",
       "      <td>0.0</td>\n",
       "      <td>0.0</td>\n",
       "      <td>0.0</td>\n",
       "      <td>...</td>\n",
       "      <td>0</td>\n",
       "      <td>1291411.0</td>\n",
       "      <td>645705.50</td>\n",
       "      <td>2</td>\n",
       "      <td>0.0</td>\n",
       "      <td>0.0</td>\n",
       "      <td>0</td>\n",
       "      <td>0.0</td>\n",
       "      <td>0.0</td>\n",
       "      <td>0</td>\n",
       "    </tr>\n",
       "    <tr>\n",
       "      <th>4</th>\n",
       "      <td>0.0</td>\n",
       "      <td>0</td>\n",
       "      <td>1</td>\n",
       "      <td>0</td>\n",
       "      <td>0</td>\n",
       "      <td>0</td>\n",
       "      <td>0.0</td>\n",
       "      <td>0.0</td>\n",
       "      <td>0.0</td>\n",
       "      <td>0.0</td>\n",
       "      <td>...</td>\n",
       "      <td>0</td>\n",
       "      <td>0.0</td>\n",
       "      <td>0.00</td>\n",
       "      <td>1</td>\n",
       "      <td>0.0</td>\n",
       "      <td>0.0</td>\n",
       "      <td>0</td>\n",
       "      <td>0.0</td>\n",
       "      <td>0.0</td>\n",
       "      <td>0</td>\n",
       "    </tr>\n",
       "  </tbody>\n",
       "</table>\n",
       "<p>5 rows × 30 columns</p>\n",
       "</div>"
      ],
      "text/plain": [
       "   ratio  Android OS  iOS  purchase_count  purchase_count_7  \\\n",
       "0    0.0           0    1               0                 0   \n",
       "1    0.0           1    0               0                 0   \n",
       "2    0.0           0    1               0                 0   \n",
       "3    0.0           0    1               0                 0   \n",
       "4    0.0           0    1               0                 0   \n",
       "\n",
       "   purchase_count_14  sum_value  mean_value  sum_value_7  mean_value_7  \\\n",
       "0                  0        0.0         0.0          0.0           0.0   \n",
       "1                  0        0.0         0.0          0.0           0.0   \n",
       "2                  0        0.0         0.0          0.0           0.0   \n",
       "3                  0        0.0         0.0          0.0           0.0   \n",
       "4                  0        0.0         0.0          0.0           0.0   \n",
       "\n",
       "         ...         count_event_14  sum_duration  mean_duration  \\\n",
       "0        ...                      0     7557137.0     1889284.25   \n",
       "1        ...                      0           0.0           0.00   \n",
       "2        ...                      0           0.0           0.00   \n",
       "3        ...                      0     1291411.0      645705.50   \n",
       "4        ...                      0           0.0           0.00   \n",
       "\n",
       "   count_session  sum_duration_7  mean_duration_7  count_session_7  \\\n",
       "0              4             0.0              0.0                0   \n",
       "1              1             0.0              0.0                0   \n",
       "2              1             0.0              0.0                0   \n",
       "3              2             0.0              0.0                0   \n",
       "4              1             0.0              0.0                0   \n",
       "\n",
       "   sum_duration_14  mean_duration_14  count_session_14  \n",
       "0              0.0               0.0                 0  \n",
       "1              0.0               0.0                 0  \n",
       "2              0.0               0.0                 0  \n",
       "3              0.0               0.0                 0  \n",
       "4              0.0               0.0                 0  \n",
       "\n",
       "[5 rows x 30 columns]"
      ]
     },
     "execution_count": 74,
     "metadata": {},
     "output_type": "execute_result"
    }
   ],
   "source": [
    "X.head()"
   ]
  },
  {
   "cell_type": "code",
   "execution_count": 75,
   "metadata": {},
   "outputs": [],
   "source": [
    "X_train_7, X_test_7, y_train_7, y_test_7 = train_test_split(X, y_7, test_size=0.2, random_state=42)\n",
    "X_train_14, X_test_14, y_train_14, y_test_14 = train_test_split(X, y_14, test_size=0.2, random_state=42)"
   ]
  },
  {
   "cell_type": "markdown",
   "metadata": {},
   "source": [
    "## Random Forest"
   ]
  },
  {
   "cell_type": "code",
   "execution_count": 58,
   "metadata": {},
   "outputs": [
    {
     "name": "stdout",
     "output_type": "stream",
     "text": [
      "              precision    recall  f1-score   support\n",
      "\n",
      "       False       1.00      0.99      1.00    124139\n",
      "        True       0.03      0.47      0.06        62\n",
      "\n",
      "   micro avg       0.99      0.99      0.99    124201\n",
      "   macro avg       0.52      0.73      0.53    124201\n",
      "weighted avg       1.00      0.99      1.00    124201\n",
      "\n"
     ]
    }
   ],
   "source": [
    "# rf_7 = RandomForestClassifier(n_estimators=200)\n",
    "# rf_7.fit(X_train_7, y_train_7)\n",
    "# print(classification_report(rf_7.predict(X_test_7), y_test_7))"
   ]
  },
  {
   "cell_type": "code",
   "execution_count": 59,
   "metadata": {},
   "outputs": [
    {
     "data": {
      "text/plain": [
       "0.8584580995984289"
      ]
     },
     "execution_count": 59,
     "metadata": {},
     "output_type": "execute_result"
    }
   ],
   "source": [
    "# proba_rf7 = [x[1] for x in rf_7.predict_proba(X_test_7)]\n",
    "# fpr, tpr, thresholds = metrics.roc_curve(y_test_7, proba_rf7)\n",
    "# metrics.auc(fpr, tpr)"
   ]
  },
  {
   "cell_type": "code",
   "execution_count": 76,
   "metadata": {},
   "outputs": [
    {
     "name": "stdout",
     "output_type": "stream",
     "text": [
      "              precision    recall  f1-score   support\n",
      "\n",
      "       False       1.00      0.99      1.00    123825\n",
      "        True       0.22      0.54      0.31       376\n",
      "\n",
      "   micro avg       0.99      0.99      0.99    124201\n",
      "   macro avg       0.61      0.77      0.65    124201\n",
      "weighted avg       1.00      0.99      0.99    124201\n",
      "\n"
     ]
    }
   ],
   "source": [
    "rf_7 = RandomForestClassifier(n_estimators=200)\n",
    "rf_7.fit(X_train_7, y_train_7)\n",
    "print(classification_report(rf_7.predict(X_test_7), y_test_7))"
   ]
  },
  {
   "cell_type": "code",
   "execution_count": 77,
   "metadata": {},
   "outputs": [
    {
     "data": {
      "text/plain": [
       "0.9184318950723183"
      ]
     },
     "execution_count": 77,
     "metadata": {},
     "output_type": "execute_result"
    }
   ],
   "source": [
    "proba_rf7 = [x[1] for x in rf_7.predict_proba(X_test_7)]\n",
    "fpr, tpr, thresholds = metrics.roc_curve(y_test_7, proba_rf7)\n",
    "metrics.auc(fpr, tpr)"
   ]
  },
  {
   "cell_type": "code",
   "execution_count": null,
   "metadata": {},
   "outputs": [],
   "source": []
  },
  {
   "cell_type": "code",
   "execution_count": 60,
   "metadata": {},
   "outputs": [
    {
     "name": "stdout",
     "output_type": "stream",
     "text": [
      "              precision    recall  f1-score   support\n",
      "\n",
      "       False       1.00      0.99      1.00    124108\n",
      "        True       0.04      0.47      0.07        93\n",
      "\n",
      "   micro avg       0.99      0.99      0.99    124201\n",
      "   macro avg       0.52      0.73      0.53    124201\n",
      "weighted avg       1.00      0.99      0.99    124201\n",
      "\n"
     ]
    }
   ],
   "source": [
    "# rf_14 = RandomForestClassifier(n_estimators=200)\n",
    "# rf_14.fit(X_train_14, y_train_14)\n",
    "# print(classification_report(rf_14.predict(X_test_14), y_test_14))"
   ]
  },
  {
   "cell_type": "code",
   "execution_count": 61,
   "metadata": {},
   "outputs": [
    {
     "data": {
      "text/plain": [
       "0.8505421345659745"
      ]
     },
     "execution_count": 61,
     "metadata": {},
     "output_type": "execute_result"
    }
   ],
   "source": [
    "# proba_rf14 = [x[1] for x in rf_14.predict_proba(X_test_14)]\n",
    "# fpr, tpr, thresholds = metrics.roc_curve(y_test_14, proba_rf14)\n",
    "# metrics.auc(fpr, tpr)"
   ]
  },
  {
   "cell_type": "code",
   "execution_count": 78,
   "metadata": {},
   "outputs": [
    {
     "name": "stdout",
     "output_type": "stream",
     "text": [
      "              precision    recall  f1-score   support\n",
      "\n",
      "       False       1.00      0.99      1.00    123657\n",
      "        True       0.25      0.56      0.34       544\n",
      "\n",
      "   micro avg       0.99      0.99      0.99    124201\n",
      "   macro avg       0.62      0.78      0.67    124201\n",
      "weighted avg       0.99      0.99      0.99    124201\n",
      "\n"
     ]
    }
   ],
   "source": [
    "rf_14 = RandomForestClassifier(n_estimators=200)\n",
    "rf_14.fit(X_train_14, y_train_14)\n",
    "print(classification_report(rf_14.predict(X_test_14), y_test_14))"
   ]
  },
  {
   "cell_type": "code",
   "execution_count": 79,
   "metadata": {},
   "outputs": [
    {
     "data": {
      "text/plain": [
       "0.9103220478167158"
      ]
     },
     "execution_count": 79,
     "metadata": {},
     "output_type": "execute_result"
    }
   ],
   "source": [
    "proba_rf14 = [x[1] for x in rf_14.predict_proba(X_test_14)]\n",
    "fpr, tpr, thresholds = metrics.roc_curve(y_test_14, proba_rf14)\n",
    "metrics.auc(fpr, tpr)"
   ]
  },
  {
   "cell_type": "code",
   "execution_count": null,
   "metadata": {},
   "outputs": [],
   "source": []
  },
  {
   "cell_type": "code",
   "execution_count": null,
   "metadata": {},
   "outputs": [],
   "source": []
  },
  {
   "cell_type": "code",
   "execution_count": 80,
   "metadata": {},
   "outputs": [
    {
     "name": "stdout",
     "output_type": "stream",
     "text": [
      "Feature ranking:\n",
      "No.1 feature: purchase_count_7 (0.06482127883284292)\n",
      "No.2 feature: sum_event_7 (0.06319608054124658)\n",
      "No.3 feature: sum_value_7 (0.05038980692687559)\n",
      "No.4 feature: purchase_count_14 (0.04110095975581593)\n",
      "No.5 feature: mean_duration (0.040349897847540374)\n",
      "No.6 feature: sum_event_14 (0.039786792096329744)\n",
      "No.7 feature: sum_duration (0.03931672814680758)\n",
      "No.8 feature: mean_event_value (0.03800852220249423)\n",
      "No.9 feature: sum_value_14 (0.03761129421256706)\n",
      "No.10 feature: count_event_7 (0.0374331017040679)\n",
      "No.11 feature: sum_duration_7 (0.03662563426155875)\n",
      "No.12 feature: sum_duration_14 (0.0348495501236467)\n",
      "No.13 feature: mean_duration_14 (0.03384401071094915)\n",
      "No.14 feature: count_event (0.03381566379613818)\n",
      "No.15 feature: mean_event_value_7 (0.03365685751752578)\n",
      "No.16 feature: sum_event (0.03326587532850006)\n",
      "No.17 feature: ratio (0.032624384156987554)\n",
      "No.18 feature: mean_duration_7 (0.03260320999903651)\n",
      "No.19 feature: mean_event_value_14 (0.031350816541464696)\n",
      "No.20 feature: mean_value_7 (0.03102308945286691)\n",
      "No.21 feature: mean_value_14 (0.030643034592289013)\n",
      "No.22 feature: count_event_14 (0.030353455881016112)\n",
      "No.23 feature: sum_value (0.0281362151272322)\n",
      "No.24 feature: count_session (0.025702597451225585)\n",
      "No.25 feature: count_session_7 (0.025457374595811738)\n",
      "No.26 feature: mean_value (0.023677789707674483)\n",
      "No.27 feature: purchase_count (0.021394211839044157)\n",
      "No.28 feature: count_session_14 (0.020334226627450117)\n",
      "No.29 feature: iOS (0.004351034600790493)\n",
      "No.30 feature: Android OS (0.004276505422203889)\n"
     ]
    }
   ],
   "source": [
    "importances = rf_7.feature_importances_\n",
    "std = np.std([tree.feature_importances_ for tree in rf_7.estimators_], axis=0)\n",
    "indices = np.argsort(importances)[::-1]\n",
    "\n",
    "# Print the feature ranking\n",
    "print(\"Feature ranking:\")\n",
    "\n",
    "for i in range(len(importances)):\n",
    "    print(f\"No.{i + 1} feature: {X.columns[indices[i]]} ({importances[indices[i]]})\")"
   ]
  },
  {
   "cell_type": "code",
   "execution_count": 62,
   "metadata": {},
   "outputs": [
    {
     "name": "stdout",
     "output_type": "stream",
     "text": [
      "Feature ranking:\n",
      "No.1 feature: mean_duration (0.14361497755426034)\n",
      "No.2 feature: sum_duration (0.14271241634890955)\n",
      "No.3 feature: mean_event_value (0.12310345544831948)\n",
      "No.4 feature: count_event (0.11220717819214004)\n",
      "No.5 feature: sum_event (0.11034066260252481)\n",
      "No.6 feature: ratio (0.09506155679161553)\n",
      "No.7 feature: count_session (0.0770149393924047)\n",
      "No.8 feature: sum_value (0.06921898288973584)\n",
      "No.9 feature: purchase_count (0.057142237387241286)\n",
      "No.10 feature: mean_value (0.05526878805711718)\n",
      "No.11 feature: Android OS (0.007187335786910791)\n",
      "No.12 feature: iOS (0.007127469548820275)\n"
     ]
    }
   ],
   "source": [
    "importances = rf_7.feature_importances_\n",
    "std = np.std([tree.feature_importances_ for tree in rf_7.estimators_], axis=0)\n",
    "indices = np.argsort(importances)[::-1]\n",
    "\n",
    "# Print the feature ranking\n",
    "print(\"Feature ranking:\")\n",
    "\n",
    "for i in range(len(importances)):\n",
    "    print(f\"No.{i + 1} feature: {X.columns[indices[i]]} ({importances[indices[i]]})\")"
   ]
  },
  {
   "cell_type": "code",
   "execution_count": 63,
   "metadata": {},
   "outputs": [],
   "source": [
    "import pandas as pd\n",
    "import matplotlib.pyplot as plt\n",
    "import numpy as np\n",
    "import seaborn as sns"
   ]
  },
  {
   "cell_type": "code",
   "execution_count": 64,
   "metadata": {},
   "outputs": [
    {
     "data": {
      "image/png": "[encoded data removed]",
      "text/plain": [
       "<Figure size 1440x360 with 1 Axes>"
      ]
     },
     "metadata": {},
     "output_type": "display_data"
    }
   ],
   "source": [
    "plt.style.use('ggplot')\n",
    "plt.rcParams['figure.figsize'] = [20, 5]\n",
    "plt.figure()\n",
    "plt.title(\"Feature importances\")\n",
    "plt.bar(range(X.shape[1]), importances[indices],\n",
    "       color=\"r\", yerr=std[indices], align=\"center\")\n",
    "plt.xticks(range(X.shape[1]), indices)\n",
    "plt.xlim([-1, X.shape[1]])\n",
    "plt.show()"
   ]
  },
  {
   "cell_type": "markdown",
   "metadata": {},
   "source": [
    "## XGBoosting"
   ]
  },
  {
   "cell_type": "code",
   "execution_count": 81,
   "metadata": {},
   "outputs": [],
   "source": [
    "from xgboost import XGBClassifier"
   ]
  },
  {
   "cell_type": "code",
   "execution_count": 82,
   "metadata": {},
   "outputs": [
    {
     "ename": "KeyboardInterrupt",
     "evalue": "",
     "output_type": "error",
     "traceback": [
      "\u001b[0;31m---------------------------------------------------------------------------\u001b[0m",
      "\u001b[0;31mKeyboardInterrupt\u001b[0m                         Traceback (most recent call last)",
      "\u001b[0;32m<ipython-input-82-fdfb24050dde>\u001b[0m in \u001b[0;36m<module>\u001b[0;34m\u001b[0m\n\u001b[1;32m      7\u001b[0m                             \u001b[0mmax_delta_step\u001b[0m\u001b[0;34m=\u001b[0m\u001b[0;36m0.\u001b[0m\u001b[0;34m,\u001b[0m \u001b[0msubsample\u001b[0m\u001b[0;34m=\u001b[0m\u001b[0msub\u001b[0m\u001b[0;34m,\u001b[0m \u001b[0mcolsample_bytree\u001b[0m\u001b[0;34m=\u001b[0m\u001b[0;36m0.9\u001b[0m\u001b[0;34m,\u001b[0m\u001b[0;34m\u001b[0m\u001b[0;34m\u001b[0m\u001b[0m\n\u001b[1;32m      8\u001b[0m                             seed=0)\n\u001b[0;32m----> 9\u001b[0;31m             \u001b[0mgbm_7\u001b[0m\u001b[0;34m.\u001b[0m\u001b[0mfit\u001b[0m\u001b[0;34m(\u001b[0m\u001b[0mX_train_7\u001b[0m\u001b[0;34m,\u001b[0m \u001b[0my_train_7\u001b[0m\u001b[0;34m)\u001b[0m\u001b[0;34m\u001b[0m\u001b[0;34m\u001b[0m\u001b[0m\n\u001b[0m\u001b[1;32m     10\u001b[0m             \u001b[0mproba_gbm_7\u001b[0m \u001b[0;34m=\u001b[0m \u001b[0;34m[\u001b[0m\u001b[0mx\u001b[0m\u001b[0;34m[\u001b[0m\u001b[0;36m1\u001b[0m\u001b[0;34m]\u001b[0m \u001b[0;32mfor\u001b[0m \u001b[0mx\u001b[0m \u001b[0;32min\u001b[0m \u001b[0mgbm_7\u001b[0m\u001b[0;34m.\u001b[0m\u001b[0mpredict_proba\u001b[0m\u001b[0;34m(\u001b[0m\u001b[0mX_test_7\u001b[0m\u001b[0;34m)\u001b[0m\u001b[0;34m]\u001b[0m\u001b[0;34m\u001b[0m\u001b[0;34m\u001b[0m\u001b[0m\n\u001b[1;32m     11\u001b[0m             \u001b[0mfpr\u001b[0m\u001b[0;34m,\u001b[0m \u001b[0mtpr\u001b[0m\u001b[0;34m,\u001b[0m \u001b[0mthresholds\u001b[0m \u001b[0;34m=\u001b[0m \u001b[0mmetrics\u001b[0m\u001b[0;34m.\u001b[0m\u001b[0mroc_curve\u001b[0m\u001b[0;34m(\u001b[0m\u001b[0my_test_7\u001b[0m\u001b[0;34m,\u001b[0m \u001b[0mproba_gbm_7\u001b[0m\u001b[0;34m)\u001b[0m\u001b[0;34m\u001b[0m\u001b[0;34m\u001b[0m\u001b[0m\n",
      "\u001b[0;32m/anaconda3/lib/python3.6/site-packages/xgboost/sklearn.py\u001b[0m in \u001b[0;36mfit\u001b[0;34m(self, X, y, sample_weight, eval_set, eval_metric, early_stopping_rounds, verbose, xgb_model, sample_weight_eval_set, callbacks)\u001b[0m\n\u001b[1;32m    698\u001b[0m                               \u001b[0mevals_result\u001b[0m\u001b[0;34m=\u001b[0m\u001b[0mevals_result\u001b[0m\u001b[0;34m,\u001b[0m \u001b[0mobj\u001b[0m\u001b[0;34m=\u001b[0m\u001b[0mobj\u001b[0m\u001b[0;34m,\u001b[0m \u001b[0mfeval\u001b[0m\u001b[0;34m=\u001b[0m\u001b[0mfeval\u001b[0m\u001b[0;34m,\u001b[0m\u001b[0;34m\u001b[0m\u001b[0;34m\u001b[0m\u001b[0m\n\u001b[1;32m    699\u001b[0m                               \u001b[0mverbose_eval\u001b[0m\u001b[0;34m=\u001b[0m\u001b[0mverbose\u001b[0m\u001b[0;34m,\u001b[0m \u001b[0mxgb_model\u001b[0m\u001b[0;34m=\u001b[0m\u001b[0;32mNone\u001b[0m\u001b[0;34m,\u001b[0m\u001b[0;34m\u001b[0m\u001b[0;34m\u001b[0m\u001b[0m\n\u001b[0;32m--> 700\u001b[0;31m                               callbacks=callbacks)\n\u001b[0m\u001b[1;32m    701\u001b[0m \u001b[0;34m\u001b[0m\u001b[0m\n\u001b[1;32m    702\u001b[0m         \u001b[0mself\u001b[0m\u001b[0;34m.\u001b[0m\u001b[0mobjective\u001b[0m \u001b[0;34m=\u001b[0m \u001b[0mxgb_options\u001b[0m\u001b[0;34m[\u001b[0m\u001b[0;34m\"objective\"\u001b[0m\u001b[0;34m]\u001b[0m\u001b[0;34m\u001b[0m\u001b[0;34m\u001b[0m\u001b[0m\n",
      "\u001b[0;32m/anaconda3/lib/python3.6/site-packages/xgboost/training.py\u001b[0m in \u001b[0;36mtrain\u001b[0;34m(params, dtrain, num_boost_round, evals, obj, feval, maximize, early_stopping_rounds, evals_result, verbose_eval, xgb_model, callbacks, learning_rates)\u001b[0m\n\u001b[1;32m    214\u001b[0m                            \u001b[0mevals\u001b[0m\u001b[0;34m=\u001b[0m\u001b[0mevals\u001b[0m\u001b[0;34m,\u001b[0m\u001b[0;34m\u001b[0m\u001b[0;34m\u001b[0m\u001b[0m\n\u001b[1;32m    215\u001b[0m                            \u001b[0mobj\u001b[0m\u001b[0;34m=\u001b[0m\u001b[0mobj\u001b[0m\u001b[0;34m,\u001b[0m \u001b[0mfeval\u001b[0m\u001b[0;34m=\u001b[0m\u001b[0mfeval\u001b[0m\u001b[0;34m,\u001b[0m\u001b[0;34m\u001b[0m\u001b[0;34m\u001b[0m\u001b[0m\n\u001b[0;32m--> 216\u001b[0;31m                            xgb_model=xgb_model, callbacks=callbacks)\n\u001b[0m\u001b[1;32m    217\u001b[0m \u001b[0;34m\u001b[0m\u001b[0m\n\u001b[1;32m    218\u001b[0m \u001b[0;34m\u001b[0m\u001b[0m\n",
      "\u001b[0;32m/anaconda3/lib/python3.6/site-packages/xgboost/training.py\u001b[0m in \u001b[0;36m_train_internal\u001b[0;34m(params, dtrain, num_boost_round, evals, obj, feval, xgb_model, callbacks)\u001b[0m\n\u001b[1;32m     72\u001b[0m         \u001b[0;31m# Skip the first update if it is a recovery step.\u001b[0m\u001b[0;34m\u001b[0m\u001b[0;34m\u001b[0m\u001b[0;34m\u001b[0m\u001b[0m\n\u001b[1;32m     73\u001b[0m         \u001b[0;32mif\u001b[0m \u001b[0mversion\u001b[0m \u001b[0;34m%\u001b[0m \u001b[0;36m2\u001b[0m \u001b[0;34m==\u001b[0m \u001b[0;36m0\u001b[0m\u001b[0;34m:\u001b[0m\u001b[0;34m\u001b[0m\u001b[0;34m\u001b[0m\u001b[0m\n\u001b[0;32m---> 74\u001b[0;31m             \u001b[0mbst\u001b[0m\u001b[0;34m.\u001b[0m\u001b[0mupdate\u001b[0m\u001b[0;34m(\u001b[0m\u001b[0mdtrain\u001b[0m\u001b[0;34m,\u001b[0m \u001b[0mi\u001b[0m\u001b[0;34m,\u001b[0m \u001b[0mobj\u001b[0m\u001b[0;34m)\u001b[0m\u001b[0;34m\u001b[0m\u001b[0;34m\u001b[0m\u001b[0m\n\u001b[0m\u001b[1;32m     75\u001b[0m             \u001b[0mbst\u001b[0m\u001b[0;34m.\u001b[0m\u001b[0msave_rabit_checkpoint\u001b[0m\u001b[0;34m(\u001b[0m\u001b[0;34m)\u001b[0m\u001b[0;34m\u001b[0m\u001b[0;34m\u001b[0m\u001b[0m\n\u001b[1;32m     76\u001b[0m             \u001b[0mversion\u001b[0m \u001b[0;34m+=\u001b[0m \u001b[0;36m1\u001b[0m\u001b[0;34m\u001b[0m\u001b[0;34m\u001b[0m\u001b[0m\n",
      "\u001b[0;32m/anaconda3/lib/python3.6/site-packages/xgboost/core.py\u001b[0m in \u001b[0;36mupdate\u001b[0;34m(self, dtrain, iteration, fobj)\u001b[0m\n\u001b[1;32m   1043\u001b[0m         \u001b[0;32mif\u001b[0m \u001b[0mfobj\u001b[0m \u001b[0;32mis\u001b[0m \u001b[0;32mNone\u001b[0m\u001b[0;34m:\u001b[0m\u001b[0;34m\u001b[0m\u001b[0;34m\u001b[0m\u001b[0m\n\u001b[1;32m   1044\u001b[0m             _check_call(_LIB.XGBoosterUpdateOneIter(self.handle, ctypes.c_int(iteration),\n\u001b[0;32m-> 1045\u001b[0;31m                                                     dtrain.handle))\n\u001b[0m\u001b[1;32m   1046\u001b[0m         \u001b[0;32melse\u001b[0m\u001b[0;34m:\u001b[0m\u001b[0;34m\u001b[0m\u001b[0;34m\u001b[0m\u001b[0m\n\u001b[1;32m   1047\u001b[0m             \u001b[0mpred\u001b[0m \u001b[0;34m=\u001b[0m \u001b[0mself\u001b[0m\u001b[0;34m.\u001b[0m\u001b[0mpredict\u001b[0m\u001b[0;34m(\u001b[0m\u001b[0mdtrain\u001b[0m\u001b[0;34m)\u001b[0m\u001b[0;34m\u001b[0m\u001b[0;34m\u001b[0m\u001b[0m\n",
      "\u001b[0;31mKeyboardInterrupt\u001b[0m: "
     ]
    }
   ],
   "source": [
    "res = []\n",
    "for lr in [0.1, 0.2, 0.3]:\n",
    "    for n_e in [200, 400, 600]:\n",
    "        for sub in [0.2, 0.4, 0.6]:\n",
    "            gbm_7 = XGBClassifier(max_depth=4, learning_rate=lr, n_estimators=n_e,\n",
    "                            objective='binary:logistic', gamma=0., \n",
    "                            max_delta_step=0., subsample=sub, colsample_bytree=0.9,\n",
    "                            seed=0)\n",
    "            gbm_7.fit(X_train_7, y_train_7)\n",
    "            proba_gbm_7 = [x[1] for x in gbm_7.predict_proba(X_test_7)]\n",
    "            fpr, tpr, thresholds = metrics.roc_curve(y_test_7, proba_gbm_7)\n",
    "            res.append((lr, n_e, sub, metrics.auc(fpr, tpr)))\n",
    "res"
   ]
  },
  {
   "cell_type": "code",
   "execution_count": 83,
   "metadata": {},
   "outputs": [
    {
     "data": {
      "text/plain": [
       "[(0.1, 200, 0.2, 0.9664207722831201),\n",
       " (0.1, 200, 0.4, 0.9672551866706895),\n",
       " (0.1, 200, 0.6, 0.9676344690861779),\n",
       " (0.1, 400, 0.2, 0.965999047709488),\n",
       " (0.1, 400, 0.4, 0.967031443249484),\n",
       " (0.1, 400, 0.6, 0.9676198065413357),\n",
       " (0.1, 600, 0.2, 0.9654045328155633),\n",
       " (0.1, 600, 0.4, 0.9663591437066885),\n",
       " (0.1, 600, 0.6, 0.9669755853173614),\n",
       " (0.2, 200, 0.2, 0.9638713812822012),\n",
       " (0.2, 200, 0.4, 0.9660876333767764),\n",
       " (0.2, 200, 0.6, 0.9667797037617016),\n",
       " (0.2, 400, 0.2, 0.9599710101531479),\n",
       " (0.2, 400, 0.4, 0.9639877855243808),\n",
       " (0.2, 400, 0.6, 0.9648555726778755)]"
      ]
     },
     "execution_count": 83,
     "metadata": {},
     "output_type": "execute_result"
    }
   ],
   "source": [
    "res"
   ]
  },
  {
   "cell_type": "code",
   "execution_count": 67,
   "metadata": {},
   "outputs": [
    {
     "name": "stdout",
     "output_type": "stream",
     "text": [
      "              precision    recall  f1-score   support\n",
      "\n",
      "       False       1.00      0.99      1.00    124089\n",
      "        True       0.04      0.35      0.07       112\n",
      "\n",
      "   micro avg       0.99      0.99      0.99    124201\n",
      "   macro avg       0.52      0.67      0.54    124201\n",
      "weighted avg       1.00      0.99      1.00    124201\n",
      "\n"
     ]
    }
   ],
   "source": [
    "gbm_7 = XGBClassifier(max_depth=4, learning_rate=0.3, n_estimators=200,\n",
    "                            objective='binary:logistic', gamma=0., \n",
    "                            max_delta_step=0., subsample=0.5, colsample_bytree=0.9,\n",
    "                            seed=0)\n",
    "gbm_7.fit(X_train_7, y_train_7)\n",
    "print(classification_report(gbm_7.predict(X_test_7), y_test_7))"
   ]
  },
  {
   "cell_type": "code",
   "execution_count": 68,
   "metadata": {},
   "outputs": [
    {
     "data": {
      "text/plain": [
       "0.9195704046658044"
      ]
     },
     "execution_count": 68,
     "metadata": {},
     "output_type": "execute_result"
    }
   ],
   "source": [
    "proba_gbm_7 = [x[1] for x in gbm_7.predict_proba(X_test_7)]\n",
    "fpr, tpr, thresholds = metrics.roc_curve(y_test_7, proba_gbm_7)\n",
    "metrics.auc(fpr, tpr)"
   ]
  },
  {
   "cell_type": "code",
   "execution_count": 69,
   "metadata": {},
   "outputs": [
    {
     "name": "stdout",
     "output_type": "stream",
     "text": [
      "              precision    recall  f1-score   support\n",
      "\n",
      "       False       1.00      0.99      0.99    124059\n",
      "        True       0.04      0.39      0.08       142\n",
      "\n",
      "   micro avg       0.99      0.99      0.99    124201\n",
      "   macro avg       0.52      0.69      0.54    124201\n",
      "weighted avg       1.00      0.99      0.99    124201\n",
      "\n"
     ]
    }
   ],
   "source": [
    "gbm_14 = XGBClassifier(max_depth=4, learning_rate=0.3, n_estimators=200,\n",
    "                            objective='binary:logistic', gamma=0., \n",
    "                            max_delta_step=0., subsample=0.5, colsample_bytree=0.9,\n",
    "                            seed=0)\n",
    "gbm_14.fit(X_train_14, y_train_14)\n",
    "print(classification_report(gbm_14.predict(X_test_14), y_test_14))"
   ]
  },
  {
   "cell_type": "code",
   "execution_count": 70,
   "metadata": {},
   "outputs": [
    {
     "data": {
      "text/plain": [
       "0.9138840426659008"
      ]
     },
     "execution_count": 70,
     "metadata": {},
     "output_type": "execute_result"
    }
   ],
   "source": [
    "proba_gbm_14 = [x[1] for x in gbm_14.predict_proba(X_test_14)]\n",
    "fpr, tpr, thresholds = metrics.roc_curve(y_test_14, proba_gbm_14)\n",
    "metrics.auc(fpr, tpr)"
   ]
  },
  {
   "cell_type": "markdown",
   "metadata": {},
   "source": [
    "## Predict Submission"
   ]
  },
  {
   "cell_type": "code",
   "execution_count": 84,
   "metadata": {},
   "outputs": [],
   "source": [
    "submission = pd.read_csv('submission_sample.csv')"
   ]
  },
  {
   "cell_type": "code",
   "execution_count": 85,
   "metadata": {},
   "outputs": [],
   "source": [
    "submission.user_purchase_binary_7_days = 0\n",
    "submission.user_purchase_binary_14_days = 0"
   ]
  },
  {
   "cell_type": "code",
   "execution_count": 86,
   "metadata": {},
   "outputs": [
    {
     "data": {
      "text/html": [
       "<div>\n",
       "<style scoped>\n",
       "    .dataframe tbody tr th:only-of-type {\n",
       "        vertical-align: middle;\n",
       "    }\n",
       "\n",
       "    .dataframe tbody tr th {\n",
       "        vertical-align: top;\n",
       "    }\n",
       "\n",
       "    .dataframe thead th {\n",
       "        text-align: right;\n",
       "    }\n",
       "</style>\n",
       "<table border=\"1\" class=\"dataframe\">\n",
       "  <thead>\n",
       "    <tr style=\"text-align: right;\">\n",
       "      <th></th>\n",
       "      <th>user_id_hash</th>\n",
       "      <th>user_purchase_binary_7_days</th>\n",
       "      <th>user_purchase_binary_14_days</th>\n",
       "    </tr>\n",
       "  </thead>\n",
       "  <tbody>\n",
       "    <tr>\n",
       "      <th>0</th>\n",
       "      <td>e469dfaed039ead9110165d9bc457acb11609ca34057dc...</td>\n",
       "      <td>0</td>\n",
       "      <td>0</td>\n",
       "    </tr>\n",
       "    <tr>\n",
       "      <th>1</th>\n",
       "      <td>afcc639a324b6c598ef83d360450afa011cb2dd1358bf9...</td>\n",
       "      <td>0</td>\n",
       "      <td>0</td>\n",
       "    </tr>\n",
       "    <tr>\n",
       "      <th>2</th>\n",
       "      <td>fd5a7cf211d08e3e00f7be6a9df6e6ea3d2e5c22a5d9c3...</td>\n",
       "      <td>0</td>\n",
       "      <td>0</td>\n",
       "    </tr>\n",
       "    <tr>\n",
       "      <th>3</th>\n",
       "      <td>00bfff98b9d0329f014c2eeac7ce47cd18b2bc6e10d608...</td>\n",
       "      <td>0</td>\n",
       "      <td>0</td>\n",
       "    </tr>\n",
       "    <tr>\n",
       "      <th>4</th>\n",
       "      <td>0d298f3638c43e915c119d4935e1ce8d168f81b5e3e8c1...</td>\n",
       "      <td>0</td>\n",
       "      <td>0</td>\n",
       "    </tr>\n",
       "  </tbody>\n",
       "</table>\n",
       "</div>"
      ],
      "text/plain": [
       "                                        user_id_hash  \\\n",
       "0  e469dfaed039ead9110165d9bc457acb11609ca34057dc...   \n",
       "1  afcc639a324b6c598ef83d360450afa011cb2dd1358bf9...   \n",
       "2  fd5a7cf211d08e3e00f7be6a9df6e6ea3d2e5c22a5d9c3...   \n",
       "3  00bfff98b9d0329f014c2eeac7ce47cd18b2bc6e10d608...   \n",
       "4  0d298f3638c43e915c119d4935e1ce8d168f81b5e3e8c1...   \n",
       "\n",
       "   user_purchase_binary_7_days  user_purchase_binary_14_days  \n",
       "0                            0                             0  \n",
       "1                            0                             0  \n",
       "2                            0                             0  \n",
       "3                            0                             0  \n",
       "4                            0                             0  "
      ]
     },
     "execution_count": 86,
     "metadata": {},
     "output_type": "execute_result"
    }
   ],
   "source": [
    "submission.head()"
   ]
  },
  {
   "cell_type": "code",
   "execution_count": 87,
   "metadata": {},
   "outputs": [],
   "source": [
    "purchase = events.loc[events.event=='8']\n",
    "purchase_count = purchase.groupby('user_id_hash')['event'].count().to_frame()\n",
    "purchase_count = purchase_count.reset_index()"
   ]
  },
  {
   "cell_type": "code",
   "execution_count": 88,
   "metadata": {},
   "outputs": [
    {
     "data": {
      "text/html": [
       "<div>\n",
       "<style scoped>\n",
       "    .dataframe tbody tr th:only-of-type {\n",
       "        vertical-align: middle;\n",
       "    }\n",
       "\n",
       "    .dataframe tbody tr th {\n",
       "        vertical-align: top;\n",
       "    }\n",
       "\n",
       "    .dataframe thead th {\n",
       "        text-align: right;\n",
       "    }\n",
       "</style>\n",
       "<table border=\"1\" class=\"dataframe\">\n",
       "  <thead>\n",
       "    <tr style=\"text-align: right;\">\n",
       "      <th></th>\n",
       "      <th>user_id_hash</th>\n",
       "      <th>purchase_count</th>\n",
       "    </tr>\n",
       "  </thead>\n",
       "  <tbody>\n",
       "    <tr>\n",
       "      <th>0</th>\n",
       "      <td>002e447aed33ed4c51a68743cc293ef2148058b6a6239e...</td>\n",
       "      <td>0</td>\n",
       "    </tr>\n",
       "    <tr>\n",
       "      <th>1</th>\n",
       "      <td>005c9d79cf18efc6c8b5fa767964b1def9b8e2f8abd23f...</td>\n",
       "      <td>0</td>\n",
       "    </tr>\n",
       "    <tr>\n",
       "      <th>2</th>\n",
       "      <td>0061b4d30e8a9935b2ebeec954ff509b4f0cb500cd725c...</td>\n",
       "      <td>0</td>\n",
       "    </tr>\n",
       "    <tr>\n",
       "      <th>3</th>\n",
       "      <td>00fbbf507c7d3c2f259cd3329d241c29d35712e2d4699f...</td>\n",
       "      <td>0</td>\n",
       "    </tr>\n",
       "    <tr>\n",
       "      <th>4</th>\n",
       "      <td>0107a0017873efc2dea9a9155832363ceacf6fe97bd428...</td>\n",
       "      <td>0</td>\n",
       "    </tr>\n",
       "  </tbody>\n",
       "</table>\n",
       "</div>"
      ],
      "text/plain": [
       "                                        user_id_hash  purchase_count\n",
       "0  002e447aed33ed4c51a68743cc293ef2148058b6a6239e...               0\n",
       "1  005c9d79cf18efc6c8b5fa767964b1def9b8e2f8abd23f...               0\n",
       "2  0061b4d30e8a9935b2ebeec954ff509b4f0cb500cd725c...               0\n",
       "3  00fbbf507c7d3c2f259cd3329d241c29d35712e2d4699f...               0\n",
       "4  0107a0017873efc2dea9a9155832363ceacf6fe97bd428...               0"
      ]
     },
     "execution_count": 88,
     "metadata": {},
     "output_type": "execute_result"
    }
   ],
   "source": [
    "purchase_count = purchase_count.rename(index=str, columns={\"event\": \"purchase_count\"})\n",
    "purchase_count.head()"
   ]
  },
  {
   "cell_type": "code",
   "execution_count": 89,
   "metadata": {},
   "outputs": [],
   "source": [
    "last_7_events = events.loc[(events.event_timestamp > '2018-12-08 00:00') & (events.event_timestamp > '2018-12-15 00:00')]\n",
    "last_14_events = events.loc[(events.event_timestamp > '2018-12-01 00:00') & (events.event_timestamp < '2018-12-15 00:00')]\n"
   ]
  },
  {
   "cell_type": "code",
   "execution_count": 90,
   "metadata": {},
   "outputs": [],
   "source": [
    "purchase_7 = last_7_events.loc[last_7_events.event=='8']\n",
    "purchase_count_7 = purchase_7.groupby('user_id_hash')['event'].count().to_frame()\n",
    "purchase_count_7 = purchase_count_7.reset_index()\n",
    "purchase_count_7 = purchase_count_7.rename(index=str, columns={\"event\": \"purchase_count_7\"})"
   ]
  },
  {
   "cell_type": "code",
   "execution_count": 91,
   "metadata": {},
   "outputs": [],
   "source": [
    "purchase_value_7 = last_7_events.groupby('user_id_hash')['event_value'].agg(['sum', 'mean'])\\\n",
    "                     .rename(columns={'sum': 'sum_value_7', 'mean': 'mean_value_7'})\n",
    "purchase_value_7.fillna(0, inplace=True)"
   ]
  },
  {
   "cell_type": "code",
   "execution_count": 92,
   "metadata": {},
   "outputs": [],
   "source": [
    "purchase_14 = last_14_events.loc[last_14_events.event=='8']\n",
    "purchase_count_14 = purchase_14.groupby('user_id_hash')['event'].count().to_frame()\n",
    "purchase_count_14 = purchase_count_14.reset_index()\n",
    "purchase_count_14 = purchase_count_14.rename(index=str, columns={\"event\": \"purchase_count_14\"})"
   ]
  },
  {
   "cell_type": "code",
   "execution_count": 93,
   "metadata": {},
   "outputs": [],
   "source": [
    "purchase_value_14 = last_14_events.groupby('user_id_hash')['event_value'].agg(['sum', 'mean'])\\\n",
    "                     .rename(columns={'sum': 'sum_value_14', 'mean': 'mean_value_14'})\n",
    "purchase_value_14.fillna(0, inplace=True)"
   ]
  },
  {
   "cell_type": "code",
   "execution_count": 94,
   "metadata": {},
   "outputs": [],
   "source": [
    "pur_npur_ratio = events[events.event=='8'].groupby('user_id_hash').size()/events.groupby('user_id_hash').size()\n",
    "pur_npur_ratio = pur_npur_ratio.to_frame().reset_index()\n",
    "pur_npur_ratio.rename(columns={0: 'ratio'}, inplace=True)"
   ]
  },
  {
   "cell_type": "code",
   "execution_count": 95,
   "metadata": {},
   "outputs": [],
   "source": [
    "group_event = event_data.groupby('user_id_hash')['event_value'].agg(['sum', 'mean', 'count'])\\\n",
    "            .rename(columns={'sum': 'sum_event', 'mean': 'mean_event_value', 'count': 'count_event'})\n",
    "group_event.fillna(0, inplace=True)"
   ]
  },
  {
   "cell_type": "code",
   "execution_count": 96,
   "metadata": {},
   "outputs": [],
   "source": [
    "group_event_7 = last_7_events.groupby('user_id_hash')['event_value'].agg(['sum', 'mean', 'count'])\\\n",
    "            .rename(columns={'sum': 'sum_event_7', 'mean': 'mean_event_value_7', 'count': 'count_event_7'})\n",
    "\n",
    "group_event_14 = last_14_events.groupby('user_id_hash')['event_value'].agg(['sum', 'mean', 'count'])\\\n",
    "            .rename(columns={'sum': 'sum_event_14', 'mean': 'mean_event_value_14', 'count': 'count_event_14'})\n",
    "group_event_7.fillna(0, inplace=True)\n",
    "group_event_14.fillna(0, inplace=True)\n"
   ]
  },
  {
   "cell_type": "code",
   "execution_count": 97,
   "metadata": {},
   "outputs": [],
   "source": [
    "grouped = sessions.groupby('user_id_hash')\n",
    "user_agg = grouped['previous_sessions_duration'].agg(['sum', 'mean', 'count'])\\\n",
    "                   .rename(columns={'sum': 'sum_duration', 'mean': 'mean_duration', 'count': 'count_session'})\n",
    "user_agg.fillna(0, inplace=True)"
   ]
  },
  {
   "cell_type": "code",
   "execution_count": 98,
   "metadata": {},
   "outputs": [],
   "source": [
    "last_7_sessions = sessions.loc[(sessions.start_timestamp > '2018-12-08 00:00') & (sessions.start_timestamp < '2018-12-15 00:00')]\n",
    "last_14_sessions = sessions.loc[(sessions.start_timestamp > '2018-12-01 00:00') & (sessions.start_timestamp > '2018-12-15 00:00')]\n"
   ]
  },
  {
   "cell_type": "code",
   "execution_count": 99,
   "metadata": {},
   "outputs": [],
   "source": [
    "grouped_7 = last_7_sessions.groupby('user_id_hash')\n",
    "user_agg_7 = grouped_7['previous_sessions_duration'].agg(['sum', 'mean', 'count'])\\\n",
    "                   .rename(columns={'sum': 'sum_duration_7', 'mean': 'mean_duration_7', 'count': 'count_session_7'})\n",
    "\n",
    "grouped_14 = last_14_sessions.groupby('user_id_hash')\n",
    "user_agg_14 = grouped_14['previous_sessions_duration'].agg(['sum', 'mean', 'count'])\\\n",
    "                   .rename(columns={'sum': 'sum_duration_14', 'mean': 'mean_duration_14', 'count': 'count_session_14'})\n"
   ]
  },
  {
   "cell_type": "code",
   "execution_count": 100,
   "metadata": {},
   "outputs": [],
   "source": [
    "user_agg_7.fillna(0, inplace=True)\n",
    "user_agg_14.fillna(0, inplace=True)"
   ]
  },
  {
   "cell_type": "code",
   "execution_count": null,
   "metadata": {},
   "outputs": [],
   "source": []
  },
  {
   "cell_type": "code",
   "execution_count": null,
   "metadata": {},
   "outputs": [],
   "source": []
  },
  {
   "cell_type": "code",
   "execution_count": 101,
   "metadata": {},
   "outputs": [
    {
     "data": {
      "text/plain": [
       "Index(['user_id_hash', 'user_purchase_binary_7_days',\n",
       "       'user_purchase_binary_14_days'],\n",
       "      dtype='object')"
      ]
     },
     "execution_count": 101,
     "metadata": {},
     "output_type": "execute_result"
    }
   ],
   "source": [
    "submission.columns"
   ]
  },
  {
   "cell_type": "code",
   "execution_count": 102,
   "metadata": {},
   "outputs": [],
   "source": [
    "sub = submission.user_id_hash.to_frame()"
   ]
  },
  {
   "cell_type": "code",
   "execution_count": 103,
   "metadata": {},
   "outputs": [
    {
     "data": {
      "text/html": [
       "<div>\n",
       "<style scoped>\n",
       "    .dataframe tbody tr th:only-of-type {\n",
       "        vertical-align: middle;\n",
       "    }\n",
       "\n",
       "    .dataframe tbody tr th {\n",
       "        vertical-align: top;\n",
       "    }\n",
       "\n",
       "    .dataframe thead th {\n",
       "        text-align: right;\n",
       "    }\n",
       "</style>\n",
       "<table border=\"1\" class=\"dataframe\">\n",
       "  <thead>\n",
       "    <tr style=\"text-align: right;\">\n",
       "      <th></th>\n",
       "      <th>user_id_hash</th>\n",
       "    </tr>\n",
       "  </thead>\n",
       "  <tbody>\n",
       "    <tr>\n",
       "      <th>0</th>\n",
       "      <td>e469dfaed039ead9110165d9bc457acb11609ca34057dc...</td>\n",
       "    </tr>\n",
       "    <tr>\n",
       "      <th>1</th>\n",
       "      <td>afcc639a324b6c598ef83d360450afa011cb2dd1358bf9...</td>\n",
       "    </tr>\n",
       "    <tr>\n",
       "      <th>2</th>\n",
       "      <td>fd5a7cf211d08e3e00f7be6a9df6e6ea3d2e5c22a5d9c3...</td>\n",
       "    </tr>\n",
       "    <tr>\n",
       "      <th>3</th>\n",
       "      <td>00bfff98b9d0329f014c2eeac7ce47cd18b2bc6e10d608...</td>\n",
       "    </tr>\n",
       "    <tr>\n",
       "      <th>4</th>\n",
       "      <td>0d298f3638c43e915c119d4935e1ce8d168f81b5e3e8c1...</td>\n",
       "    </tr>\n",
       "  </tbody>\n",
       "</table>\n",
       "</div>"
      ],
      "text/plain": [
       "                                        user_id_hash\n",
       "0  e469dfaed039ead9110165d9bc457acb11609ca34057dc...\n",
       "1  afcc639a324b6c598ef83d360450afa011cb2dd1358bf9...\n",
       "2  fd5a7cf211d08e3e00f7be6a9df6e6ea3d2e5c22a5d9c3...\n",
       "3  00bfff98b9d0329f014c2eeac7ce47cd18b2bc6e10d608...\n",
       "4  0d298f3638c43e915c119d4935e1ce8d168f81b5e3e8c1..."
      ]
     },
     "execution_count": 103,
     "metadata": {},
     "output_type": "execute_result"
    }
   ],
   "source": [
    "sub.head()"
   ]
  },
  {
   "cell_type": "code",
   "execution_count": 133,
   "metadata": {},
   "outputs": [
    {
     "data": {
      "text/plain": [
       "312568"
      ]
     },
     "execution_count": 133,
     "metadata": {},
     "output_type": "execute_result"
    }
   ],
   "source": [
    "len(submission)"
   ]
  },
  {
   "cell_type": "code",
   "execution_count": 138,
   "metadata": {},
   "outputs": [
    {
     "data": {
      "text/plain": [
       "312568"
      ]
     },
     "execution_count": 138,
     "metadata": {},
     "output_type": "execute_result"
    }
   ],
   "source": [
    "len(new_df)"
   ]
  },
  {
   "cell_type": "code",
   "execution_count": null,
   "metadata": {},
   "outputs": [],
   "source": [
    "len()"
   ]
  },
  {
   "cell_type": "code",
   "execution_count": 135,
   "metadata": {},
   "outputs": [],
   "source": [
    "dfs_sub = [pur_npur_ratio, os_enc, purchase_count, purchase_count_7, purchase_count_14, \n",
    "           purchase_value, purchase_value_7, purchase_value_14, \n",
    "           group_event, group_event_7, group_event_14, user_agg, user_agg_7, user_agg_14, target_df]"
   ]
  },
  {
   "cell_type": "code",
   "execution_count": 136,
   "metadata": {},
   "outputs": [],
   "source": [
    "df_sub = reduce(lambda left,right: pd.merge(left,right,on='user_id_hash'), dfs_sub)"
   ]
  },
  {
   "cell_type": "code",
   "execution_count": 137,
   "metadata": {},
   "outputs": [],
   "source": [
    "new_df = pd.merge(sub, df_sub, how='left', on='user_id_hash')"
   ]
  },
  {
   "cell_type": "code",
   "execution_count": 139,
   "metadata": {},
   "outputs": [],
   "source": [
    "new_df.fillna(0, inplace=True)"
   ]
  },
  {
   "cell_type": "code",
   "execution_count": 140,
   "metadata": {},
   "outputs": [
    {
     "data": {
      "text/html": [
       "<div>\n",
       "<style scoped>\n",
       "    .dataframe tbody tr th:only-of-type {\n",
       "        vertical-align: middle;\n",
       "    }\n",
       "\n",
       "    .dataframe tbody tr th {\n",
       "        vertical-align: top;\n",
       "    }\n",
       "\n",
       "    .dataframe thead th {\n",
       "        text-align: right;\n",
       "    }\n",
       "</style>\n",
       "<table border=\"1\" class=\"dataframe\">\n",
       "  <thead>\n",
       "    <tr style=\"text-align: right;\">\n",
       "      <th></th>\n",
       "      <th>user_id_hash</th>\n",
       "      <th>ratio</th>\n",
       "      <th>Android OS</th>\n",
       "      <th>iOS</th>\n",
       "      <th>purchase_count</th>\n",
       "      <th>purchase_count_7</th>\n",
       "      <th>purchase_count_14</th>\n",
       "      <th>sum_value</th>\n",
       "      <th>mean_value</th>\n",
       "      <th>sum_value_7</th>\n",
       "      <th>...</th>\n",
       "      <th>mean_duration</th>\n",
       "      <th>count_session</th>\n",
       "      <th>sum_duration_7</th>\n",
       "      <th>mean_duration_7</th>\n",
       "      <th>count_session_7</th>\n",
       "      <th>sum_duration_14</th>\n",
       "      <th>mean_duration_14</th>\n",
       "      <th>count_session_14</th>\n",
       "      <th>one_week_purchase</th>\n",
       "      <th>two_week_purchase</th>\n",
       "    </tr>\n",
       "  </thead>\n",
       "  <tbody>\n",
       "    <tr>\n",
       "      <th>0</th>\n",
       "      <td>e469dfaed039ead9110165d9bc457acb11609ca34057dc...</td>\n",
       "      <td>0.0</td>\n",
       "      <td>0.0</td>\n",
       "      <td>1.0</td>\n",
       "      <td>0.0</td>\n",
       "      <td>0.0</td>\n",
       "      <td>0.0</td>\n",
       "      <td>0.0</td>\n",
       "      <td>0.0</td>\n",
       "      <td>0.0</td>\n",
       "      <td>...</td>\n",
       "      <td>356544.00</td>\n",
       "      <td>2.0</td>\n",
       "      <td>0.0</td>\n",
       "      <td>0.0</td>\n",
       "      <td>0.0</td>\n",
       "      <td>0.0</td>\n",
       "      <td>0.0</td>\n",
       "      <td>0.0</td>\n",
       "      <td>False</td>\n",
       "      <td>False</td>\n",
       "    </tr>\n",
       "    <tr>\n",
       "      <th>1</th>\n",
       "      <td>afcc639a324b6c598ef83d360450afa011cb2dd1358bf9...</td>\n",
       "      <td>0.0</td>\n",
       "      <td>1.0</td>\n",
       "      <td>0.0</td>\n",
       "      <td>0.0</td>\n",
       "      <td>0.0</td>\n",
       "      <td>0.0</td>\n",
       "      <td>0.0</td>\n",
       "      <td>0.0</td>\n",
       "      <td>0.0</td>\n",
       "      <td>...</td>\n",
       "      <td>0.00</td>\n",
       "      <td>1.0</td>\n",
       "      <td>0.0</td>\n",
       "      <td>0.0</td>\n",
       "      <td>0.0</td>\n",
       "      <td>0.0</td>\n",
       "      <td>0.0</td>\n",
       "      <td>0.0</td>\n",
       "      <td>False</td>\n",
       "      <td>False</td>\n",
       "    </tr>\n",
       "    <tr>\n",
       "      <th>2</th>\n",
       "      <td>fd5a7cf211d08e3e00f7be6a9df6e6ea3d2e5c22a5d9c3...</td>\n",
       "      <td>0.0</td>\n",
       "      <td>1.0</td>\n",
       "      <td>0.0</td>\n",
       "      <td>0.0</td>\n",
       "      <td>0.0</td>\n",
       "      <td>0.0</td>\n",
       "      <td>0.0</td>\n",
       "      <td>0.0</td>\n",
       "      <td>0.0</td>\n",
       "      <td>...</td>\n",
       "      <td>388631.25</td>\n",
       "      <td>4.0</td>\n",
       "      <td>0.0</td>\n",
       "      <td>0.0</td>\n",
       "      <td>0.0</td>\n",
       "      <td>0.0</td>\n",
       "      <td>0.0</td>\n",
       "      <td>0.0</td>\n",
       "      <td>False</td>\n",
       "      <td>False</td>\n",
       "    </tr>\n",
       "    <tr>\n",
       "      <th>3</th>\n",
       "      <td>00bfff98b9d0329f014c2eeac7ce47cd18b2bc6e10d608...</td>\n",
       "      <td>0.0</td>\n",
       "      <td>1.0</td>\n",
       "      <td>0.0</td>\n",
       "      <td>0.0</td>\n",
       "      <td>0.0</td>\n",
       "      <td>0.0</td>\n",
       "      <td>0.0</td>\n",
       "      <td>0.0</td>\n",
       "      <td>0.0</td>\n",
       "      <td>...</td>\n",
       "      <td>9200582.90</td>\n",
       "      <td>10.0</td>\n",
       "      <td>0.0</td>\n",
       "      <td>0.0</td>\n",
       "      <td>0.0</td>\n",
       "      <td>0.0</td>\n",
       "      <td>0.0</td>\n",
       "      <td>0.0</td>\n",
       "      <td>False</td>\n",
       "      <td>False</td>\n",
       "    </tr>\n",
       "    <tr>\n",
       "      <th>4</th>\n",
       "      <td>0d298f3638c43e915c119d4935e1ce8d168f81b5e3e8c1...</td>\n",
       "      <td>0.0</td>\n",
       "      <td>1.0</td>\n",
       "      <td>0.0</td>\n",
       "      <td>0.0</td>\n",
       "      <td>0.0</td>\n",
       "      <td>0.0</td>\n",
       "      <td>0.0</td>\n",
       "      <td>0.0</td>\n",
       "      <td>0.0</td>\n",
       "      <td>...</td>\n",
       "      <td>0.00</td>\n",
       "      <td>1.0</td>\n",
       "      <td>0.0</td>\n",
       "      <td>0.0</td>\n",
       "      <td>0.0</td>\n",
       "      <td>0.0</td>\n",
       "      <td>0.0</td>\n",
       "      <td>0.0</td>\n",
       "      <td>False</td>\n",
       "      <td>False</td>\n",
       "    </tr>\n",
       "  </tbody>\n",
       "</table>\n",
       "<p>5 rows × 33 columns</p>\n",
       "</div>"
      ],
      "text/plain": [
       "                                        user_id_hash  ratio  Android OS  iOS  \\\n",
       "0  e469dfaed039ead9110165d9bc457acb11609ca34057dc...    0.0         0.0  1.0   \n",
       "1  afcc639a324b6c598ef83d360450afa011cb2dd1358bf9...    0.0         1.0  0.0   \n",
       "2  fd5a7cf211d08e3e00f7be6a9df6e6ea3d2e5c22a5d9c3...    0.0         1.0  0.0   \n",
       "3  00bfff98b9d0329f014c2eeac7ce47cd18b2bc6e10d608...    0.0         1.0  0.0   \n",
       "4  0d298f3638c43e915c119d4935e1ce8d168f81b5e3e8c1...    0.0         1.0  0.0   \n",
       "\n",
       "   purchase_count  purchase_count_7  purchase_count_14  sum_value  mean_value  \\\n",
       "0             0.0               0.0                0.0        0.0         0.0   \n",
       "1             0.0               0.0                0.0        0.0         0.0   \n",
       "2             0.0               0.0                0.0        0.0         0.0   \n",
       "3             0.0               0.0                0.0        0.0         0.0   \n",
       "4             0.0               0.0                0.0        0.0         0.0   \n",
       "\n",
       "   sum_value_7        ...          mean_duration  count_session  \\\n",
       "0          0.0        ...              356544.00            2.0   \n",
       "1          0.0        ...                   0.00            1.0   \n",
       "2          0.0        ...              388631.25            4.0   \n",
       "3          0.0        ...             9200582.90           10.0   \n",
       "4          0.0        ...                   0.00            1.0   \n",
       "\n",
       "   sum_duration_7  mean_duration_7  count_session_7  sum_duration_14  \\\n",
       "0             0.0              0.0              0.0              0.0   \n",
       "1             0.0              0.0              0.0              0.0   \n",
       "2             0.0              0.0              0.0              0.0   \n",
       "3             0.0              0.0              0.0              0.0   \n",
       "4             0.0              0.0              0.0              0.0   \n",
       "\n",
       "   mean_duration_14  count_session_14  one_week_purchase  two_week_purchase  \n",
       "0               0.0               0.0              False              False  \n",
       "1               0.0               0.0              False              False  \n",
       "2               0.0               0.0              False              False  \n",
       "3               0.0               0.0              False              False  \n",
       "4               0.0               0.0              False              False  \n",
       "\n",
       "[5 rows x 33 columns]"
      ]
     },
     "execution_count": 140,
     "metadata": {},
     "output_type": "execute_result"
    }
   ],
   "source": [
    "new_df.head()"
   ]
  },
  {
   "cell_type": "code",
   "execution_count": 141,
   "metadata": {},
   "outputs": [
    {
     "data": {
      "text/plain": [
       "312568"
      ]
     },
     "execution_count": 141,
     "metadata": {},
     "output_type": "execute_result"
    }
   ],
   "source": [
    "len(new_df)"
   ]
  },
  {
   "cell_type": "code",
   "execution_count": 143,
   "metadata": {},
   "outputs": [],
   "source": [
    "X_sub = new_df.iloc[:,1:-2]"
   ]
  },
  {
   "cell_type": "code",
   "execution_count": 152,
   "metadata": {},
   "outputs": [
    {
     "data": {
      "text/plain": [
       "XGBClassifier(base_score=0.5, booster='gbtree', colsample_bylevel=1,\n",
       "       colsample_bytree=0.9, gamma=0.0, learning_rate=0.1,\n",
       "       max_delta_step=0.0, max_depth=4, min_child_weight=1, missing=None,\n",
       "       n_estimators=200, n_jobs=1, nthread=None,\n",
       "       objective='binary:logistic', random_state=0, reg_alpha=0,\n",
       "       reg_lambda=1, scale_pos_weight=1, seed=0, silent=True,\n",
       "       subsample=0.8)"
      ]
     },
     "execution_count": 152,
     "metadata": {},
     "output_type": "execute_result"
    }
   ],
   "source": [
    "gbm_7 = XGBClassifier(max_depth=4, learning_rate=0.1, n_estimators=200,\n",
    "                            objective='binary:logistic', gamma=0., \n",
    "                            max_delta_step=0., subsample=0.8, colsample_bytree=0.9,\n",
    "                            seed=0)\n",
    "gbm_7.fit(X, y_7)"
   ]
  },
  {
   "cell_type": "code",
   "execution_count": 153,
   "metadata": {},
   "outputs": [
    {
     "data": {
      "text/plain": [
       "XGBClassifier(base_score=0.5, booster='gbtree', colsample_bylevel=1,\n",
       "       colsample_bytree=0.9, gamma=0.0, learning_rate=0.1,\n",
       "       max_delta_step=0.0, max_depth=4, min_child_weight=1, missing=None,\n",
       "       n_estimators=200, n_jobs=1, nthread=None,\n",
       "       objective='binary:logistic', random_state=0, reg_alpha=0,\n",
       "       reg_lambda=1, scale_pos_weight=1, seed=0, silent=True,\n",
       "       subsample=0.8)"
      ]
     },
     "execution_count": 153,
     "metadata": {},
     "output_type": "execute_result"
    }
   ],
   "source": [
    "gbm_14 = XGBClassifier(max_depth=4, learning_rate=0.1, n_estimators=200,\n",
    "                            objective='binary:logistic', gamma=0., \n",
    "                            max_delta_step=0., subsample=0.8, colsample_bytree=0.9,\n",
    "                            seed=0)\n",
    "gbm_14.fit(X, y_14)"
   ]
  },
  {
   "cell_type": "code",
   "execution_count": 154,
   "metadata": {},
   "outputs": [
    {
     "data": {
      "text/plain": [
       "Index(['ratio', 'Android OS', 'iOS', 'purchase_count', 'purchase_count_7',\n",
       "       'purchase_count_14', 'sum_value', 'mean_value', 'sum_value_7',\n",
       "       'mean_value_7', 'sum_value_14', 'mean_value_14', 'sum_event',\n",
       "       'mean_event_value', 'count_event', 'sum_event_7', 'mean_event_value_7',\n",
       "       'count_event_7', 'sum_event_14', 'mean_event_value_14',\n",
       "       'count_event_14', 'sum_duration', 'mean_duration', 'count_session',\n",
       "       'sum_duration_7', 'mean_duration_7', 'count_session_7',\n",
       "       'sum_duration_14', 'mean_duration_14', 'count_session_14'],\n",
       "      dtype='object')"
      ]
     },
     "execution_count": 154,
     "metadata": {},
     "output_type": "execute_result"
    }
   ],
   "source": [
    "X_sub.columns"
   ]
  },
  {
   "cell_type": "code",
   "execution_count": 155,
   "metadata": {},
   "outputs": [],
   "source": [
    "proba_7 = [x[1] for x in gbm_7.predict_proba(X_sub)]\n",
    "proba_14 = [x[1] for x in gbm_14.predict_proba(X_sub)]\n",
    "submission['user_purchase_binary_7_days'] = proba_7\n",
    "submission['user_purchase_binary_14_days'] = proba_14"
   ]
  },
  {
   "cell_type": "code",
   "execution_count": 156,
   "metadata": {},
   "outputs": [],
   "source": [
    "submission.to_csv('submission.csv', index=False)"
   ]
  },
  {
   "cell_type": "code",
   "execution_count": null,
   "metadata": {},
   "outputs": [],
   "source": []
  },
  {
   "cell_type": "code",
   "execution_count": 157,
   "metadata": {},
   "outputs": [
    {
     "data": {
      "text/html": [
       "<div>\n",
       "<style scoped>\n",
       "    .dataframe tbody tr th:only-of-type {\n",
       "        vertical-align: middle;\n",
       "    }\n",
       "\n",
       "    .dataframe tbody tr th {\n",
       "        vertical-align: top;\n",
       "    }\n",
       "\n",
       "    .dataframe thead th {\n",
       "        text-align: right;\n",
       "    }\n",
       "</style>\n",
       "<table border=\"1\" class=\"dataframe\">\n",
       "  <thead>\n",
       "    <tr style=\"text-align: right;\">\n",
       "      <th></th>\n",
       "      <th>user_id_hash</th>\n",
       "      <th>ratio</th>\n",
       "      <th>Android OS</th>\n",
       "      <th>iOS</th>\n",
       "      <th>purchase_count</th>\n",
       "      <th>purchase_count_7</th>\n",
       "      <th>purchase_count_14</th>\n",
       "      <th>sum_value</th>\n",
       "      <th>mean_value</th>\n",
       "      <th>sum_value_7</th>\n",
       "      <th>...</th>\n",
       "      <th>mean_duration</th>\n",
       "      <th>count_session</th>\n",
       "      <th>sum_duration_7</th>\n",
       "      <th>mean_duration_7</th>\n",
       "      <th>count_session_7</th>\n",
       "      <th>sum_duration_14</th>\n",
       "      <th>mean_duration_14</th>\n",
       "      <th>count_session_14</th>\n",
       "      <th>one_week_purchase</th>\n",
       "      <th>two_week_purchase</th>\n",
       "    </tr>\n",
       "  </thead>\n",
       "  <tbody>\n",
       "    <tr>\n",
       "      <th>0</th>\n",
       "      <td>002e447aed33ed4c51a68743cc293ef2148058b6a6239e...</td>\n",
       "      <td>0.0</td>\n",
       "      <td>0</td>\n",
       "      <td>1</td>\n",
       "      <td>0</td>\n",
       "      <td>0</td>\n",
       "      <td>0</td>\n",
       "      <td>0.0</td>\n",
       "      <td>0.0</td>\n",
       "      <td>0.0</td>\n",
       "      <td>...</td>\n",
       "      <td>1889284.25</td>\n",
       "      <td>4</td>\n",
       "      <td>0.0</td>\n",
       "      <td>0.0</td>\n",
       "      <td>0</td>\n",
       "      <td>0.0</td>\n",
       "      <td>0.0</td>\n",
       "      <td>0</td>\n",
       "      <td>False</td>\n",
       "      <td>False</td>\n",
       "    </tr>\n",
       "    <tr>\n",
       "      <th>1</th>\n",
       "      <td>005c9d79cf18efc6c8b5fa767964b1def9b8e2f8abd23f...</td>\n",
       "      <td>0.0</td>\n",
       "      <td>1</td>\n",
       "      <td>0</td>\n",
       "      <td>0</td>\n",
       "      <td>0</td>\n",
       "      <td>0</td>\n",
       "      <td>0.0</td>\n",
       "      <td>0.0</td>\n",
       "      <td>0.0</td>\n",
       "      <td>...</td>\n",
       "      <td>0.00</td>\n",
       "      <td>1</td>\n",
       "      <td>0.0</td>\n",
       "      <td>0.0</td>\n",
       "      <td>0</td>\n",
       "      <td>0.0</td>\n",
       "      <td>0.0</td>\n",
       "      <td>0</td>\n",
       "      <td>False</td>\n",
       "      <td>False</td>\n",
       "    </tr>\n",
       "    <tr>\n",
       "      <th>2</th>\n",
       "      <td>0061b4d30e8a9935b2ebeec954ff509b4f0cb500cd725c...</td>\n",
       "      <td>0.0</td>\n",
       "      <td>0</td>\n",
       "      <td>1</td>\n",
       "      <td>0</td>\n",
       "      <td>0</td>\n",
       "      <td>0</td>\n",
       "      <td>0.0</td>\n",
       "      <td>0.0</td>\n",
       "      <td>0.0</td>\n",
       "      <td>...</td>\n",
       "      <td>0.00</td>\n",
       "      <td>1</td>\n",
       "      <td>0.0</td>\n",
       "      <td>0.0</td>\n",
       "      <td>0</td>\n",
       "      <td>0.0</td>\n",
       "      <td>0.0</td>\n",
       "      <td>0</td>\n",
       "      <td>False</td>\n",
       "      <td>False</td>\n",
       "    </tr>\n",
       "    <tr>\n",
       "      <th>3</th>\n",
       "      <td>00fbbf507c7d3c2f259cd3329d241c29d35712e2d4699f...</td>\n",
       "      <td>0.0</td>\n",
       "      <td>0</td>\n",
       "      <td>1</td>\n",
       "      <td>0</td>\n",
       "      <td>0</td>\n",
       "      <td>0</td>\n",
       "      <td>0.0</td>\n",
       "      <td>0.0</td>\n",
       "      <td>0.0</td>\n",
       "      <td>...</td>\n",
       "      <td>645705.50</td>\n",
       "      <td>2</td>\n",
       "      <td>0.0</td>\n",
       "      <td>0.0</td>\n",
       "      <td>0</td>\n",
       "      <td>0.0</td>\n",
       "      <td>0.0</td>\n",
       "      <td>0</td>\n",
       "      <td>False</td>\n",
       "      <td>False</td>\n",
       "    </tr>\n",
       "    <tr>\n",
       "      <th>4</th>\n",
       "      <td>0107a0017873efc2dea9a9155832363ceacf6fe97bd428...</td>\n",
       "      <td>0.0</td>\n",
       "      <td>0</td>\n",
       "      <td>1</td>\n",
       "      <td>0</td>\n",
       "      <td>0</td>\n",
       "      <td>0</td>\n",
       "      <td>0.0</td>\n",
       "      <td>0.0</td>\n",
       "      <td>0.0</td>\n",
       "      <td>...</td>\n",
       "      <td>0.00</td>\n",
       "      <td>1</td>\n",
       "      <td>0.0</td>\n",
       "      <td>0.0</td>\n",
       "      <td>0</td>\n",
       "      <td>0.0</td>\n",
       "      <td>0.0</td>\n",
       "      <td>0</td>\n",
       "      <td>False</td>\n",
       "      <td>False</td>\n",
       "    </tr>\n",
       "  </tbody>\n",
       "</table>\n",
       "<p>5 rows × 33 columns</p>\n",
       "</div>"
      ],
      "text/plain": [
       "                                        user_id_hash  ratio  Android OS  iOS  \\\n",
       "0  002e447aed33ed4c51a68743cc293ef2148058b6a6239e...    0.0           0    1   \n",
       "1  005c9d79cf18efc6c8b5fa767964b1def9b8e2f8abd23f...    0.0           1    0   \n",
       "2  0061b4d30e8a9935b2ebeec954ff509b4f0cb500cd725c...    0.0           0    1   \n",
       "3  00fbbf507c7d3c2f259cd3329d241c29d35712e2d4699f...    0.0           0    1   \n",
       "4  0107a0017873efc2dea9a9155832363ceacf6fe97bd428...    0.0           0    1   \n",
       "\n",
       "   purchase_count  purchase_count_7  purchase_count_14  sum_value  mean_value  \\\n",
       "0               0                 0                  0        0.0         0.0   \n",
       "1               0                 0                  0        0.0         0.0   \n",
       "2               0                 0                  0        0.0         0.0   \n",
       "3               0                 0                  0        0.0         0.0   \n",
       "4               0                 0                  0        0.0         0.0   \n",
       "\n",
       "   sum_value_7        ...          mean_duration  count_session  \\\n",
       "0          0.0        ...             1889284.25              4   \n",
       "1          0.0        ...                   0.00              1   \n",
       "2          0.0        ...                   0.00              1   \n",
       "3          0.0        ...              645705.50              2   \n",
       "4          0.0        ...                   0.00              1   \n",
       "\n",
       "   sum_duration_7  mean_duration_7  count_session_7  sum_duration_14  \\\n",
       "0             0.0              0.0                0              0.0   \n",
       "1             0.0              0.0                0              0.0   \n",
       "2             0.0              0.0                0              0.0   \n",
       "3             0.0              0.0                0              0.0   \n",
       "4             0.0              0.0                0              0.0   \n",
       "\n",
       "   mean_duration_14  count_session_14  one_week_purchase  two_week_purchase  \n",
       "0               0.0                 0              False              False  \n",
       "1               0.0                 0              False              False  \n",
       "2               0.0                 0              False              False  \n",
       "3               0.0                 0              False              False  \n",
       "4               0.0                 0              False              False  \n",
       "\n",
       "[5 rows x 33 columns]"
      ]
     },
     "execution_count": 157,
     "metadata": {},
     "output_type": "execute_result"
    }
   ],
   "source": [
    "df.head()"
   ]
  },
  {
   "cell_type": "code",
   "execution_count": 158,
   "metadata": {},
   "outputs": [],
   "source": [
    "df.to_csv('train.csv', index=False)\n",
    "new_df.iloc[:,:-2].to_csv('sub.csv', index=False)"
   ]
  },
  {
   "cell_type": "code",
   "execution_count": 159,
   "metadata": {},
   "outputs": [],
   "source": [
    "df.to_csv('train.csv', index=False)"
   ]
  },
  {
   "cell_type": "code",
   "execution_count": null,
   "metadata": {},
   "outputs": [],
   "source": []
  }
 ],
 "metadata": {
  "kernelspec": {
   "display_name": "Python 3",
   "language": "python",
   "name": "python3"
  },
  "language_info": {
   "codemirror_mode": {
    "name": "ipython",
    "version": 3
   },
   "file_extension": ".py",
   "mimetype": "text/x-python",
   "name": "python",
   "nbconvert_exporter": "python",
   "pygments_lexer": "ipython3",
   "version": "3.6.8"
  }
 },
 "nbformat": 4,
 "nbformat_minor": 2
}
