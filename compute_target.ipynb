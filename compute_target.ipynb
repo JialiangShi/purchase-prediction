{
 "cells": [
  {
   "cell_type": "code",
   "execution_count": 1,
   "metadata": {
    "ExecuteTime": {
     "end_time": "2019-02-16T18:04:33.827517Z",
     "start_time": "2019-02-16T18:04:33.281738Z"
    }
   },
   "outputs": [],
   "source": [
    "import pandas as pd\n",
    "import numpy as np"
   ]
  },
  {
   "cell_type": "markdown",
   "metadata": {},
   "source": [
    "# Constructing the target variable"
   ]
  },
  {
   "cell_type": "code",
   "execution_count": 2,
   "metadata": {
    "ExecuteTime": {
     "end_time": "2019-02-16T18:06:35.858207Z",
     "start_time": "2019-02-16T18:04:33.831234Z"
    }
   },
   "outputs": [],
   "source": [
    "# read in the events table\n",
    "event_path = '../events.csv'\n",
    "\n",
    "types = {'session_id': np.uint64, 'event': 'category', 'event_timestamp': np.uint64,\n",
    "         'event_value': np.float32, 'user_id_hash': 'category'}\n",
    "events = pd.read_csv(event_path, usecols=types.keys(), dtype=types)"
   ]
  },
  {
   "cell_type": "code",
   "execution_count": 3,
   "metadata": {
    "ExecuteTime": {
     "end_time": "2019-02-16T18:06:38.721811Z",
     "start_time": "2019-02-16T18:06:35.864197Z"
    }
   },
   "outputs": [],
   "source": [
    "# determine which users made a purchase after dec 1st 12 AM\n",
    "dec_1_epoch = 1543622400000\n",
    "\n",
    "after_dec_1 = events['event_timestamp'] > dec_1_epoch\n",
    "val = events[after_dec_1]\n",
    "purchase_after_dec_1 = val[val['event'] == '8']\n",
    "user_purchased_after_dec_1 = purchase_after_dec_1['user_id_hash'].unique()"
   ]
  },
  {
   "cell_type": "code",
   "execution_count": 4,
   "metadata": {
    "ExecuteTime": {
     "end_time": "2019-02-16T18:06:39.420301Z",
     "start_time": "2019-02-16T18:06:38.724541Z"
    }
   },
   "outputs": [],
   "source": [
    "# determine which users made a purchase after dec 8th 12 AM\n",
    "dec_8_epoch = 1544227200000\n",
    "\n",
    "after_dec_8 = events['event_timestamp'] > dec_8_epoch\n",
    "val = events[after_dec_8]\n",
    "purchase_after_dec_8 = val[val['event'] == '8']\n",
    "user_purchased_after_dec_8 = purchase_after_dec_8['user_id_hash'].unique()"
   ]
  },
  {
   "cell_type": "code",
   "execution_count": 5,
   "metadata": {
    "ExecuteTime": {
     "end_time": "2019-02-16T18:06:46.901647Z",
     "start_time": "2019-02-16T18:06:39.422966Z"
    }
   },
   "outputs": [],
   "source": [
    "# calculate necesarry values for target dataframe\n",
    "all_users = events['user_id_hash'].unique()\n",
    "\n",
    "target = [(x, (x in user_purchased_after_dec_1), (x in user_purchased_after_dec_8))\n",
    "          for x in all_users]\n",
    "\n",
    "# all_users_two_weeks = all_users.apply(lambda x: x in user_purchased_after_dec_1)\n",
    "# all_users_one_week = all_users.apply(lambda x: x in user_purchased_after_dec_8)"
   ]
  },
  {
   "cell_type": "code",
   "execution_count": 6,
   "metadata": {
    "ExecuteTime": {
     "end_time": "2019-02-16T18:06:47.051763Z",
     "start_time": "2019-02-16T18:06:46.903497Z"
    }
   },
   "outputs": [],
   "source": [
    "target_df = pd.DataFrame(target, columns=['user_id_hash', 'two_week_purchase', 'one_week_purchase'])"
   ]
  },
  {
   "cell_type": "code",
   "execution_count": 8,
   "metadata": {
    "ExecuteTime": {
     "end_time": "2019-02-16T18:06:49.021736Z",
     "start_time": "2019-02-16T18:06:47.061618Z"
    }
   },
   "outputs": [],
   "source": [
    "target_df.to_csv('validation_set.csv', index=False)"
   ]
  },
  {
   "cell_type": "markdown",
   "metadata": {},
   "source": [
    "# Basic Prediction\n",
    "### Based on whether or not a user has made a purchase in the past"
   ]
  },
  {
   "cell_type": "code",
   "execution_count": 10,
   "metadata": {
    "ExecuteTime": {
     "end_time": "2019-02-16T18:38:00.153470Z",
     "start_time": "2019-02-16T18:37:51.423664Z"
    }
   },
   "outputs": [],
   "source": [
    "dec_1_epoch = 1543622400000\n",
    "\n",
    "before_dec_1 = events['event_timestamp'] < dec_1_epoch\n",
    "before_dec_1 = events[before_dec_1]\n",
    "purchased_before_dec_1 = before_dec_1[before_dec_1['event'] == '8']\n",
    "\n",
    "user_purchased_before_dec_1 = purchased_before_dec_1['user_id_hash'].unique()"
   ]
  },
  {
   "cell_type": "code",
   "execution_count": 32,
   "metadata": {
    "ExecuteTime": {
     "end_time": "2019-02-17T07:32:05.416851Z",
     "start_time": "2019-02-17T07:31:50.831753Z"
    }
   },
   "outputs": [],
   "source": [
    "dec_15_epoch = 1544832000000\n",
    "\n",
    "before_dec_15 = events['event_timestamp'] < dec_15_epoch\n",
    "before_dec_15 = events[before_dec_15]\n",
    "purchased_before_dec_15 = before_dec_15[before_dec_15['event'] == '8']\n",
    "\n",
    "user_purchased_before_dec_15 = purchased_before_dec_15['user_id_hash'].unique()"
   ]
  },
  {
   "cell_type": "code",
   "execution_count": 34,
   "metadata": {
    "ExecuteTime": {
     "end_time": "2019-02-17T07:33:14.032696Z",
     "start_time": "2019-02-17T07:33:07.103441Z"
    }
   },
   "outputs": [],
   "source": [
    "target_df['previously_purchased'] = target_df['user_id_hash'].apply(lambda x: (x in user_purchased_before_dec_1))\n",
    "train_df = pd.DataFrame({'previously_purchased': target_df['user_id_hash'].apply(lambda x: (x in user_purchased_before_dec_15))})"
   ]
  },
  {
   "cell_type": "code",
   "execution_count": 16,
   "metadata": {
    "ExecuteTime": {
     "end_time": "2019-02-17T07:11:21.198070Z",
     "start_time": "2019-02-17T07:11:21.180451Z"
    }
   },
   "outputs": [],
   "source": [
    "# target_df"
   ]
  },
  {
   "cell_type": "code",
   "execution_count": 18,
   "metadata": {
    "ExecuteTime": {
     "end_time": "2019-02-17T07:13:16.379925Z",
     "start_time": "2019-02-17T07:13:16.362938Z"
    }
   },
   "outputs": [
    {
     "data": {
      "text/html": [
       "<div>\n",
       "<style scoped>\n",
       "    .dataframe tbody tr th:only-of-type {\n",
       "        vertical-align: middle;\n",
       "    }\n",
       "\n",
       "    .dataframe tbody tr th {\n",
       "        vertical-align: top;\n",
       "    }\n",
       "\n",
       "    .dataframe thead th {\n",
       "        text-align: right;\n",
       "    }\n",
       "</style>\n",
       "<table border=\"1\" class=\"dataframe\">\n",
       "  <thead>\n",
       "    <tr style=\"text-align: right;\">\n",
       "      <th></th>\n",
       "      <th>user_id_hash</th>\n",
       "      <th>two_week_purchase</th>\n",
       "      <th>one_week_purchase</th>\n",
       "      <th>previously_purchased</th>\n",
       "    </tr>\n",
       "  </thead>\n",
       "  <tbody>\n",
       "    <tr>\n",
       "      <th>0</th>\n",
       "      <td>9943447915df3a45fd6720a026af905b6da6b56a37701b...</td>\n",
       "      <td>False</td>\n",
       "      <td>False</td>\n",
       "      <td>True</td>\n",
       "    </tr>\n",
       "    <tr>\n",
       "      <th>1</th>\n",
       "      <td>43f75f8042d3c80c45e222bdd09267f4584684c54d6fae...</td>\n",
       "      <td>False</td>\n",
       "      <td>False</td>\n",
       "      <td>False</td>\n",
       "    </tr>\n",
       "    <tr>\n",
       "      <th>2</th>\n",
       "      <td>999524249720812f2d8c0390293efd58e1ac84d587a01c...</td>\n",
       "      <td>False</td>\n",
       "      <td>False</td>\n",
       "      <td>False</td>\n",
       "    </tr>\n",
       "    <tr>\n",
       "      <th>3</th>\n",
       "      <td>4e6bc35cf7fd79a5312047651e7865915f4a6bec193cf2...</td>\n",
       "      <td>False</td>\n",
       "      <td>False</td>\n",
       "      <td>False</td>\n",
       "    </tr>\n",
       "    <tr>\n",
       "      <th>4</th>\n",
       "      <td>dc009148ee26d658e0240c7b7f6a258790a457737f96e8...</td>\n",
       "      <td>False</td>\n",
       "      <td>False</td>\n",
       "      <td>False</td>\n",
       "    </tr>\n",
       "  </tbody>\n",
       "</table>\n",
       "</div>"
      ],
      "text/plain": [
       "                                        user_id_hash  two_week_purchase  \\\n",
       "0  9943447915df3a45fd6720a026af905b6da6b56a37701b...              False   \n",
       "1  43f75f8042d3c80c45e222bdd09267f4584684c54d6fae...              False   \n",
       "2  999524249720812f2d8c0390293efd58e1ac84d587a01c...              False   \n",
       "3  4e6bc35cf7fd79a5312047651e7865915f4a6bec193cf2...              False   \n",
       "4  dc009148ee26d658e0240c7b7f6a258790a457737f96e8...              False   \n",
       "\n",
       "   one_week_purchase  previously_purchased  \n",
       "0              False                  True  \n",
       "1              False                 False  \n",
       "2              False                 False  \n",
       "3              False                 False  \n",
       "4              False                 False  "
      ]
     },
     "execution_count": 18,
     "metadata": {},
     "output_type": "execute_result"
    }
   ],
   "source": [
    "target_df.head()"
   ]
  },
  {
   "cell_type": "code",
   "execution_count": 24,
   "metadata": {
    "ExecuteTime": {
     "end_time": "2019-02-17T07:19:52.374845Z",
     "start_time": "2019-02-17T07:19:52.371461Z"
    }
   },
   "outputs": [],
   "source": [
    "X = target_df['previously_purchased'].values.reshape(-1, 1)\n",
    "y_one_week = target_df['one_week_purchase']\n",
    "y_two_week = target_df['two_week_purchase']"
   ]
  },
  {
   "cell_type": "code",
   "execution_count": 25,
   "metadata": {
    "ExecuteTime": {
     "end_time": "2019-02-17T07:19:53.637283Z",
     "start_time": "2019-02-17T07:19:53.634575Z"
    }
   },
   "outputs": [],
   "source": [
    "from sklearn.tree import DecisionTreeClassifier\n",
    "from sklearn.metrics import auc"
   ]
  },
  {
   "cell_type": "code",
   "execution_count": 26,
   "metadata": {
    "ExecuteTime": {
     "end_time": "2019-02-17T07:19:55.152316Z",
     "start_time": "2019-02-17T07:19:55.084598Z"
    }
   },
   "outputs": [
    {
     "data": {
      "text/plain": [
       "DecisionTreeClassifier(class_weight=None, criterion='gini', max_depth=None,\n",
       "            max_features=None, max_leaf_nodes=None,\n",
       "            min_impurity_decrease=0.0, min_impurity_split=None,\n",
       "            min_samples_leaf=1, min_samples_split=2,\n",
       "            min_weight_fraction_leaf=0.0, presort=False, random_state=None,\n",
       "            splitter='best')"
      ]
     },
     "execution_count": 26,
     "metadata": {},
     "output_type": "execute_result"
    }
   ],
   "source": [
    "dt_cf = DecisionTreeClassifier()\n",
    "dt_cf.fit(X, y_one_week)"
   ]
  },
  {
   "cell_type": "code",
   "execution_count": 35,
   "metadata": {
    "ExecuteTime": {
     "end_time": "2019-02-17T07:34:23.353119Z",
     "start_time": "2019-02-17T07:34:23.315907Z"
    }
   },
   "outputs": [],
   "source": [
    "one_week_pred = dt_cf.predict_proba(train_df['previously_purchased'].values.reshape(-1, 1))"
   ]
  },
  {
   "cell_type": "code",
   "execution_count": 38,
   "metadata": {
    "ExecuteTime": {
     "end_time": "2019-02-17T07:34:57.750750Z",
     "start_time": "2019-02-17T07:34:57.746660Z"
    }
   },
   "outputs": [
    {
     "data": {
      "text/plain": [
       "array([[0.92428006, 0.07571994],\n",
       "       [0.99861147, 0.00138853],\n",
       "       [0.99861147, 0.00138853],\n",
       "       ...,\n",
       "       [0.99861147, 0.00138853],\n",
       "       [0.99861147, 0.00138853],\n",
       "       [0.99861147, 0.00138853]])"
      ]
     },
     "execution_count": 38,
     "metadata": {},
     "output_type": "execute_result"
    }
   ],
   "source": [
    "one_week_pred"
   ]
  },
  {
   "cell_type": "code",
   "execution_count": 39,
   "metadata": {
    "ExecuteTime": {
     "end_time": "2019-02-17T07:44:12.399577Z",
     "start_time": "2019-02-17T07:44:12.321775Z"
    }
   },
   "outputs": [
    {
     "data": {
      "text/plain": [
       "DecisionTreeClassifier(class_weight=None, criterion='gini', max_depth=None,\n",
       "            max_features=None, max_leaf_nodes=None,\n",
       "            min_impurity_decrease=0.0, min_impurity_split=None,\n",
       "            min_samples_leaf=1, min_samples_split=2,\n",
       "            min_weight_fraction_leaf=0.0, presort=False, random_state=None,\n",
       "            splitter='best')"
      ]
     },
     "execution_count": 39,
     "metadata": {},
     "output_type": "execute_result"
    }
   ],
   "source": [
    "dt_cf2 = DecisionTreeClassifier()\n",
    "dt_cf2.fit(X, y_two_week)"
   ]
  },
  {
   "cell_type": "code",
   "execution_count": 40,
   "metadata": {
    "ExecuteTime": {
     "end_time": "2019-02-17T07:47:22.176697Z",
     "start_time": "2019-02-17T07:47:22.147659Z"
    }
   },
   "outputs": [],
   "source": [
    "two_week_pred = dt_cf2.predict_proba(train_df['previously_purchased'].values.reshape(-1, 1))"
   ]
  },
  {
   "cell_type": "code",
   "execution_count": 41,
   "metadata": {
    "ExecuteTime": {
     "end_time": "2019-02-17T07:47:27.398799Z",
     "start_time": "2019-02-17T07:47:27.393835Z"
    }
   },
   "outputs": [
    {
     "data": {
      "text/plain": [
       "array([[0.86098077, 0.13901923],\n",
       "       [0.99729263, 0.00270737],\n",
       "       [0.99729263, 0.00270737],\n",
       "       ...,\n",
       "       [0.99729263, 0.00270737],\n",
       "       [0.99729263, 0.00270737],\n",
       "       [0.99729263, 0.00270737]])"
      ]
     },
     "execution_count": 41,
     "metadata": {},
     "output_type": "execute_result"
    }
   ],
   "source": [
    "two_week_pred"
   ]
  },
  {
   "cell_type": "code",
   "execution_count": 43,
   "metadata": {
    "ExecuteTime": {
     "end_time": "2019-02-17T07:54:11.638654Z",
     "start_time": "2019-02-17T07:54:11.234251Z"
    }
   },
   "outputs": [],
   "source": [
    "one_week_pred = [pair[1] for pair in one_week_pred]\n",
    "two_week_pred = [pair[1] for pair in two_week_pred]\n",
    "\n",
    "prediction = pd.DataFrame({'user_id_hash': all_users,\n",
    "                           'user_purchase_binary_7_days': one_week_pred,\n",
    "                           'user_purchase_binary_14_days': two_week_pred})"
   ]
  },
  {
   "cell_type": "code",
   "execution_count": 45,
   "metadata": {
    "ExecuteTime": {
     "end_time": "2019-02-17T07:55:22.725928Z",
     "start_time": "2019-02-17T07:55:19.464753Z"
    }
   },
   "outputs": [],
   "source": [
    "prediction.to_csv('/Users/jon_ross/Desktop/prediction.csv', index=False)"
   ]
  },
  {
   "cell_type": "code",
   "execution_count": 46,
   "metadata": {
    "ExecuteTime": {
     "end_time": "2019-02-17T07:55:53.889152Z",
     "start_time": "2019-02-17T07:55:53.884527Z"
    }
   },
   "outputs": [
    {
     "data": {
      "text/plain": [
       "621001"
      ]
     },
     "execution_count": 46,
     "metadata": {},
     "output_type": "execute_result"
    }
   ],
   "source": [
    "len(prediction)"
   ]
  },
  {
   "cell_type": "code",
   "execution_count": 48,
   "metadata": {
    "ExecuteTime": {
     "end_time": "2019-02-17T07:56:50.471060Z",
     "start_time": "2019-02-17T07:56:50.467160Z"
    }
   },
   "outputs": [
    {
     "data": {
      "text/plain": [
       "621001"
      ]
     },
     "execution_count": 48,
     "metadata": {},
     "output_type": "execute_result"
    }
   ],
   "source": [
    "len(all_users)"
   ]
  },
  {
   "cell_type": "code",
   "execution_count": 53,
   "metadata": {
    "ExecuteTime": {
     "end_time": "2019-02-17T08:11:33.103253Z",
     "start_time": "2019-02-17T08:11:31.159532Z"
    }
   },
   "outputs": [
    {
     "data": {
      "text/plain": [
       "621001"
      ]
     },
     "execution_count": 53,
     "metadata": {},
     "output_type": "execute_result"
    }
   ],
   "source": [
    "len(events['user_id_hash'].unique())"
   ]
  },
  {
   "cell_type": "code",
   "execution_count": 55,
   "metadata": {
    "ExecuteTime": {
     "end_time": "2019-02-17T08:15:18.895795Z",
     "start_time": "2019-02-17T08:15:17.150248Z"
    }
   },
   "outputs": [
    {
     "data": {
      "text/plain": [
       "[9943447915df3a45fd6720a026af905b6da6b56a37701b..., 43f75f8042d3c80c45e222bdd09267f4584684c54d6fae..., 999524249720812f2d8c0390293efd58e1ac84d587a01c..., 4e6bc35cf7fd79a5312047651e7865915f4a6bec193cf2..., dc009148ee26d658e0240c7b7f6a258790a457737f96e8..., ..., b8df5637f865257165270f06128d9f363db70dafbe1921..., 48c437d19ea514f48e794f387d30b943b8177c7801f14f..., 3634f7c91added0bee9e3516ddeb865cae4a2cd9bf994f..., 3af850ac2e9ee39ae40f0e1297cef53eb97e383ba92959..., 62f2865f7fb8782548d151de539e8d93cf8a5aac1b380f...]\n",
       "Length: 621001\n",
       "Categories (621001, object): [9943447915df3a45fd6720a026af905b6da6b56a37701b..., 43f75f8042d3c80c45e222bdd09267f4584684c54d6fae..., 999524249720812f2d8c0390293efd58e1ac84d587a01c..., 4e6bc35cf7fd79a5312047651e7865915f4a6bec193cf2..., ..., 48c437d19ea514f48e794f387d30b943b8177c7801f14f..., 3634f7c91added0bee9e3516ddeb865cae4a2cd9bf994f..., 3af850ac2e9ee39ae40f0e1297cef53eb97e383ba92959..., 62f2865f7fb8782548d151de539e8d93cf8a5aac1b380f...]"
      ]
     },
     "execution_count": 55,
     "metadata": {},
     "output_type": "execute_result"
    }
   ],
   "source": [
    "events['user_id_hash'].unique()"
   ]
  },
  {
   "cell_type": "code",
   "execution_count": 56,
   "metadata": {
    "ExecuteTime": {
     "end_time": "2019-02-17T08:17:41.001125Z",
     "start_time": "2019-02-17T08:17:35.485896Z"
    }
   },
   "outputs": [],
   "source": [
    "event_users = set(events['user_id_hash'])"
   ]
  },
  {
   "cell_type": "code",
   "execution_count": 57,
   "metadata": {
    "ExecuteTime": {
     "end_time": "2019-02-17T08:18:54.516501Z",
     "start_time": "2019-02-17T08:18:54.102117Z"
    }
   },
   "outputs": [],
   "source": [
    "asdfsa = pd.read_csv('/Users/jon_ross/Downloads/sample_submission_2.csv')"
   ]
  },
  {
   "cell_type": "code",
   "execution_count": 61,
   "metadata": {
    "ExecuteTime": {
     "end_time": "2019-02-17T18:38:58.569360Z",
     "start_time": "2019-02-17T18:38:58.501352Z"
    }
   },
   "outputs": [],
   "source": [
    "sample_users = set(asdfsa['user_id_hash'])"
   ]
  },
  {
   "cell_type": "code",
   "execution_count": null,
   "metadata": {},
   "outputs": [],
   "source": []
  }
 ],
 "metadata": {
  "kernelspec": {
   "display_name": "Python 3",
   "language": "python",
   "name": "python3"
  },
  "language_info": {
   "codemirror_mode": {
    "name": "ipython",
    "version": 3
   },
   "file_extension": ".py",
   "mimetype": "text/x-python",
   "name": "python",
   "nbconvert_exporter": "python",
   "pygments_lexer": "ipython3",
   "version": "3.6.8"
  }
 },
 "nbformat": 4,
 "nbformat_minor": 2
}
