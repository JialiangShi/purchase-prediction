{
 "cells": [
  {
   "cell_type": "markdown",
   "metadata": {
    "toc": true
   },
   "source": [
    "<h1>Table of Contents<span class=\"tocSkip\"></span></h1>\n",
    "<div class=\"toc\"><ul class=\"toc-item\"><li><span><a href=\"#EDA\" data-toc-modified-id=\"EDA-1\"><span class=\"toc-item-num\">1&nbsp;&nbsp;</span>EDA</a></span><ul class=\"toc-item\"><li><span><a href=\"#summary\" data-toc-modified-id=\"summary-1.1\"><span class=\"toc-item-num\">1.1&nbsp;&nbsp;</span>summary</a></span></li><li><span><a href=\"#attrib\" data-toc-modified-id=\"attrib-1.2\"><span class=\"toc-item-num\">1.2&nbsp;&nbsp;</span>attrib</a></span></li><li><span><a href=\"#message\" data-toc-modified-id=\"message-1.3\"><span class=\"toc-item-num\">1.3&nbsp;&nbsp;</span>message</a></span></li><li><span><a href=\"#session-(when-user-engages-with-the-app)\" data-toc-modified-id=\"session-(when-user-engages-with-the-app)-1.4\"><span class=\"toc-item-num\">1.4&nbsp;&nbsp;</span>session (when user engages with the app)</a></span><ul class=\"toc-item\"><li><span><a href=\"#convert-to-datetime\" data-toc-modified-id=\"convert-to-datetime-1.4.1\"><span class=\"toc-item-num\">1.4.1&nbsp;&nbsp;</span>convert to datetime</a></span></li><li><span><a href=\"#EDA\" data-toc-modified-id=\"EDA-1.4.2\"><span class=\"toc-item-num\">1.4.2&nbsp;&nbsp;</span>EDA</a></span><ul class=\"toc-item\"><li><span><a href=\"#number-of-sessions-per-user\" data-toc-modified-id=\"number-of-sessions-per-user-1.4.2.1\"><span class=\"toc-item-num\">1.4.2.1&nbsp;&nbsp;</span>number of sessions per user</a></span></li><li><span><a href=\"#first-session\" data-toc-modified-id=\"first-session-1.4.2.2\"><span class=\"toc-item-num\">1.4.2.2&nbsp;&nbsp;</span>first session</a></span></li><li><span><a href=\"#is_developer\" data-toc-modified-id=\"is_developer-1.4.2.3\"><span class=\"toc-item-num\">1.4.2.3&nbsp;&nbsp;</span>is_developer</a></span></li><li><span><a href=\"#os_name\" data-toc-modified-id=\"os_name-1.4.2.4\"><span class=\"toc-item-num\">1.4.2.4&nbsp;&nbsp;</span>os_name</a></span></li><li><span><a href=\"#previous_sessions_duration-per-user\" data-toc-modified-id=\"previous_sessions_duration-per-user-1.4.2.5\"><span class=\"toc-item-num\">1.4.2.5&nbsp;&nbsp;</span>previous_sessions_duration per user</a></span></li></ul></li></ul></li><li><span><a href=\"#events\" data-toc-modified-id=\"events-1.5\"><span class=\"toc-item-num\">1.5&nbsp;&nbsp;</span>events</a></span><ul class=\"toc-item\"><li><span><a href=\"#label-prep\" data-toc-modified-id=\"label-prep-1.5.1\"><span class=\"toc-item-num\">1.5.1&nbsp;&nbsp;</span>label prep</a></span></li></ul></li><li><span><a href=\"#sample-submission\" data-toc-modified-id=\"sample-submission-1.6\"><span class=\"toc-item-num\">1.6&nbsp;&nbsp;</span>sample submission</a></span></li></ul></li><li><span><a href=\"#Join-Tables-(session-+-event)\" data-toc-modified-id=\"Join-Tables-(session-+-event)-2\"><span class=\"toc-item-num\">2&nbsp;&nbsp;</span>Join Tables (session + event)</a></span></li><li><span><a href=\"#Train-val-data\" data-toc-modified-id=\"Train-val-data-3\"><span class=\"toc-item-num\">3&nbsp;&nbsp;</span>Train val data</a></span></li><li><span><a href=\"#model\" data-toc-modified-id=\"model-4\"><span class=\"toc-item-num\">4&nbsp;&nbsp;</span>model</a></span></li></ul></div>"
   ]
  },
  {
   "cell_type": "code",
   "execution_count": 1,
   "metadata": {
    "ExecuteTime": {
     "end_time": "2019-02-19T02:59:58.160894Z",
     "start_time": "2019-02-19T02:59:56.675307Z"
    }
   },
   "outputs": [],
   "source": [
    "import pandas as pd\n",
    "import numpy as np\n",
    "%matplotlib inline\n",
    "import numpy as np \n",
    "import pandas as pd\n",
    "from datetime import timedelta\n",
    "import datetime as dt\n",
    "import matplotlib.pyplot as plt\n",
    "import xgboost as xgb\n",
    "from sklearn.cluster import MiniBatchKMeans\n",
    "import seaborn as sns\n",
    "import warnings\n",
    "plt.style.use('ggplot')"
   ]
  },
  {
   "cell_type": "markdown",
   "metadata": {},
   "source": [
    "# EDA"
   ]
  },
  {
   "cell_type": "markdown",
   "metadata": {},
   "source": [
    "## summary\n",
    "|_|**SESSION**|**EVENT**|**sample submission**|\n",
    "|---|---|---|---|\n",
    "|total rows|6,239,836|111,946,597|312,568|\n",
    "|unique user_id_hash|621,106|621,001|312,568|\n",
    "|unique session_id|6,000,342|5,009,421|na|\n",
    "|unique session_id & user_id_hash comb|6,000,342|5,009,421|na|"
   ]
  },
  {
   "cell_type": "markdown",
   "metadata": {
    "ExecuteTime": {
     "end_time": "2019-02-16T05:14:03.681759Z",
     "start_time": "2019-02-16T05:14:03.679159Z"
    }
   },
   "source": [
    "## attrib"
   ]
  },
  {
   "cell_type": "code",
   "execution_count": 2,
   "metadata": {
    "ExecuteTime": {
     "end_time": "2019-02-19T03:00:01.077991Z",
     "start_time": "2019-02-19T03:00:01.057100Z"
    },
    "scrolled": true
   },
   "outputs": [
    {
     "name": "stderr",
     "output_type": "stream",
     "text": [
      "/anaconda3/lib/python3.6/site-packages/ipykernel_launcher.py:2: ParserWarning: Falling back to the 'python' engine because the 'c' engine does not support regex separators (separators > 1 char and different from '\\s+' are interpreted as regex); you can avoid this warning by specifying engine='python'.\n",
      "  \n"
     ]
    }
   ],
   "source": [
    "types = {'app_id':'category', 'session_id':'category', 'attribute':'category', 'attribute_value':'category', 'user_id_hash':'category'}\n",
    "attrib = pd.read_csv('../data/attributes.csv', sep=\",(?![^\\[]*\\])\", dtype=types, nrows=100)"
   ]
  },
  {
   "cell_type": "code",
   "execution_count": 3,
   "metadata": {
    "ExecuteTime": {
     "end_time": "2019-02-19T03:00:02.419031Z",
     "start_time": "2019-02-19T03:00:02.402573Z"
    },
    "scrolled": true
   },
   "outputs": [
    {
     "data": {
      "text/html": [
       "<div>\n",
       "<style scoped>\n",
       "    .dataframe tbody tr th:only-of-type {\n",
       "        vertical-align: middle;\n",
       "    }\n",
       "\n",
       "    .dataframe tbody tr th {\n",
       "        vertical-align: top;\n",
       "    }\n",
       "\n",
       "    .dataframe thead th {\n",
       "        text-align: right;\n",
       "    }\n",
       "</style>\n",
       "<table border=\"1\" class=\"dataframe\">\n",
       "  <thead>\n",
       "    <tr style=\"text-align: right;\">\n",
       "      <th></th>\n",
       "      <th>app_id</th>\n",
       "      <th>session_id</th>\n",
       "      <th>attribute</th>\n",
       "      <th>attribute_value</th>\n",
       "      <th>user_id_hash</th>\n",
       "    </tr>\n",
       "  </thead>\n",
       "  <tbody>\n",
       "    <tr>\n",
       "      <th>0</th>\n",
       "      <td>4724682771660800</td>\n",
       "      <td>2201961907282901522</td>\n",
       "      <td>0</td>\n",
       "      <td>1</td>\n",
       "      <td>9943447915df3a45fd6720a026af905b6da6b56a37701b...</td>\n",
       "    </tr>\n",
       "    <tr>\n",
       "      <th>1</th>\n",
       "      <td>4724682771660800</td>\n",
       "      <td>2201961907282901522</td>\n",
       "      <td>1</td>\n",
       "      <td>1</td>\n",
       "      <td>9943447915df3a45fd6720a026af905b6da6b56a37701b...</td>\n",
       "    </tr>\n",
       "    <tr>\n",
       "      <th>2</th>\n",
       "      <td>4724682771660800</td>\n",
       "      <td>2201961907282901522</td>\n",
       "      <td>3</td>\n",
       "      <td>0</td>\n",
       "      <td>9943447915df3a45fd6720a026af905b6da6b56a37701b...</td>\n",
       "    </tr>\n",
       "    <tr>\n",
       "      <th>3</th>\n",
       "      <td>4724682771660800</td>\n",
       "      <td>2201961907282901522</td>\n",
       "      <td>4</td>\n",
       "      <td>0.00</td>\n",
       "      <td>9943447915df3a45fd6720a026af905b6da6b56a37701b...</td>\n",
       "    </tr>\n",
       "    <tr>\n",
       "      <th>4</th>\n",
       "      <td>4724682771660800</td>\n",
       "      <td>2201961907282901522</td>\n",
       "      <td>5</td>\n",
       "      <td>romance_the_royal_romance_02:11</td>\n",
       "      <td>9943447915df3a45fd6720a026af905b6da6b56a37701b...</td>\n",
       "    </tr>\n",
       "  </tbody>\n",
       "</table>\n",
       "</div>"
      ],
      "text/plain": [
       "             app_id           session_id attribute  \\\n",
       "0  4724682771660800  2201961907282901522         0   \n",
       "1  4724682771660800  2201961907282901522         1   \n",
       "2  4724682771660800  2201961907282901522         3   \n",
       "3  4724682771660800  2201961907282901522         4   \n",
       "4  4724682771660800  2201961907282901522         5   \n",
       "\n",
       "                   attribute_value  \\\n",
       "0                                1   \n",
       "1                                1   \n",
       "2                                0   \n",
       "3                             0.00   \n",
       "4  romance_the_royal_romance_02:11   \n",
       "\n",
       "                                        user_id_hash  \n",
       "0  9943447915df3a45fd6720a026af905b6da6b56a37701b...  \n",
       "1  9943447915df3a45fd6720a026af905b6da6b56a37701b...  \n",
       "2  9943447915df3a45fd6720a026af905b6da6b56a37701b...  \n",
       "3  9943447915df3a45fd6720a026af905b6da6b56a37701b...  \n",
       "4  9943447915df3a45fd6720a026af905b6da6b56a37701b...  "
      ]
     },
     "execution_count": 3,
     "metadata": {},
     "output_type": "execute_result"
    }
   ],
   "source": [
    "attrib.head()"
   ]
  },
  {
   "cell_type": "markdown",
   "metadata": {
    "ExecuteTime": {
     "end_time": "2019-02-16T05:10:29.095036Z",
     "start_time": "2019-02-16T05:10:29.092895Z"
    }
   },
   "source": [
    "## message"
   ]
  },
  {
   "cell_type": "code",
   "execution_count": 4,
   "metadata": {
    "ExecuteTime": {
     "end_time": "2019-02-19T03:00:04.219068Z",
     "start_time": "2019-02-19T03:00:04.211015Z"
    }
   },
   "outputs": [],
   "source": [
    "messages = pd.read_csv('../data/messages.csv')"
   ]
  },
  {
   "cell_type": "code",
   "execution_count": 5,
   "metadata": {
    "ExecuteTime": {
     "end_time": "2019-02-19T03:00:05.744074Z",
     "start_time": "2019-02-19T03:00:05.733806Z"
    }
   },
   "outputs": [
    {
     "data": {
      "text/html": [
       "<div>\n",
       "<style scoped>\n",
       "    .dataframe tbody tr th:only-of-type {\n",
       "        vertical-align: middle;\n",
       "    }\n",
       "\n",
       "    .dataframe tbody tr th {\n",
       "        vertical-align: top;\n",
       "    }\n",
       "\n",
       "    .dataframe thead th {\n",
       "        text-align: right;\n",
       "    }\n",
       "</style>\n",
       "<table border=\"1\" class=\"dataframe\">\n",
       "  <thead>\n",
       "    <tr style=\"text-align: right;\">\n",
       "      <th></th>\n",
       "      <th>app_id</th>\n",
       "      <th>message_id</th>\n",
       "      <th>action_type</th>\n",
       "      <th>delivery_type</th>\n",
       "      <th>delivery_time_mode</th>\n",
       "      <th>goal_kind</th>\n",
       "    </tr>\n",
       "  </thead>\n",
       "  <tbody>\n",
       "    <tr>\n",
       "      <th>0</th>\n",
       "      <td>6196435404455936</td>\n",
       "      <td>5420304779837440</td>\n",
       "      <td>__Push Notification</td>\n",
       "      <td>4</td>\n",
       "      <td>3</td>\n",
       "      <td>NaN</td>\n",
       "    </tr>\n",
       "    <tr>\n",
       "      <th>1</th>\n",
       "      <td>6196435404455936</td>\n",
       "      <td>5059935179767808</td>\n",
       "      <td>__Push Notification</td>\n",
       "      <td>0</td>\n",
       "      <td>3</td>\n",
       "      <td>NaN</td>\n",
       "    </tr>\n",
       "    <tr>\n",
       "      <th>2</th>\n",
       "      <td>6196435404455936</td>\n",
       "      <td>6563799154425856</td>\n",
       "      <td>__Webhook</td>\n",
       "      <td>4</td>\n",
       "      <td>3</td>\n",
       "      <td>NaN</td>\n",
       "    </tr>\n",
       "    <tr>\n",
       "      <th>3</th>\n",
       "      <td>6196435404455936</td>\n",
       "      <td>4680497250304000</td>\n",
       "      <td>__Push Notification</td>\n",
       "      <td>0</td>\n",
       "      <td>3</td>\n",
       "      <td>NaN</td>\n",
       "    </tr>\n",
       "    <tr>\n",
       "      <th>4</th>\n",
       "      <td>4724682771660800</td>\n",
       "      <td>6286714069450752</td>\n",
       "      <td>Center Popup</td>\n",
       "      <td>0</td>\n",
       "      <td>3</td>\n",
       "      <td>3.0</td>\n",
       "    </tr>\n",
       "  </tbody>\n",
       "</table>\n",
       "</div>"
      ],
      "text/plain": [
       "             app_id        message_id          action_type  delivery_type  \\\n",
       "0  6196435404455936  5420304779837440  __Push Notification              4   \n",
       "1  6196435404455936  5059935179767808  __Push Notification              0   \n",
       "2  6196435404455936  6563799154425856            __Webhook              4   \n",
       "3  6196435404455936  4680497250304000  __Push Notification              0   \n",
       "4  4724682771660800  6286714069450752         Center Popup              0   \n",
       "\n",
       "   delivery_time_mode  goal_kind  \n",
       "0                   3        NaN  \n",
       "1                   3        NaN  \n",
       "2                   3        NaN  \n",
       "3                   3        NaN  \n",
       "4                   3        3.0  "
      ]
     },
     "execution_count": 5,
     "metadata": {},
     "output_type": "execute_result"
    }
   ],
   "source": [
    "messages.head()"
   ]
  },
  {
   "cell_type": "markdown",
   "metadata": {},
   "source": [
    "## session (when user engages with the app)"
   ]
  },
  {
   "cell_type": "code",
   "execution_count": 6,
   "metadata": {
    "ExecuteTime": {
     "end_time": "2019-02-19T03:00:07.563671Z",
     "start_time": "2019-02-19T03:00:07.560099Z"
    }
   },
   "outputs": [],
   "source": [
    "session_path = '../data/sessions.csv'\n",
    "session_types = {'session_id':'category', 'start_timestamp':np.uint64, 'timezone':'category', \n",
    "                 'previous_sessions_duration':np.uint32, 'user_created_timestamp':np.uint64,\n",
    "                 'is_user_first_session':np.bool, 'is_session':np.bool, 'is_developer':np.bool, \n",
    "                 'country':'category', 'region':'category', 'city':'category', 'os_name':'category', \n",
    "                 'session_index':np.uint16, 'user_id_hash':'category'}"
   ]
  },
  {
   "cell_type": "code",
   "execution_count": 7,
   "metadata": {
    "ExecuteTime": {
     "end_time": "2019-02-19T03:00:50.008033Z",
     "start_time": "2019-02-19T03:00:09.451805Z"
    }
   },
   "outputs": [],
   "source": [
    "session = pd.read_csv(session_path, usecols=session_types.keys(), dtype=types)"
   ]
  },
  {
   "cell_type": "code",
   "execution_count": 8,
   "metadata": {
    "ExecuteTime": {
     "end_time": "2019-02-19T03:01:40.290096Z",
     "start_time": "2019-02-19T03:01:40.284314Z"
    },
    "scrolled": false
   },
   "outputs": [
    {
     "name": "stdout",
     "output_type": "stream",
     "text": [
      "<class 'pandas.core.frame.DataFrame'>\n",
      "RangeIndex: 6239836 entries, 0 to 6239835\n",
      "Data columns (total 14 columns):\n",
      "session_id                    category\n",
      "start_timestamp               int64\n",
      "timezone                      object\n",
      "previous_sessions_duration    int64\n",
      "user_created_timestamp        int64\n",
      "is_user_first_session         bool\n",
      "is_session                    bool\n",
      "is_developer                  bool\n",
      "country                       object\n",
      "region                        object\n",
      "city                          object\n",
      "os_name                       object\n",
      "session_index                 int64\n",
      "user_id_hash                  category\n",
      "dtypes: bool(3), category(2), int64(4), object(5)\n",
      "memory usage: 724.4+ MB\n"
     ]
    }
   ],
   "source": [
    "session.info()"
   ]
  },
  {
   "cell_type": "markdown",
   "metadata": {
    "ExecuteTime": {
     "end_time": "2019-02-17T01:02:43.947625Z",
     "start_time": "2019-02-17T01:02:43.943765Z"
    }
   },
   "source": [
    "### convert to datetime"
   ]
  },
  {
   "cell_type": "code",
   "execution_count": 9,
   "metadata": {
    "ExecuteTime": {
     "end_time": "2019-02-19T03:01:42.423477Z",
     "start_time": "2019-02-19T03:01:42.110871Z"
    }
   },
   "outputs": [],
   "source": [
    "session['start_timestamp'] = pd.to_datetime(session.start_timestamp, unit='ms')\n",
    "session['user_created_timestamp'] = pd.to_datetime(session.user_created_timestamp, unit='ms')"
   ]
  },
  {
   "cell_type": "code",
   "execution_count": 10,
   "metadata": {
    "ExecuteTime": {
     "end_time": "2019-02-19T03:01:43.811996Z",
     "start_time": "2019-02-19T03:01:43.714373Z"
    },
    "scrolled": true
   },
   "outputs": [
    {
     "name": "stdout",
     "output_type": "stream",
     "text": [
      "<class 'pandas.core.frame.DataFrame'>\n",
      "RangeIndex: 6239836 entries, 0 to 6239835\n",
      "Data columns (total 14 columns):\n",
      "session_id                    category\n",
      "start_timestamp               datetime64[ns]\n",
      "timezone                      object\n",
      "previous_sessions_duration    int64\n",
      "user_created_timestamp        datetime64[ns]\n",
      "is_user_first_session         bool\n",
      "is_session                    bool\n",
      "is_developer                  bool\n",
      "country                       object\n",
      "region                        object\n",
      "city                          object\n",
      "os_name                       object\n",
      "session_index                 int64\n",
      "user_id_hash                  category\n",
      "dtypes: bool(3), category(2), datetime64[ns](2), int64(2), object(5)\n",
      "memory usage: 724.4+ MB\n"
     ]
    }
   ],
   "source": [
    "session.info()"
   ]
  },
  {
   "cell_type": "code",
   "execution_count": 11,
   "metadata": {
    "ExecuteTime": {
     "end_time": "2019-02-19T03:03:12.551794Z",
     "start_time": "2019-02-19T03:01:45.486054Z"
    },
    "scrolled": false
   },
   "outputs": [
    {
     "data": {
      "image/png": "[encoded data removed]",
      "text/plain": [
       "<matplotlib.figure.Figure at 0x10a157ba8>"
      ]
     },
     "metadata": {},
     "output_type": "display_data"
    }
   ],
   "source": [
    "sns.heatmap(session.isnull(), yticklabels=False, cbar=False, cmap='tab20c_r')\n",
    "plt.title('Missing Data: Session')\n",
    "plt.show()"
   ]
  },
  {
   "cell_type": "code",
   "execution_count": 12,
   "metadata": {
    "ExecuteTime": {
     "end_time": "2019-02-19T03:03:27.610644Z",
     "start_time": "2019-02-19T03:03:22.624387Z"
    },
    "scrolled": true
   },
   "outputs": [
    {
     "data": {
      "text/plain": [
       "timezone     9538\n",
       "country     16657\n",
       "region      12926\n",
       "city        12918\n",
       "os_name     27444\n",
       "dtype: int64"
      ]
     },
     "execution_count": 12,
     "metadata": {},
     "output_type": "execute_result"
    }
   ],
   "source": [
    "null_columns=session.columns[session.isnull().any()]\n",
    "session[null_columns].isnull().sum()"
   ]
  },
  {
   "cell_type": "code",
   "execution_count": 13,
   "metadata": {
    "ExecuteTime": {
     "end_time": "2019-02-19T03:03:29.892408Z",
     "start_time": "2019-02-19T03:03:29.874843Z"
    },
    "scrolled": false
   },
   "outputs": [
    {
     "data": {
      "text/html": [
       "<div>\n",
       "<style scoped>\n",
       "    .dataframe tbody tr th:only-of-type {\n",
       "        vertical-align: middle;\n",
       "    }\n",
       "\n",
       "    .dataframe tbody tr th {\n",
       "        vertical-align: top;\n",
       "    }\n",
       "\n",
       "    .dataframe thead th {\n",
       "        text-align: right;\n",
       "    }\n",
       "</style>\n",
       "<table border=\"1\" class=\"dataframe\">\n",
       "  <thead>\n",
       "    <tr style=\"text-align: right;\">\n",
       "      <th></th>\n",
       "      <th>session_id</th>\n",
       "      <th>start_timestamp</th>\n",
       "      <th>timezone</th>\n",
       "      <th>previous_sessions_duration</th>\n",
       "      <th>user_created_timestamp</th>\n",
       "      <th>is_user_first_session</th>\n",
       "      <th>is_session</th>\n",
       "      <th>is_developer</th>\n",
       "      <th>country</th>\n",
       "      <th>region</th>\n",
       "      <th>city</th>\n",
       "      <th>os_name</th>\n",
       "      <th>session_index</th>\n",
       "      <th>user_id_hash</th>\n",
       "    </tr>\n",
       "  </thead>\n",
       "  <tbody>\n",
       "    <tr>\n",
       "      <th>0</th>\n",
       "      <td>5558845121177764917</td>\n",
       "      <td>2018-11-14 17:09:24.580</td>\n",
       "      <td>Asia/Manila</td>\n",
       "      <td>25837591</td>\n",
       "      <td>2018-10-07 01:04:49.458</td>\n",
       "      <td>False</td>\n",
       "      <td>True</td>\n",
       "      <td>False</td>\n",
       "      <td>PH</td>\n",
       "      <td>00</td>\n",
       "      <td>makati</td>\n",
       "      <td>Android OS</td>\n",
       "      <td>30</td>\n",
       "      <td>9943447915df3a45fd6720a026af905b6da6b56a37701b...</td>\n",
       "    </tr>\n",
       "    <tr>\n",
       "      <th>1</th>\n",
       "      <td>2201961907282901522</td>\n",
       "      <td>2018-12-02 01:09:37.293</td>\n",
       "      <td>Asia/Manila</td>\n",
       "      <td>35050130</td>\n",
       "      <td>2018-10-07 01:04:49.458</td>\n",
       "      <td>False</td>\n",
       "      <td>True</td>\n",
       "      <td>False</td>\n",
       "      <td>PH</td>\n",
       "      <td>00</td>\n",
       "      <td>quezon city</td>\n",
       "      <td>Android OS</td>\n",
       "      <td>47</td>\n",
       "      <td>9943447915df3a45fd6720a026af905b6da6b56a37701b...</td>\n",
       "    </tr>\n",
       "    <tr>\n",
       "      <th>2</th>\n",
       "      <td>18781111175537580</td>\n",
       "      <td>2018-10-10 23:52:48.666</td>\n",
       "      <td>Asia/Manila</td>\n",
       "      <td>11343848</td>\n",
       "      <td>2018-10-07 01:04:49.458</td>\n",
       "      <td>False</td>\n",
       "      <td>True</td>\n",
       "      <td>False</td>\n",
       "      <td>PH</td>\n",
       "      <td>00</td>\n",
       "      <td>makati</td>\n",
       "      <td>Android OS</td>\n",
       "      <td>10</td>\n",
       "      <td>9943447915df3a45fd6720a026af905b6da6b56a37701b...</td>\n",
       "    </tr>\n",
       "    <tr>\n",
       "      <th>3</th>\n",
       "      <td>1477540082628742048</td>\n",
       "      <td>2018-10-21 11:19:03.010</td>\n",
       "      <td>Asia/Manila</td>\n",
       "      <td>13499724</td>\n",
       "      <td>2018-10-07 01:04:49.458</td>\n",
       "      <td>False</td>\n",
       "      <td>True</td>\n",
       "      <td>False</td>\n",
       "      <td>PH</td>\n",
       "      <td>11</td>\n",
       "      <td>davao city</td>\n",
       "      <td>Android OS</td>\n",
       "      <td>13</td>\n",
       "      <td>9943447915df3a45fd6720a026af905b6da6b56a37701b...</td>\n",
       "    </tr>\n",
       "    <tr>\n",
       "      <th>4</th>\n",
       "      <td>8184875317380844086</td>\n",
       "      <td>2018-11-19 23:53:45.528</td>\n",
       "      <td>Asia/Manila</td>\n",
       "      <td>32788010</td>\n",
       "      <td>2018-10-07 01:04:49.458</td>\n",
       "      <td>False</td>\n",
       "      <td>True</td>\n",
       "      <td>False</td>\n",
       "      <td>PH</td>\n",
       "      <td>00</td>\n",
       "      <td>makati</td>\n",
       "      <td>Android OS</td>\n",
       "      <td>41</td>\n",
       "      <td>9943447915df3a45fd6720a026af905b6da6b56a37701b...</td>\n",
       "    </tr>\n",
       "  </tbody>\n",
       "</table>\n",
       "</div>"
      ],
      "text/plain": [
       "            session_id         start_timestamp     timezone  \\\n",
       "0  5558845121177764917 2018-11-14 17:09:24.580  Asia/Manila   \n",
       "1  2201961907282901522 2018-12-02 01:09:37.293  Asia/Manila   \n",
       "2    18781111175537580 2018-10-10 23:52:48.666  Asia/Manila   \n",
       "3  1477540082628742048 2018-10-21 11:19:03.010  Asia/Manila   \n",
       "4  8184875317380844086 2018-11-19 23:53:45.528  Asia/Manila   \n",
       "\n",
       "   previous_sessions_duration  user_created_timestamp  is_user_first_session  \\\n",
       "0                    25837591 2018-10-07 01:04:49.458                  False   \n",
       "1                    35050130 2018-10-07 01:04:49.458                  False   \n",
       "2                    11343848 2018-10-07 01:04:49.458                  False   \n",
       "3                    13499724 2018-10-07 01:04:49.458                  False   \n",
       "4                    32788010 2018-10-07 01:04:49.458                  False   \n",
       "\n",
       "   is_session  is_developer country region         city     os_name  \\\n",
       "0        True         False      PH     00       makati  Android OS   \n",
       "1        True         False      PH     00  quezon city  Android OS   \n",
       "2        True         False      PH     00       makati  Android OS   \n",
       "3        True         False      PH     11   davao city  Android OS   \n",
       "4        True         False      PH     00       makati  Android OS   \n",
       "\n",
       "   session_index                                       user_id_hash  \n",
       "0             30  9943447915df3a45fd6720a026af905b6da6b56a37701b...  \n",
       "1             47  9943447915df3a45fd6720a026af905b6da6b56a37701b...  \n",
       "2             10  9943447915df3a45fd6720a026af905b6da6b56a37701b...  \n",
       "3             13  9943447915df3a45fd6720a026af905b6da6b56a37701b...  \n",
       "4             41  9943447915df3a45fd6720a026af905b6da6b56a37701b...  "
      ]
     },
     "execution_count": 13,
     "metadata": {},
     "output_type": "execute_result"
    }
   ],
   "source": [
    "session.head()"
   ]
  },
  {
   "cell_type": "code",
   "execution_count": 14,
   "metadata": {
    "ExecuteTime": {
     "end_time": "2019-02-19T03:03:32.389245Z",
     "start_time": "2019-02-19T03:03:32.010905Z"
    },
    "scrolled": true
   },
   "outputs": [
    {
     "data": {
      "text/plain": [
       "621106"
      ]
     },
     "execution_count": 14,
     "metadata": {},
     "output_type": "execute_result"
    }
   ],
   "source": [
    "len(session.user_id_hash.unique())"
   ]
  },
  {
   "cell_type": "markdown",
   "metadata": {},
   "source": [
    "621,106 unique user ID in session"
   ]
  },
  {
   "cell_type": "code",
   "execution_count": null,
   "metadata": {
    "ExecuteTime": {
     "end_time": "2019-02-17T18:29:52.858824Z",
     "start_time": "2019-02-17T18:29:52.687105Z"
    },
    "scrolled": false
   },
   "outputs": [],
   "source": [
    "event[~event.session_id.isin(session.session_id.unique())]"
   ]
  },
  {
   "cell_type": "markdown",
   "metadata": {},
   "source": [
    "### EDA"
   ]
  },
  {
   "cell_type": "markdown",
   "metadata": {},
   "source": [
    "#### number of sessions per user"
   ]
  },
  {
   "cell_type": "code",
   "execution_count": 15,
   "metadata": {
    "ExecuteTime": {
     "end_time": "2019-02-19T03:03:39.623219Z",
     "start_time": "2019-02-19T03:03:34.956501Z"
    },
    "scrolled": false
   },
   "outputs": [
    {
     "data": {
      "text/plain": [
       "Text(0,0.5,'sessions per user')"
      ]
     },
     "execution_count": 15,
     "metadata": {},
     "output_type": "execute_result"
    },
    {
     "data": {
      "image/png": "[encoded data removed]",
      "text/plain": [
       "<matplotlib.figure.Figure at 0x14cbd7ef0>"
      ]
     },
     "metadata": {},
     "output_type": "display_data"
    }
   ],
   "source": [
    "session.groupby('user_id_hash').size()\n",
    "mytest = session.groupby('user_id_hash').size().to_frame().sort_values(0)\n",
    "mytest\n",
    "plt.figure(figsize=(8,6))\n",
    "plt.scatter(range(mytest.shape[0]), np.sort(mytest[0].values), alpha=0.2)\n",
    "plt.xlabel('index', fontsize=12)\n",
    "plt.ylabel('sessions per user', fontsize=12)"
   ]
  },
  {
   "cell_type": "code",
   "execution_count": 17,
   "metadata": {
    "ExecuteTime": {
     "end_time": "2019-02-19T03:03:43.965353Z",
     "start_time": "2019-02-19T03:03:43.943582Z"
    },
    "scrolled": false
   },
   "outputs": [
    {
     "data": {
      "text/html": [
       "<div>\n",
       "<style scoped>\n",
       "    .dataframe tbody tr th:only-of-type {\n",
       "        vertical-align: middle;\n",
       "    }\n",
       "\n",
       "    .dataframe tbody tr th {\n",
       "        vertical-align: top;\n",
       "    }\n",
       "\n",
       "    .dataframe thead th {\n",
       "        text-align: right;\n",
       "    }\n",
       "</style>\n",
       "<table border=\"1\" class=\"dataframe\">\n",
       "  <thead>\n",
       "    <tr style=\"text-align: right;\">\n",
       "      <th></th>\n",
       "      <th>session_id</th>\n",
       "      <th>start_timestamp</th>\n",
       "      <th>timezone</th>\n",
       "      <th>previous_sessions_duration</th>\n",
       "      <th>user_created_timestamp</th>\n",
       "      <th>is_user_first_session</th>\n",
       "      <th>is_session</th>\n",
       "      <th>is_developer</th>\n",
       "      <th>country</th>\n",
       "      <th>region</th>\n",
       "      <th>city</th>\n",
       "      <th>os_name</th>\n",
       "      <th>session_index</th>\n",
       "      <th>user_id_hash</th>\n",
       "    </tr>\n",
       "  </thead>\n",
       "  <tbody>\n",
       "    <tr>\n",
       "      <th>3458464</th>\n",
       "      <td>6200947363604086275</td>\n",
       "      <td>2018-11-29 09:05:26.179</td>\n",
       "      <td>Asia/Chita</td>\n",
       "      <td>323118577</td>\n",
       "      <td>2018-11-06 10:18:02.545</td>\n",
       "      <td>False</td>\n",
       "      <td>True</td>\n",
       "      <td>False</td>\n",
       "      <td>JP</td>\n",
       "      <td>26</td>\n",
       "      <td>kyoto</td>\n",
       "      <td>Android OS</td>\n",
       "      <td>91</td>\n",
       "      <td>032157aa246bf70742c4fe3490424125248fe585aef8c6...</td>\n",
       "    </tr>\n",
       "    <tr>\n",
       "      <th>3458465</th>\n",
       "      <td>8808057885827027943</td>\n",
       "      <td>2018-12-02 13:08:04.734</td>\n",
       "      <td>Asia/Tokyo</td>\n",
       "      <td>392400016</td>\n",
       "      <td>2018-11-06 10:18:02.545</td>\n",
       "      <td>False</td>\n",
       "      <td>False</td>\n",
       "      <td>False</td>\n",
       "      <td>JP</td>\n",
       "      <td>26</td>\n",
       "      <td>kyoto</td>\n",
       "      <td>Android OS</td>\n",
       "      <td>104</td>\n",
       "      <td>032157aa246bf70742c4fe3490424125248fe585aef8c6...</td>\n",
       "    </tr>\n",
       "    <tr>\n",
       "      <th>3458466</th>\n",
       "      <td>5003981994074078829</td>\n",
       "      <td>2018-12-02 08:36:29.939</td>\n",
       "      <td>Asia/Tokyo</td>\n",
       "      <td>391922805</td>\n",
       "      <td>2018-11-06 10:18:02.545</td>\n",
       "      <td>False</td>\n",
       "      <td>False</td>\n",
       "      <td>False</td>\n",
       "      <td>JP</td>\n",
       "      <td>26</td>\n",
       "      <td>kyoto</td>\n",
       "      <td>Android OS</td>\n",
       "      <td>101</td>\n",
       "      <td>032157aa246bf70742c4fe3490424125248fe585aef8c6...</td>\n",
       "    </tr>\n",
       "    <tr>\n",
       "      <th>3458467</th>\n",
       "      <td>5927676565817965441</td>\n",
       "      <td>2018-12-02 13:10:16.991</td>\n",
       "      <td>Asia/Tokyo</td>\n",
       "      <td>392400016</td>\n",
       "      <td>2018-11-06 10:18:02.545</td>\n",
       "      <td>False</td>\n",
       "      <td>False</td>\n",
       "      <td>False</td>\n",
       "      <td>JP</td>\n",
       "      <td>26</td>\n",
       "      <td>kyoto</td>\n",
       "      <td>Android OS</td>\n",
       "      <td>104</td>\n",
       "      <td>032157aa246bf70742c4fe3490424125248fe585aef8c6...</td>\n",
       "    </tr>\n",
       "    <tr>\n",
       "      <th>3458468</th>\n",
       "      <td>1545102487070331890</td>\n",
       "      <td>2018-12-02 10:41:41.826</td>\n",
       "      <td>Asia/Tokyo</td>\n",
       "      <td>391922805</td>\n",
       "      <td>2018-11-06 10:18:02.545</td>\n",
       "      <td>False</td>\n",
       "      <td>False</td>\n",
       "      <td>False</td>\n",
       "      <td>JP</td>\n",
       "      <td>26</td>\n",
       "      <td>kyoto</td>\n",
       "      <td>Android OS</td>\n",
       "      <td>101</td>\n",
       "      <td>032157aa246bf70742c4fe3490424125248fe585aef8c6...</td>\n",
       "    </tr>\n",
       "  </tbody>\n",
       "</table>\n",
       "</div>"
      ],
      "text/plain": [
       "                  session_id         start_timestamp    timezone  \\\n",
       "3458464  6200947363604086275 2018-11-29 09:05:26.179  Asia/Chita   \n",
       "3458465  8808057885827027943 2018-12-02 13:08:04.734  Asia/Tokyo   \n",
       "3458466  5003981994074078829 2018-12-02 08:36:29.939  Asia/Tokyo   \n",
       "3458467  5927676565817965441 2018-12-02 13:10:16.991  Asia/Tokyo   \n",
       "3458468  1545102487070331890 2018-12-02 10:41:41.826  Asia/Tokyo   \n",
       "\n",
       "         previous_sessions_duration  user_created_timestamp  \\\n",
       "3458464                   323118577 2018-11-06 10:18:02.545   \n",
       "3458465                   392400016 2018-11-06 10:18:02.545   \n",
       "3458466                   391922805 2018-11-06 10:18:02.545   \n",
       "3458467                   392400016 2018-11-06 10:18:02.545   \n",
       "3458468                   391922805 2018-11-06 10:18:02.545   \n",
       "\n",
       "         is_user_first_session  is_session  is_developer country region  \\\n",
       "3458464                  False        True         False      JP     26   \n",
       "3458465                  False       False         False      JP     26   \n",
       "3458466                  False       False         False      JP     26   \n",
       "3458467                  False       False         False      JP     26   \n",
       "3458468                  False       False         False      JP     26   \n",
       "\n",
       "          city     os_name  session_index  \\\n",
       "3458464  kyoto  Android OS             91   \n",
       "3458465  kyoto  Android OS            104   \n",
       "3458466  kyoto  Android OS            101   \n",
       "3458467  kyoto  Android OS            104   \n",
       "3458468  kyoto  Android OS            101   \n",
       "\n",
       "                                              user_id_hash  \n",
       "3458464  032157aa246bf70742c4fe3490424125248fe585aef8c6...  \n",
       "3458465  032157aa246bf70742c4fe3490424125248fe585aef8c6...  \n",
       "3458466  032157aa246bf70742c4fe3490424125248fe585aef8c6...  \n",
       "3458467  032157aa246bf70742c4fe3490424125248fe585aef8c6...  \n",
       "3458468  032157aa246bf70742c4fe3490424125248fe585aef8c6...  "
      ]
     },
     "execution_count": 17,
     "metadata": {},
     "output_type": "execute_result"
    }
   ],
   "source": [
    "session[session.user_id_hash=='032157aa246bf70742c4fe3490424125248fe585aef8c61c1c10424d46c0f3f9'].head()"
   ]
  },
  {
   "cell_type": "markdown",
   "metadata": {
    "ExecuteTime": {
     "end_time": "2019-02-19T01:47:13.330699Z",
     "start_time": "2019-02-19T01:47:13.307682Z"
    }
   },
   "source": [
    "Looks strange that some users have extremely high number of sessions."
   ]
  },
  {
   "cell_type": "markdown",
   "metadata": {
    "ExecuteTime": {
     "end_time": "2019-02-17T06:34:19.568753Z",
     "start_time": "2019-02-17T06:34:19.566342Z"
    }
   },
   "source": [
    "#### first session"
   ]
  },
  {
   "cell_type": "code",
   "execution_count": 18,
   "metadata": {
    "ExecuteTime": {
     "end_time": "2019-02-19T03:03:46.187357Z",
     "start_time": "2019-02-19T03:03:46.111182Z"
    },
    "scrolled": false
   },
   "outputs": [
    {
     "data": {
      "text/plain": [
       "False    0.863959\n",
       "True     0.136041\n",
       "Name: is_user_first_session, dtype: float64"
      ]
     },
     "execution_count": 18,
     "metadata": {},
     "output_type": "execute_result"
    }
   ],
   "source": [
    "session.is_user_first_session.value_counts()/len(session)"
   ]
  },
  {
   "cell_type": "code",
   "execution_count": 19,
   "metadata": {
    "ExecuteTime": {
     "end_time": "2019-02-19T03:03:48.634404Z",
     "start_time": "2019-02-19T03:03:48.043223Z"
    }
   },
   "outputs": [
    {
     "data": {
      "image/png": "[encoded data removed]",
      "text/plain": [
       "<matplotlib.figure.Figure at 0x104a5c9b0>"
      ]
     },
     "metadata": {},
     "output_type": "display_data"
    }
   ],
   "source": [
    "sns.countplot(x='is_user_first_session', data=session);"
   ]
  },
  {
   "cell_type": "markdown",
   "metadata": {},
   "source": [
    "Most sessions are not first session."
   ]
  },
  {
   "cell_type": "markdown",
   "metadata": {},
   "source": [
    "#### is_developer"
   ]
  },
  {
   "cell_type": "code",
   "execution_count": 20,
   "metadata": {
    "ExecuteTime": {
     "end_time": "2019-02-19T03:03:51.039606Z",
     "start_time": "2019-02-19T03:03:50.986215Z"
    }
   },
   "outputs": [
    {
     "data": {
      "text/plain": [
       "False    0.999585\n",
       "True     0.000415\n",
       "Name: is_developer, dtype: float64"
      ]
     },
     "execution_count": 20,
     "metadata": {},
     "output_type": "execute_result"
    }
   ],
   "source": [
    "session.is_developer.value_counts()/len(session)"
   ]
  },
  {
   "cell_type": "code",
   "execution_count": 21,
   "metadata": {
    "ExecuteTime": {
     "end_time": "2019-02-19T03:03:52.755788Z",
     "start_time": "2019-02-19T03:03:52.446013Z"
    }
   },
   "outputs": [
    {
     "data": {
      "image/png": "[encoded data removed]",
      "text/plain": [
       "<matplotlib.figure.Figure at 0x104a616d8>"
      ]
     },
     "metadata": {},
     "output_type": "display_data"
    }
   ],
   "source": [
    "sns.countplot(x='is_developer', data=session);"
   ]
  },
  {
   "cell_type": "markdown",
   "metadata": {},
   "source": [
    "Looks like very few developers exist in the data set."
   ]
  },
  {
   "cell_type": "markdown",
   "metadata": {
    "ExecuteTime": {
     "end_time": "2019-02-17T06:36:11.653636Z",
     "start_time": "2019-02-17T06:36:11.651483Z"
    }
   },
   "source": [
    "#### os_name"
   ]
  },
  {
   "cell_type": "code",
   "execution_count": 22,
   "metadata": {
    "ExecuteTime": {
     "end_time": "2019-02-19T03:04:04.844975Z",
     "start_time": "2019-02-19T03:04:04.185957Z"
    },
    "scrolled": false
   },
   "outputs": [
    {
     "data": {
      "text/plain": [
       "Android OS    4207867\n",
       "iOS           1962166\n",
       "iPhone OS       42359\n",
       "Name: os_name, dtype: int64"
      ]
     },
     "execution_count": 22,
     "metadata": {},
     "output_type": "execute_result"
    }
   ],
   "source": [
    "session.os_name.value_counts()"
   ]
  },
  {
   "cell_type": "code",
   "execution_count": 23,
   "metadata": {
    "ExecuteTime": {
     "end_time": "2019-02-19T03:04:10.299475Z",
     "start_time": "2019-02-19T03:04:06.031109Z"
    }
   },
   "outputs": [
    {
     "data": {
      "image/png": "[encoded data removed]",
      "text/plain": [
       "<matplotlib.figure.Figure at 0x10a01bfd0>"
      ]
     },
     "metadata": {},
     "output_type": "display_data"
    }
   ],
   "source": [
    "sns.countplot(x='os_name', data=session);"
   ]
  },
  {
   "cell_type": "markdown",
   "metadata": {},
   "source": [
    "Some of IOS are using a different name, making it looks like 3 categories. We can rename for feature engineering. "
   ]
  },
  {
   "cell_type": "markdown",
   "metadata": {},
   "source": [
    "#### previous_sessions_duration per user"
   ]
  },
  {
   "cell_type": "code",
   "execution_count": 24,
   "metadata": {
    "ExecuteTime": {
     "end_time": "2019-02-19T03:04:57.267003Z",
     "start_time": "2019-02-19T03:04:56.688400Z"
    },
    "scrolled": true
   },
   "outputs": [],
   "source": [
    "prev_dur_pu = session.previous_sessions_duration.value_counts()"
   ]
  },
  {
   "cell_type": "code",
   "execution_count": 25,
   "metadata": {
    "ExecuteTime": {
     "end_time": "2019-02-19T03:05:31.634965Z",
     "start_time": "2019-02-19T03:04:58.091320Z"
    },
    "scrolled": false
   },
   "outputs": [
    {
     "data": {
      "image/png": "[encoded data removed]",
      "text/plain": [
       "<matplotlib.figure.Figure at 0x10a457470>"
      ]
     },
     "metadata": {},
     "output_type": "display_data"
    }
   ],
   "source": [
    "plt.scatter(range(session.shape[0]), np.sort(session.previous_sessions_duration.values/60000), alpha=0.1)\n",
    "plt.xlabel('index', fontsize=12)\n",
    "plt.ylabel('duration', fontsize=12)\n",
    "plt.show()"
   ]
  },
  {
   "cell_type": "markdown",
   "metadata": {},
   "source": [
    "Looks like some users previous sessions are extremely high."
   ]
  },
  {
   "cell_type": "markdown",
   "metadata": {},
   "source": [
    "Some feature engineer ideas"
   ]
  },
  {
   "cell_type": "code",
   "execution_count": 26,
   "metadata": {
    "ExecuteTime": {
     "end_time": "2019-02-19T03:05:43.595853Z",
     "start_time": "2019-02-19T03:05:42.330436Z"
    },
    "scrolled": true
   },
   "outputs": [],
   "source": [
    "# start day of week\n",
    "#session['created_dow']= session['user_created_timestamp'].dt.weekday.to_frame()\n",
    "\n",
    "# is developer or not\n",
    "#session['is_developer'] = session.is_developer.astype(int)\n",
    "\n",
    "# number of session per user \n",
    "session_pu = session.groupby('user_id_hash').size().to_frame().reset_index()\n",
    "prev_sd_pu = session.groupby('user_id_hash')['previous_sessions_duration'].mean().to_frame().reset_index()  # avg prev_session_duration per user\n",
    "num_ct_pu = session.groupby('user_id_hash')['country'].count().to_frame().reset_index()"
   ]
  },
  {
   "cell_type": "code",
   "execution_count": null,
   "metadata": {
    "ExecuteTime": {
     "end_time": "2019-02-17T18:29:52.874405Z",
     "start_time": "2019-02-17T18:27:11.596Z"
    }
   },
   "outputs": [],
   "source": [
    "#dev_nondev_pu = session[session['is_developer']==True].groupby('user_id_hash').size()/session[session['is_developer']==False].groupby('user_id_hash')"
   ]
  },
  {
   "cell_type": "code",
   "execution_count": 27,
   "metadata": {
    "ExecuteTime": {
     "end_time": "2019-02-19T03:05:54.959439Z",
     "start_time": "2019-02-19T03:05:45.837789Z"
    }
   },
   "outputs": [],
   "source": [
    "session_new = session.drop_duplicates()"
   ]
  },
  {
   "cell_type": "code",
   "execution_count": 399,
   "metadata": {
    "ExecuteTime": {
     "end_time": "2019-02-19T02:48:08.163647Z",
     "start_time": "2019-02-19T02:48:08.149024Z"
    }
   },
   "outputs": [],
   "source": [
    "session_new = session_new[['user_id_hash']]\n",
    "session_new.reset_index(drop=True, inplace=True)"
   ]
  },
  {
   "cell_type": "code",
   "execution_count": 400,
   "metadata": {
    "ExecuteTime": {
     "end_time": "2019-02-19T02:48:09.609967Z",
     "start_time": "2019-02-19T02:48:09.599903Z"
    },
    "scrolled": false
   },
   "outputs": [
    {
     "data": {
      "text/html": [
       "<div>\n",
       "<style scoped>\n",
       "    .dataframe tbody tr th:only-of-type {\n",
       "        vertical-align: middle;\n",
       "    }\n",
       "\n",
       "    .dataframe tbody tr th {\n",
       "        vertical-align: top;\n",
       "    }\n",
       "\n",
       "    .dataframe thead th {\n",
       "        text-align: right;\n",
       "    }\n",
       "</style>\n",
       "<table border=\"1\" class=\"dataframe\">\n",
       "  <thead>\n",
       "    <tr style=\"text-align: right;\">\n",
       "      <th></th>\n",
       "      <th>user_id_hash</th>\n",
       "    </tr>\n",
       "  </thead>\n",
       "  <tbody>\n",
       "    <tr>\n",
       "      <th>0</th>\n",
       "      <td>9943447915df3a45fd6720a026af905b6da6b56a37701b...</td>\n",
       "    </tr>\n",
       "    <tr>\n",
       "      <th>1</th>\n",
       "      <td>9943447915df3a45fd6720a026af905b6da6b56a37701b...</td>\n",
       "    </tr>\n",
       "    <tr>\n",
       "      <th>2</th>\n",
       "      <td>9943447915df3a45fd6720a026af905b6da6b56a37701b...</td>\n",
       "    </tr>\n",
       "    <tr>\n",
       "      <th>3</th>\n",
       "      <td>9943447915df3a45fd6720a026af905b6da6b56a37701b...</td>\n",
       "    </tr>\n",
       "    <tr>\n",
       "      <th>4</th>\n",
       "      <td>9943447915df3a45fd6720a026af905b6da6b56a37701b...</td>\n",
       "    </tr>\n",
       "  </tbody>\n",
       "</table>\n",
       "</div>"
      ],
      "text/plain": [
       "                                        user_id_hash\n",
       "0  9943447915df3a45fd6720a026af905b6da6b56a37701b...\n",
       "1  9943447915df3a45fd6720a026af905b6da6b56a37701b...\n",
       "2  9943447915df3a45fd6720a026af905b6da6b56a37701b...\n",
       "3  9943447915df3a45fd6720a026af905b6da6b56a37701b...\n",
       "4  9943447915df3a45fd6720a026af905b6da6b56a37701b..."
      ]
     },
     "execution_count": 400,
     "metadata": {},
     "output_type": "execute_result"
    }
   ],
   "source": [
    "session_new.head()"
   ]
  },
  {
   "cell_type": "code",
   "execution_count": 403,
   "metadata": {
    "ExecuteTime": {
     "end_time": "2019-02-19T02:49:47.518965Z",
     "start_time": "2019-02-19T02:49:40.850282Z"
    }
   },
   "outputs": [],
   "source": [
    "session_new = pd.merge(session_new, session_pu, on='user_id_hash', how='left')\n",
    "session_new = pd.merge(session_new, prev_sd_pu, on='user_id_hash', how='left')\n",
    "session_new = pd.merge(session_new, num_ct_pu, on='user_id_hash', how='left')"
   ]
  },
  {
   "cell_type": "code",
   "execution_count": 21,
   "metadata": {
    "ExecuteTime": {
     "end_time": "2019-02-18T00:51:36.638270Z",
     "start_time": "2019-02-18T00:51:36.635470Z"
    }
   },
   "outputs": [],
   "source": [
    "session_new.columns = ['user_id_hash','session_pu','prev_sd_pu', 'num_ct_pu']"
   ]
  },
  {
   "cell_type": "code",
   "execution_count": 22,
   "metadata": {
    "ExecuteTime": {
     "end_time": "2019-02-18T00:51:37.886397Z",
     "start_time": "2019-02-18T00:51:37.876590Z"
    },
    "scrolled": true
   },
   "outputs": [
    {
     "data": {
      "text/html": [
       "<div>\n",
       "<style scoped>\n",
       "    .dataframe tbody tr th:only-of-type {\n",
       "        vertical-align: middle;\n",
       "    }\n",
       "\n",
       "    .dataframe tbody tr th {\n",
       "        vertical-align: top;\n",
       "    }\n",
       "\n",
       "    .dataframe thead th {\n",
       "        text-align: right;\n",
       "    }\n",
       "</style>\n",
       "<table border=\"1\" class=\"dataframe\">\n",
       "  <thead>\n",
       "    <tr style=\"text-align: right;\">\n",
       "      <th></th>\n",
       "      <th>user_id_hash</th>\n",
       "      <th>session_pu</th>\n",
       "      <th>prev_sd_pu</th>\n",
       "      <th>num_ct_pu</th>\n",
       "    </tr>\n",
       "  </thead>\n",
       "  <tbody>\n",
       "    <tr>\n",
       "      <th>0</th>\n",
       "      <td>9943447915df3a45fd6720a026af905b6da6b56a37701b...</td>\n",
       "      <td>49</td>\n",
       "      <td>2.128299e+07</td>\n",
       "      <td>49</td>\n",
       "    </tr>\n",
       "    <tr>\n",
       "      <th>1</th>\n",
       "      <td>43f75f8042d3c80c45e222bdd09267f4584684c54d6fae...</td>\n",
       "      <td>3</td>\n",
       "      <td>2.024939e+06</td>\n",
       "      <td>3</td>\n",
       "    </tr>\n",
       "    <tr>\n",
       "      <th>2</th>\n",
       "      <td>999524249720812f2d8c0390293efd58e1ac84d587a01c...</td>\n",
       "      <td>1</td>\n",
       "      <td>0.000000e+00</td>\n",
       "      <td>1</td>\n",
       "    </tr>\n",
       "    <tr>\n",
       "      <th>3</th>\n",
       "      <td>4e6bc35cf7fd79a5312047651e7865915f4a6bec193cf2...</td>\n",
       "      <td>2</td>\n",
       "      <td>2.984835e+05</td>\n",
       "      <td>2</td>\n",
       "    </tr>\n",
       "    <tr>\n",
       "      <th>4</th>\n",
       "      <td>dc009148ee26d658e0240c7b7f6a258790a457737f96e8...</td>\n",
       "      <td>2</td>\n",
       "      <td>4.874100e+04</td>\n",
       "      <td>2</td>\n",
       "    </tr>\n",
       "  </tbody>\n",
       "</table>\n",
       "</div>"
      ],
      "text/plain": [
       "                                        user_id_hash  session_pu  \\\n",
       "0  9943447915df3a45fd6720a026af905b6da6b56a37701b...          49   \n",
       "1  43f75f8042d3c80c45e222bdd09267f4584684c54d6fae...           3   \n",
       "2  999524249720812f2d8c0390293efd58e1ac84d587a01c...           1   \n",
       "3  4e6bc35cf7fd79a5312047651e7865915f4a6bec193cf2...           2   \n",
       "4  dc009148ee26d658e0240c7b7f6a258790a457737f96e8...           2   \n",
       "\n",
       "     prev_sd_pu  num_ct_pu  \n",
       "0  2.128299e+07         49  \n",
       "1  2.024939e+06          3  \n",
       "2  0.000000e+00          1  \n",
       "3  2.984835e+05          2  \n",
       "4  4.874100e+04          2  "
      ]
     },
     "execution_count": 22,
     "metadata": {},
     "output_type": "execute_result"
    }
   ],
   "source": [
    "session_new.head()"
   ]
  },
  {
   "cell_type": "code",
   "execution_count": 395,
   "metadata": {
    "ExecuteTime": {
     "end_time": "2019-02-19T02:40:41.255027Z",
     "start_time": "2019-02-19T02:40:40.141058Z"
    }
   },
   "outputs": [
    {
     "data": {
      "text/plain": [
       "312368"
      ]
     },
     "execution_count": 395,
     "metadata": {},
     "output_type": "execute_result"
    }
   ],
   "source": [
    "len(session[session.user_id_hash.isin(sample_sub_user)].user_id_hash.unique())"
   ]
  },
  {
   "cell_type": "markdown",
   "metadata": {},
   "source": [
    "There are 200 users from sample submission that are not in session."
   ]
  },
  {
   "cell_type": "markdown",
   "metadata": {},
   "source": [
    "## events"
   ]
  },
  {
   "cell_type": "code",
   "execution_count": 28,
   "metadata": {
    "ExecuteTime": {
     "end_time": "2019-02-19T03:09:08.855885Z",
     "start_time": "2019-02-19T03:07:10.120123Z"
    }
   },
   "outputs": [],
   "source": [
    "event_path = '../data/events.csv'\n",
    "event_types = {'session_id':'category', 'event':'category', 'event_timestamp':np.uint64, \n",
    "         'event_value':np.float32, 'user_id_hash':'category'}\n",
    "\n",
    "event = pd.read_csv(event_path,usecols=event_types.keys(),dtype=event_types)"
   ]
  },
  {
   "cell_type": "code",
   "execution_count": 24,
   "metadata": {
    "ExecuteTime": {
     "end_time": "2019-02-18T00:53:40.984677Z",
     "start_time": "2019-02-18T00:53:40.979596Z"
    },
    "scrolled": false
   },
   "outputs": [
    {
     "name": "stdout",
     "output_type": "stream",
     "text": [
      "<class 'pandas.core.frame.DataFrame'>\n",
      "RangeIndex: 111946597 entries, 0 to 111946596\n",
      "Data columns (total 5 columns):\n",
      "session_id         category\n",
      "event              category\n",
      "event_timestamp    uint64\n",
      "event_value        float32\n",
      "user_id_hash       category\n",
      "dtypes: category(3), float32(1), uint64(1)\n",
      "memory usage: 2.4 GB\n"
     ]
    }
   ],
   "source": [
    "event.info()"
   ]
  },
  {
   "cell_type": "code",
   "execution_count": 72,
   "metadata": {
    "ExecuteTime": {
     "end_time": "2019-02-19T04:07:15.888417Z",
     "start_time": "2019-02-19T04:07:12.303128Z"
    }
   },
   "outputs": [],
   "source": [
    "event['event_timestamp'] = pd.to_datetime(event.event_timestamp, unit='ms')"
   ]
  },
  {
   "cell_type": "code",
   "execution_count": 73,
   "metadata": {
    "ExecuteTime": {
     "end_time": "2019-02-19T04:07:16.745668Z",
     "start_time": "2019-02-19T04:07:16.726202Z"
    },
    "scrolled": true
   },
   "outputs": [
    {
     "data": {
      "text/html": [
       "<div>\n",
       "<style scoped>\n",
       "    .dataframe tbody tr th:only-of-type {\n",
       "        vertical-align: middle;\n",
       "    }\n",
       "\n",
       "    .dataframe tbody tr th {\n",
       "        vertical-align: top;\n",
       "    }\n",
       "\n",
       "    .dataframe thead th {\n",
       "        text-align: right;\n",
       "    }\n",
       "</style>\n",
       "<table border=\"1\" class=\"dataframe\">\n",
       "  <thead>\n",
       "    <tr style=\"text-align: right;\">\n",
       "      <th></th>\n",
       "      <th>session_id</th>\n",
       "      <th>event</th>\n",
       "      <th>event_timestamp</th>\n",
       "      <th>event_value</th>\n",
       "      <th>user_id_hash</th>\n",
       "    </tr>\n",
       "  </thead>\n",
       "  <tbody>\n",
       "    <tr>\n",
       "      <th>0</th>\n",
       "      <td>5558845121177764917</td>\n",
       "      <td>45</td>\n",
       "      <td>2018-11-14 17:09:57.132</td>\n",
       "      <td>0.0</td>\n",
       "      <td>9943447915df3a45fd6720a026af905b6da6b56a37701b...</td>\n",
       "    </tr>\n",
       "    <tr>\n",
       "      <th>1</th>\n",
       "      <td>5558845121177764917</td>\n",
       "      <td>45</td>\n",
       "      <td>2018-11-14 17:11:24.895</td>\n",
       "      <td>0.0</td>\n",
       "      <td>9943447915df3a45fd6720a026af905b6da6b56a37701b...</td>\n",
       "    </tr>\n",
       "    <tr>\n",
       "      <th>2</th>\n",
       "      <td>7689508378645584666</td>\n",
       "      <td>.m5100869650219008</td>\n",
       "      <td>2018-11-02 02:06:50.372</td>\n",
       "      <td>0.0</td>\n",
       "      <td>9943447915df3a45fd6720a026af905b6da6b56a37701b...</td>\n",
       "    </tr>\n",
       "    <tr>\n",
       "      <th>3</th>\n",
       "      <td>2201961907282901522</td>\n",
       "      <td>4</td>\n",
       "      <td>2018-12-02 01:11:31.129</td>\n",
       "      <td>0.0</td>\n",
       "      <td>9943447915df3a45fd6720a026af905b6da6b56a37701b...</td>\n",
       "    </tr>\n",
       "    <tr>\n",
       "      <th>4</th>\n",
       "      <td>2201961907282901522</td>\n",
       "      <td>6</td>\n",
       "      <td>2018-12-02 01:11:33.116</td>\n",
       "      <td>0.0</td>\n",
       "      <td>9943447915df3a45fd6720a026af905b6da6b56a37701b...</td>\n",
       "    </tr>\n",
       "  </tbody>\n",
       "</table>\n",
       "</div>"
      ],
      "text/plain": [
       "            session_id               event         event_timestamp  \\\n",
       "0  5558845121177764917                  45 2018-11-14 17:09:57.132   \n",
       "1  5558845121177764917                  45 2018-11-14 17:11:24.895   \n",
       "2  7689508378645584666  .m5100869650219008 2018-11-02 02:06:50.372   \n",
       "3  2201961907282901522                   4 2018-12-02 01:11:31.129   \n",
       "4  2201961907282901522                   6 2018-12-02 01:11:33.116   \n",
       "\n",
       "   event_value                                       user_id_hash  \n",
       "0          0.0  9943447915df3a45fd6720a026af905b6da6b56a37701b...  \n",
       "1          0.0  9943447915df3a45fd6720a026af905b6da6b56a37701b...  \n",
       "2          0.0  9943447915df3a45fd6720a026af905b6da6b56a37701b...  \n",
       "3          0.0  9943447915df3a45fd6720a026af905b6da6b56a37701b...  \n",
       "4          0.0  9943447915df3a45fd6720a026af905b6da6b56a37701b...  "
      ]
     },
     "execution_count": 73,
     "metadata": {},
     "output_type": "execute_result"
    }
   ],
   "source": [
    "event.head()"
   ]
  },
  {
   "cell_type": "code",
   "execution_count": 31,
   "metadata": {
    "ExecuteTime": {
     "end_time": "2019-02-19T03:10:52.396262Z",
     "start_time": "2019-02-19T03:10:52.392476Z"
    }
   },
   "outputs": [
    {
     "data": {
      "text/plain": [
       "111946597"
      ]
     },
     "execution_count": 31,
     "metadata": {},
     "output_type": "execute_result"
    }
   ],
   "source": [
    "len(event)"
   ]
  },
  {
   "cell_type": "code",
   "execution_count": 32,
   "metadata": {
    "ExecuteTime": {
     "end_time": "2019-02-19T03:10:54.976213Z",
     "start_time": "2019-02-19T03:10:53.516661Z"
    }
   },
   "outputs": [
    {
     "data": {
      "text/plain": [
       "621001"
      ]
     },
     "execution_count": 32,
     "metadata": {},
     "output_type": "execute_result"
    }
   ],
   "source": [
    "len(event.user_id_hash.unique())"
   ]
  },
  {
   "cell_type": "markdown",
   "metadata": {},
   "source": [
    "621,001 user_id have activities in events table"
   ]
  },
  {
   "cell_type": "code",
   "execution_count": 36,
   "metadata": {
    "ExecuteTime": {
     "end_time": "2019-02-19T03:14:03.078153Z",
     "start_time": "2019-02-19T03:13:59.890556Z"
    },
    "scrolled": true
   },
   "outputs": [
    {
     "data": {
      "text/plain": [
       "105"
      ]
     },
     "execution_count": 36,
     "metadata": {},
     "output_type": "execute_result"
    }
   ],
   "source": [
    "len(session[~session.user_id_hash.isin(event.user_id_hash.unique())].user_id_hash.unique())"
   ]
  },
  {
   "cell_type": "markdown",
   "metadata": {},
   "source": [
    "There are 105 user_id's do not have activities in events table"
   ]
  },
  {
   "cell_type": "code",
   "execution_count": 37,
   "metadata": {
    "ExecuteTime": {
     "end_time": "2019-02-19T03:14:21.166807Z",
     "start_time": "2019-02-19T03:14:21.070712Z"
    },
    "scrolled": true
   },
   "outputs": [
    {
     "data": {
      "text/plain": [
       "265034"
      ]
     },
     "execution_count": 37,
     "metadata": {},
     "output_type": "execute_result"
    }
   ],
   "source": [
    "len(event[event.event=='8'])"
   ]
  },
  {
   "cell_type": "markdown",
   "metadata": {},
   "source": [
    "265,034 purchase activities"
   ]
  },
  {
   "cell_type": "code",
   "execution_count": 38,
   "metadata": {
    "ExecuteTime": {
     "end_time": "2019-02-19T03:14:24.423709Z",
     "start_time": "2019-02-19T03:14:24.346992Z"
    },
    "scrolled": true
   },
   "outputs": [
    {
     "data": {
      "text/plain": [
       "0.002367503855432068"
      ]
     },
     "execution_count": 38,
     "metadata": {},
     "output_type": "execute_result"
    }
   ],
   "source": [
    "len(event[event.event=='8'])/len(event)"
   ]
  },
  {
   "cell_type": "markdown",
   "metadata": {},
   "source": [
    "0.0024 purchase rate"
   ]
  },
  {
   "cell_type": "code",
   "execution_count": 39,
   "metadata": {
    "ExecuteTime": {
     "end_time": "2019-02-19T03:15:42.021751Z",
     "start_time": "2019-02-19T03:15:36.600225Z"
    },
    "scrolled": true
   },
   "outputs": [
    {
     "data": {
      "text/plain": [
       "5009421"
      ]
     },
     "execution_count": 39,
     "metadata": {},
     "output_type": "execute_result"
    }
   ],
   "source": [
    "len(event.groupby('session_id').size())"
   ]
  },
  {
   "cell_type": "code",
   "execution_count": 40,
   "metadata": {
    "ExecuteTime": {
     "end_time": "2019-02-19T03:15:51.242586Z",
     "start_time": "2019-02-19T03:15:42.959533Z"
    }
   },
   "outputs": [
    {
     "data": {
      "text/plain": [
       "5009421"
      ]
     },
     "execution_count": 40,
     "metadata": {},
     "output_type": "execute_result"
    }
   ],
   "source": [
    "len(event.groupby(['session_id', 'user_id_hash']).size())"
   ]
  },
  {
   "cell_type": "code",
   "execution_count": 74,
   "metadata": {
    "ExecuteTime": {
     "end_time": "2019-02-19T04:09:27.287978Z",
     "start_time": "2019-02-19T04:07:21.510984Z"
    }
   },
   "outputs": [],
   "source": [
    "event_new = event.drop_duplicates()"
   ]
  },
  {
   "cell_type": "markdown",
   "metadata": {},
   "source": [
    "There are duplicated rows existing in event table, so drop duplicates."
   ]
  },
  {
   "cell_type": "code",
   "execution_count": 27,
   "metadata": {
    "ExecuteTime": {
     "end_time": "2019-02-18T00:56:02.484549Z",
     "start_time": "2019-02-18T00:56:02.466944Z"
    }
   },
   "outputs": [
    {
     "data": {
      "text/plain": [
       "111940646"
      ]
     },
     "execution_count": 27,
     "metadata": {},
     "output_type": "execute_result"
    }
   ],
   "source": [
    "len(event_new)"
   ]
  },
  {
   "cell_type": "code",
   "execution_count": 75,
   "metadata": {
    "ExecuteTime": {
     "end_time": "2019-02-19T04:09:46.187446Z",
     "start_time": "2019-02-19T04:09:46.162395Z"
    },
    "scrolled": false
   },
   "outputs": [
    {
     "data": {
      "text/html": [
       "<div>\n",
       "<style scoped>\n",
       "    .dataframe tbody tr th:only-of-type {\n",
       "        vertical-align: middle;\n",
       "    }\n",
       "\n",
       "    .dataframe tbody tr th {\n",
       "        vertical-align: top;\n",
       "    }\n",
       "\n",
       "    .dataframe thead th {\n",
       "        text-align: right;\n",
       "    }\n",
       "</style>\n",
       "<table border=\"1\" class=\"dataframe\">\n",
       "  <thead>\n",
       "    <tr style=\"text-align: right;\">\n",
       "      <th></th>\n",
       "      <th>session_id</th>\n",
       "      <th>event</th>\n",
       "      <th>event_timestamp</th>\n",
       "      <th>event_value</th>\n",
       "      <th>user_id_hash</th>\n",
       "    </tr>\n",
       "  </thead>\n",
       "  <tbody>\n",
       "    <tr>\n",
       "      <th>0</th>\n",
       "      <td>5558845121177764917</td>\n",
       "      <td>45</td>\n",
       "      <td>2018-11-14 17:09:57.132</td>\n",
       "      <td>0.0</td>\n",
       "      <td>9943447915df3a45fd6720a026af905b6da6b56a37701b...</td>\n",
       "    </tr>\n",
       "    <tr>\n",
       "      <th>1</th>\n",
       "      <td>5558845121177764917</td>\n",
       "      <td>45</td>\n",
       "      <td>2018-11-14 17:11:24.895</td>\n",
       "      <td>0.0</td>\n",
       "      <td>9943447915df3a45fd6720a026af905b6da6b56a37701b...</td>\n",
       "    </tr>\n",
       "    <tr>\n",
       "      <th>2</th>\n",
       "      <td>7689508378645584666</td>\n",
       "      <td>.m5100869650219008</td>\n",
       "      <td>2018-11-02 02:06:50.372</td>\n",
       "      <td>0.0</td>\n",
       "      <td>9943447915df3a45fd6720a026af905b6da6b56a37701b...</td>\n",
       "    </tr>\n",
       "    <tr>\n",
       "      <th>3</th>\n",
       "      <td>2201961907282901522</td>\n",
       "      <td>4</td>\n",
       "      <td>2018-12-02 01:11:31.129</td>\n",
       "      <td>0.0</td>\n",
       "      <td>9943447915df3a45fd6720a026af905b6da6b56a37701b...</td>\n",
       "    </tr>\n",
       "    <tr>\n",
       "      <th>4</th>\n",
       "      <td>2201961907282901522</td>\n",
       "      <td>6</td>\n",
       "      <td>2018-12-02 01:11:33.116</td>\n",
       "      <td>0.0</td>\n",
       "      <td>9943447915df3a45fd6720a026af905b6da6b56a37701b...</td>\n",
       "    </tr>\n",
       "  </tbody>\n",
       "</table>\n",
       "</div>"
      ],
      "text/plain": [
       "            session_id               event         event_timestamp  \\\n",
       "0  5558845121177764917                  45 2018-11-14 17:09:57.132   \n",
       "1  5558845121177764917                  45 2018-11-14 17:11:24.895   \n",
       "2  7689508378645584666  .m5100869650219008 2018-11-02 02:06:50.372   \n",
       "3  2201961907282901522                   4 2018-12-02 01:11:31.129   \n",
       "4  2201961907282901522                   6 2018-12-02 01:11:33.116   \n",
       "\n",
       "   event_value                                       user_id_hash  \n",
       "0          0.0  9943447915df3a45fd6720a026af905b6da6b56a37701b...  \n",
       "1          0.0  9943447915df3a45fd6720a026af905b6da6b56a37701b...  \n",
       "2          0.0  9943447915df3a45fd6720a026af905b6da6b56a37701b...  \n",
       "3          0.0  9943447915df3a45fd6720a026af905b6da6b56a37701b...  \n",
       "4          0.0  9943447915df3a45fd6720a026af905b6da6b56a37701b...  "
      ]
     },
     "execution_count": 75,
     "metadata": {},
     "output_type": "execute_result"
    }
   ],
   "source": [
    "event_new.head()"
   ]
  },
  {
   "cell_type": "code",
   "execution_count": 42,
   "metadata": {
    "ExecuteTime": {
     "end_time": "2019-02-19T03:16:32.882134Z",
     "start_time": "2019-02-19T03:16:06.240706Z"
    }
   },
   "outputs": [
    {
     "data": {
      "image/png": "[encoded data removed]",
      "text/plain": [
       "<matplotlib.figure.Figure at 0x14a7abe48>"
      ]
     },
     "metadata": {},
     "output_type": "display_data"
    }
   ],
   "source": [
    "sns.countplot(x='event', data=event_new);"
   ]
  },
  {
   "cell_type": "markdown",
   "metadata": {},
   "source": [
    "Certain event has extremely high frequency."
   ]
  },
  {
   "cell_type": "code",
   "execution_count": null,
   "metadata": {
    "ExecuteTime": {
     "end_time": "2019-02-19T03:23:19.066642Z",
     "start_time": "2019-02-19T03:21:23.571Z"
    }
   },
   "outputs": [],
   "source": [
    "event_new.groupby('user_id_hash').size().plot()"
   ]
  },
  {
   "cell_type": "code",
   "execution_count": 45,
   "metadata": {
    "ExecuteTime": {
     "end_time": "2019-02-19T03:24:13.635033Z",
     "start_time": "2019-02-19T03:24:07.773850Z"
    }
   },
   "outputs": [],
   "source": [
    "# 1. purchase nonpurchase ratio per user\n",
    "pur_npur_ratio = event_new[event_new.event=='8'].groupby('user_id_hash').size()/event_new.groupby('user_id_hash').size()\n",
    "pur_npur_ratio = pur_npur_ratio.to_frame().reset_index()"
   ]
  },
  {
   "cell_type": "code",
   "execution_count": 53,
   "metadata": {
    "ExecuteTime": {
     "end_time": "2019-02-19T03:27:13.543464Z",
     "start_time": "2019-02-19T03:27:12.909214Z"
    },
    "scrolled": false
   },
   "outputs": [
    {
     "data": {
      "text/plain": [
       "<matplotlib.axes._subplots.AxesSubplot at 0x12402c550>"
      ]
     },
     "execution_count": 53,
     "metadata": {},
     "output_type": "execute_result"
    },
    {
     "data": {
      "image/png": "[encoded data removed]",
      "text/plain": [
       "<matplotlib.figure.Figure at 0x124056978>"
      ]
     },
     "metadata": {},
     "output_type": "display_data"
    }
   ],
   "source": [
    "fig, ax = plt.subplots(figsize=(15,7))\n",
    "pur_npur_ratio.plot(ax=ax)"
   ]
  },
  {
   "cell_type": "code",
   "execution_count": 59,
   "metadata": {
    "ExecuteTime": {
     "end_time": "2019-02-19T03:53:51.246029Z",
     "start_time": "2019-02-19T03:53:14.627813Z"
    },
    "scrolled": true
   },
   "outputs": [],
   "source": [
    "# 2. total events per user\n",
    "events_pu = event_new.groupby('user_id_hash').agg({'event':np.size}).reset_index()  # same as event_new.groupby('user_id_hash').event.size()"
   ]
  },
  {
   "cell_type": "code",
   "execution_count": 62,
   "metadata": {
    "ExecuteTime": {
     "end_time": "2019-02-19T03:54:16.951474Z",
     "start_time": "2019-02-19T03:54:16.106619Z"
    },
    "scrolled": false
   },
   "outputs": [
    {
     "data": {
      "text/plain": [
       "<matplotlib.axes._subplots.AxesSubplot at 0x1576826a0>"
      ]
     },
     "execution_count": 62,
     "metadata": {},
     "output_type": "execute_result"
    },
    {
     "data": {
      "image/png": "[encoded data removed]",
      "text/plain": [
       "<matplotlib.figure.Figure at 0x1576524e0>"
      ]
     },
     "metadata": {},
     "output_type": "display_data"
    }
   ],
   "source": [
    "fig, ax = plt.subplots(figsize=(15,7))\n",
    "events_pu.plot(ax=ax)"
   ]
  },
  {
   "cell_type": "code",
   "execution_count": 64,
   "metadata": {
    "ExecuteTime": {
     "end_time": "2019-02-19T03:56:41.661509Z",
     "start_time": "2019-02-19T03:56:41.653356Z"
    }
   },
   "outputs": [
    {
     "data": {
      "text/html": [
       "<div>\n",
       "<style scoped>\n",
       "    .dataframe tbody tr th:only-of-type {\n",
       "        vertical-align: middle;\n",
       "    }\n",
       "\n",
       "    .dataframe tbody tr th {\n",
       "        vertical-align: top;\n",
       "    }\n",
       "\n",
       "    .dataframe thead th {\n",
       "        text-align: right;\n",
       "    }\n",
       "</style>\n",
       "<table border=\"1\" class=\"dataframe\">\n",
       "  <thead>\n",
       "    <tr style=\"text-align: right;\">\n",
       "      <th></th>\n",
       "      <th>user_id_hash</th>\n",
       "      <th>event</th>\n",
       "    </tr>\n",
       "  </thead>\n",
       "  <tbody>\n",
       "    <tr>\n",
       "      <th>0</th>\n",
       "      <td>002e447aed33ed4c51a68743cc293ef2148058b6a6239e...</td>\n",
       "      <td>119</td>\n",
       "    </tr>\n",
       "    <tr>\n",
       "      <th>1</th>\n",
       "      <td>005c9d79cf18efc6c8b5fa767964b1def9b8e2f8abd23f...</td>\n",
       "      <td>24</td>\n",
       "    </tr>\n",
       "    <tr>\n",
       "      <th>2</th>\n",
       "      <td>0061b4d30e8a9935b2ebeec954ff509b4f0cb500cd725c...</td>\n",
       "      <td>34</td>\n",
       "    </tr>\n",
       "    <tr>\n",
       "      <th>3</th>\n",
       "      <td>00fbbf507c7d3c2f259cd3329d241c29d35712e2d4699f...</td>\n",
       "      <td>47</td>\n",
       "    </tr>\n",
       "    <tr>\n",
       "      <th>4</th>\n",
       "      <td>0107a0017873efc2dea9a9155832363ceacf6fe97bd428...</td>\n",
       "      <td>14</td>\n",
       "    </tr>\n",
       "  </tbody>\n",
       "</table>\n",
       "</div>"
      ],
      "text/plain": [
       "                                        user_id_hash  event\n",
       "0  002e447aed33ed4c51a68743cc293ef2148058b6a6239e...    119\n",
       "1  005c9d79cf18efc6c8b5fa767964b1def9b8e2f8abd23f...     24\n",
       "2  0061b4d30e8a9935b2ebeec954ff509b4f0cb500cd725c...     34\n",
       "3  00fbbf507c7d3c2f259cd3329d241c29d35712e2d4699f...     47\n",
       "4  0107a0017873efc2dea9a9155832363ceacf6fe97bd428...     14"
      ]
     },
     "execution_count": 64,
     "metadata": {},
     "output_type": "execute_result"
    }
   ],
   "source": [
    "events_pu.head()"
   ]
  },
  {
   "cell_type": "code",
   "execution_count": 70,
   "metadata": {
    "ExecuteTime": {
     "end_time": "2019-02-17T19:40:18.947767Z",
     "start_time": "2019-02-17T19:40:18.570042Z"
    },
    "scrolled": true
   },
   "outputs": [],
   "source": [
    "label = event_new[event_new.event=='8'].groupby('user_id_hash').size().to_frame().reset_index()\n",
    "label.columns=['user_id_hash', 'label']\n",
    "label.loc[label['label']>1, 'label'] = 1"
   ]
  },
  {
   "cell_type": "markdown",
   "metadata": {},
   "source": [
    "### label prep"
   ]
  },
  {
   "cell_type": "code",
   "execution_count": 76,
   "metadata": {
    "ExecuteTime": {
     "end_time": "2019-02-19T04:10:02.613550Z",
     "start_time": "2019-02-19T04:10:00.910477Z"
    },
    "scrolled": false
   },
   "outputs": [
    {
     "name": "stdout",
     "output_type": "stream",
     "text": [
      "4729 unique users purchased in 7 days\n",
      "6126 unique users purchased in 14 days\n"
     ]
    }
   ],
   "source": [
    "import datetime\n",
    "\n",
    "user_purchase_7=event_new[(event_new.event=='8')&(event_new.event_timestamp>=pd.Timestamp(datetime.datetime(2018,12,1)))&(event_new.event_timestamp<=pd.Timestamp(datetime.datetime(2018,12,8)))].user_id_hash.unique()\n",
    "user_purchase_7\n",
    "print(len(user_purchase_7), 'unique users purchased in 7 days')\n",
    "\n",
    "user_purchase_14 = event_new[(event_new.event=='8')&(event_new.event_timestamp>=pd.Timestamp(datetime.datetime(2018,12,1)))&(event_new.event_timestamp<=pd.Timestamp(datetime.datetime(2018,12,15)))].user_id_hash.unique()\n",
    "user_purchase_14\n",
    "print(len(user_purchase_14), 'unique users purchased in 14 days')"
   ]
  },
  {
   "cell_type": "markdown",
   "metadata": {},
   "source": [
    "Feature ideas"
   ]
  },
  {
   "cell_type": "code",
   "execution_count": 77,
   "metadata": {
    "ExecuteTime": {
     "end_time": "2019-02-19T04:11:58.867640Z",
     "start_time": "2019-02-19T04:10:19.521291Z"
    },
    "scrolled": true
   },
   "outputs": [],
   "source": [
    "# avg events per session per user\n",
    "avg_event_pu = event_new.groupby(['user_id_hash']).event.size()/event_new.groupby(['user_id_hash']).session_id.nunique()\n",
    "avg_event_pu = avg_event_pu.to_frame()"
   ]
  },
  {
   "cell_type": "code",
   "execution_count": 74,
   "metadata": {
    "ExecuteTime": {
     "end_time": "2019-02-18T01:22:05.682951Z",
     "start_time": "2019-02-18T01:22:05.528419Z"
    }
   },
   "outputs": [],
   "source": [
    "avg_event_pu = avg_event_pu.reset_index()"
   ]
  },
  {
   "cell_type": "code",
   "execution_count": 67,
   "metadata": {
    "ExecuteTime": {
     "end_time": "2019-02-18T01:18:43.544053Z",
     "start_time": "2019-02-18T01:18:41.942576Z"
    }
   },
   "outputs": [],
   "source": [
    "# total event val\n",
    "eventval_pu = event_new.groupby('user_id_hash').agg({'event_value':np.sum}).reset_index()"
   ]
  },
  {
   "cell_type": "code",
   "execution_count": 85,
   "metadata": {
    "ExecuteTime": {
     "end_time": "2019-02-18T01:25:56.256508Z",
     "start_time": "2019-02-18T01:25:53.411668Z"
    }
   },
   "outputs": [
    {
     "data": {
      "text/html": [
       "<div>\n",
       "<style scoped>\n",
       "    .dataframe tbody tr th:only-of-type {\n",
       "        vertical-align: middle;\n",
       "    }\n",
       "\n",
       "    .dataframe tbody tr th {\n",
       "        vertical-align: top;\n",
       "    }\n",
       "\n",
       "    .dataframe thead th {\n",
       "        text-align: right;\n",
       "    }\n",
       "</style>\n",
       "<table border=\"1\" class=\"dataframe\">\n",
       "  <thead>\n",
       "    <tr style=\"text-align: right;\">\n",
       "      <th></th>\n",
       "      <th>user_id_hash</th>\n",
       "    </tr>\n",
       "  </thead>\n",
       "  <tbody>\n",
       "    <tr>\n",
       "      <th>0</th>\n",
       "      <td>9943447915df3a45fd6720a026af905b6da6b56a37701b...</td>\n",
       "    </tr>\n",
       "    <tr>\n",
       "      <th>1</th>\n",
       "      <td>43f75f8042d3c80c45e222bdd09267f4584684c54d6fae...</td>\n",
       "    </tr>\n",
       "    <tr>\n",
       "      <th>2</th>\n",
       "      <td>999524249720812f2d8c0390293efd58e1ac84d587a01c...</td>\n",
       "    </tr>\n",
       "    <tr>\n",
       "      <th>3</th>\n",
       "      <td>4e6bc35cf7fd79a5312047651e7865915f4a6bec193cf2...</td>\n",
       "    </tr>\n",
       "    <tr>\n",
       "      <th>4</th>\n",
       "      <td>dc009148ee26d658e0240c7b7f6a258790a457737f96e8...</td>\n",
       "    </tr>\n",
       "  </tbody>\n",
       "</table>\n",
       "</div>"
      ],
      "text/plain": [
       "                                        user_id_hash\n",
       "0  9943447915df3a45fd6720a026af905b6da6b56a37701b...\n",
       "1  43f75f8042d3c80c45e222bdd09267f4584684c54d6fae...\n",
       "2  999524249720812f2d8c0390293efd58e1ac84d587a01c...\n",
       "3  4e6bc35cf7fd79a5312047651e7865915f4a6bec193cf2...\n",
       "4  dc009148ee26d658e0240c7b7f6a258790a457737f96e8..."
      ]
     },
     "execution_count": 85,
     "metadata": {},
     "output_type": "execute_result"
    }
   ],
   "source": [
    "event_df = event_new[['user_id_hash']].drop_duplicates().reset_index(drop=True)\n",
    "event_df.head()"
   ]
  },
  {
   "cell_type": "code",
   "execution_count": 87,
   "metadata": {
    "ExecuteTime": {
     "end_time": "2019-02-18T01:26:10.082106Z",
     "start_time": "2019-02-18T01:26:04.662936Z"
    }
   },
   "outputs": [],
   "source": [
    "event_df = pd.merge(event_df, pur_npur_ratio, on='user_id_hash', how='left')\n",
    "event_df = pd.merge(event_df, events_pu, on='user_id_hash', how='left')\n",
    "event_df = pd.merge(event_df, avg_event_pu, on='user_id_hash', how='left')\n",
    "event_df = pd.merge(event_df, eventval_pu, on='user_id_hash', how='left')"
   ]
  },
  {
   "cell_type": "code",
   "execution_count": 81,
   "metadata": {
    "ExecuteTime": {
     "end_time": "2019-02-18T01:24:23.210697Z",
     "start_time": "2019-02-18T01:24:23.203149Z"
    },
    "scrolled": true
   },
   "outputs": [
    {
     "data": {
      "text/html": [
       "<div>\n",
       "<style scoped>\n",
       "    .dataframe tbody tr th:only-of-type {\n",
       "        vertical-align: middle;\n",
       "    }\n",
       "\n",
       "    .dataframe tbody tr th {\n",
       "        vertical-align: top;\n",
       "    }\n",
       "\n",
       "    .dataframe thead th {\n",
       "        text-align: right;\n",
       "    }\n",
       "</style>\n",
       "<table border=\"1\" class=\"dataframe\">\n",
       "  <thead>\n",
       "    <tr style=\"text-align: right;\">\n",
       "      <th></th>\n",
       "      <th>user_id_hash</th>\n",
       "      <th>0</th>\n",
       "    </tr>\n",
       "  </thead>\n",
       "  <tbody>\n",
       "    <tr>\n",
       "      <th>0</th>\n",
       "      <td>002e447aed33ed4c51a68743cc293ef2148058b6a6239e...</td>\n",
       "      <td>0.0</td>\n",
       "    </tr>\n",
       "    <tr>\n",
       "      <th>1</th>\n",
       "      <td>005c9d79cf18efc6c8b5fa767964b1def9b8e2f8abd23f...</td>\n",
       "      <td>0.0</td>\n",
       "    </tr>\n",
       "    <tr>\n",
       "      <th>2</th>\n",
       "      <td>0061b4d30e8a9935b2ebeec954ff509b4f0cb500cd725c...</td>\n",
       "      <td>0.0</td>\n",
       "    </tr>\n",
       "    <tr>\n",
       "      <th>3</th>\n",
       "      <td>00fbbf507c7d3c2f259cd3329d241c29d35712e2d4699f...</td>\n",
       "      <td>0.0</td>\n",
       "    </tr>\n",
       "    <tr>\n",
       "      <th>4</th>\n",
       "      <td>0107a0017873efc2dea9a9155832363ceacf6fe97bd428...</td>\n",
       "      <td>0.0</td>\n",
       "    </tr>\n",
       "  </tbody>\n",
       "</table>\n",
       "</div>"
      ],
      "text/plain": [
       "                                        user_id_hash    0\n",
       "0  002e447aed33ed4c51a68743cc293ef2148058b6a6239e...  0.0\n",
       "1  005c9d79cf18efc6c8b5fa767964b1def9b8e2f8abd23f...  0.0\n",
       "2  0061b4d30e8a9935b2ebeec954ff509b4f0cb500cd725c...  0.0\n",
       "3  00fbbf507c7d3c2f259cd3329d241c29d35712e2d4699f...  0.0\n",
       "4  0107a0017873efc2dea9a9155832363ceacf6fe97bd428...  0.0"
      ]
     },
     "execution_count": 81,
     "metadata": {},
     "output_type": "execute_result"
    }
   ],
   "source": [
    "pur_npur_ratio.head()"
   ]
  },
  {
   "cell_type": "code",
   "execution_count": 82,
   "metadata": {
    "ExecuteTime": {
     "end_time": "2019-02-18T01:24:31.182361Z",
     "start_time": "2019-02-18T01:24:31.174820Z"
    }
   },
   "outputs": [
    {
     "data": {
      "text/html": [
       "<div>\n",
       "<style scoped>\n",
       "    .dataframe tbody tr th:only-of-type {\n",
       "        vertical-align: middle;\n",
       "    }\n",
       "\n",
       "    .dataframe tbody tr th {\n",
       "        vertical-align: top;\n",
       "    }\n",
       "\n",
       "    .dataframe thead th {\n",
       "        text-align: right;\n",
       "    }\n",
       "</style>\n",
       "<table border=\"1\" class=\"dataframe\">\n",
       "  <thead>\n",
       "    <tr style=\"text-align: right;\">\n",
       "      <th></th>\n",
       "      <th>user_id_hash</th>\n",
       "      <th>event</th>\n",
       "    </tr>\n",
       "  </thead>\n",
       "  <tbody>\n",
       "    <tr>\n",
       "      <th>0</th>\n",
       "      <td>002e447aed33ed4c51a68743cc293ef2148058b6a6239e...</td>\n",
       "      <td>119</td>\n",
       "    </tr>\n",
       "    <tr>\n",
       "      <th>1</th>\n",
       "      <td>005c9d79cf18efc6c8b5fa767964b1def9b8e2f8abd23f...</td>\n",
       "      <td>24</td>\n",
       "    </tr>\n",
       "    <tr>\n",
       "      <th>2</th>\n",
       "      <td>0061b4d30e8a9935b2ebeec954ff509b4f0cb500cd725c...</td>\n",
       "      <td>34</td>\n",
       "    </tr>\n",
       "    <tr>\n",
       "      <th>3</th>\n",
       "      <td>00fbbf507c7d3c2f259cd3329d241c29d35712e2d4699f...</td>\n",
       "      <td>47</td>\n",
       "    </tr>\n",
       "    <tr>\n",
       "      <th>4</th>\n",
       "      <td>0107a0017873efc2dea9a9155832363ceacf6fe97bd428...</td>\n",
       "      <td>14</td>\n",
       "    </tr>\n",
       "  </tbody>\n",
       "</table>\n",
       "</div>"
      ],
      "text/plain": [
       "                                        user_id_hash  event\n",
       "0  002e447aed33ed4c51a68743cc293ef2148058b6a6239e...    119\n",
       "1  005c9d79cf18efc6c8b5fa767964b1def9b8e2f8abd23f...     24\n",
       "2  0061b4d30e8a9935b2ebeec954ff509b4f0cb500cd725c...     34\n",
       "3  00fbbf507c7d3c2f259cd3329d241c29d35712e2d4699f...     47\n",
       "4  0107a0017873efc2dea9a9155832363ceacf6fe97bd428...     14"
      ]
     },
     "execution_count": 82,
     "metadata": {},
     "output_type": "execute_result"
    }
   ],
   "source": [
    "events_pu.head()"
   ]
  },
  {
   "cell_type": "code",
   "execution_count": 83,
   "metadata": {
    "ExecuteTime": {
     "end_time": "2019-02-18T01:24:42.106938Z",
     "start_time": "2019-02-18T01:24:42.098027Z"
    }
   },
   "outputs": [
    {
     "data": {
      "text/html": [
       "<div>\n",
       "<style scoped>\n",
       "    .dataframe tbody tr th:only-of-type {\n",
       "        vertical-align: middle;\n",
       "    }\n",
       "\n",
       "    .dataframe tbody tr th {\n",
       "        vertical-align: top;\n",
       "    }\n",
       "\n",
       "    .dataframe thead th {\n",
       "        text-align: right;\n",
       "    }\n",
       "</style>\n",
       "<table border=\"1\" class=\"dataframe\">\n",
       "  <thead>\n",
       "    <tr style=\"text-align: right;\">\n",
       "      <th></th>\n",
       "      <th>user_id_hash</th>\n",
       "      <th>0</th>\n",
       "    </tr>\n",
       "  </thead>\n",
       "  <tbody>\n",
       "    <tr>\n",
       "      <th>0</th>\n",
       "      <td>002e447aed33ed4c51a68743cc293ef2148058b6a6239e...</td>\n",
       "      <td>39.666667</td>\n",
       "    </tr>\n",
       "    <tr>\n",
       "      <th>1</th>\n",
       "      <td>005c9d79cf18efc6c8b5fa767964b1def9b8e2f8abd23f...</td>\n",
       "      <td>12.000000</td>\n",
       "    </tr>\n",
       "    <tr>\n",
       "      <th>2</th>\n",
       "      <td>0061b4d30e8a9935b2ebeec954ff509b4f0cb500cd725c...</td>\n",
       "      <td>34.000000</td>\n",
       "    </tr>\n",
       "    <tr>\n",
       "      <th>3</th>\n",
       "      <td>00fbbf507c7d3c2f259cd3329d241c29d35712e2d4699f...</td>\n",
       "      <td>15.666667</td>\n",
       "    </tr>\n",
       "    <tr>\n",
       "      <th>4</th>\n",
       "      <td>0107a0017873efc2dea9a9155832363ceacf6fe97bd428...</td>\n",
       "      <td>14.000000</td>\n",
       "    </tr>\n",
       "  </tbody>\n",
       "</table>\n",
       "</div>"
      ],
      "text/plain": [
       "                                        user_id_hash          0\n",
       "0  002e447aed33ed4c51a68743cc293ef2148058b6a6239e...  39.666667\n",
       "1  005c9d79cf18efc6c8b5fa767964b1def9b8e2f8abd23f...  12.000000\n",
       "2  0061b4d30e8a9935b2ebeec954ff509b4f0cb500cd725c...  34.000000\n",
       "3  00fbbf507c7d3c2f259cd3329d241c29d35712e2d4699f...  15.666667\n",
       "4  0107a0017873efc2dea9a9155832363ceacf6fe97bd428...  14.000000"
      ]
     },
     "execution_count": 83,
     "metadata": {},
     "output_type": "execute_result"
    }
   ],
   "source": [
    "avg_event_pu.head()"
   ]
  },
  {
   "cell_type": "code",
   "execution_count": 84,
   "metadata": {
    "ExecuteTime": {
     "end_time": "2019-02-18T01:24:51.288366Z",
     "start_time": "2019-02-18T01:24:51.280929Z"
    }
   },
   "outputs": [
    {
     "data": {
      "text/html": [
       "<div>\n",
       "<style scoped>\n",
       "    .dataframe tbody tr th:only-of-type {\n",
       "        vertical-align: middle;\n",
       "    }\n",
       "\n",
       "    .dataframe tbody tr th {\n",
       "        vertical-align: top;\n",
       "    }\n",
       "\n",
       "    .dataframe thead th {\n",
       "        text-align: right;\n",
       "    }\n",
       "</style>\n",
       "<table border=\"1\" class=\"dataframe\">\n",
       "  <thead>\n",
       "    <tr style=\"text-align: right;\">\n",
       "      <th></th>\n",
       "      <th>user_id_hash</th>\n",
       "      <th>event_value</th>\n",
       "    </tr>\n",
       "  </thead>\n",
       "  <tbody>\n",
       "    <tr>\n",
       "      <th>0</th>\n",
       "      <td>002e447aed33ed4c51a68743cc293ef2148058b6a6239e...</td>\n",
       "      <td>43.0</td>\n",
       "    </tr>\n",
       "    <tr>\n",
       "      <th>1</th>\n",
       "      <td>005c9d79cf18efc6c8b5fa767964b1def9b8e2f8abd23f...</td>\n",
       "      <td>12.0</td>\n",
       "    </tr>\n",
       "    <tr>\n",
       "      <th>2</th>\n",
       "      <td>0061b4d30e8a9935b2ebeec954ff509b4f0cb500cd725c...</td>\n",
       "      <td>0.0</td>\n",
       "    </tr>\n",
       "    <tr>\n",
       "      <th>3</th>\n",
       "      <td>00fbbf507c7d3c2f259cd3329d241c29d35712e2d4699f...</td>\n",
       "      <td>53.0</td>\n",
       "    </tr>\n",
       "    <tr>\n",
       "      <th>4</th>\n",
       "      <td>0107a0017873efc2dea9a9155832363ceacf6fe97bd428...</td>\n",
       "      <td>0.0</td>\n",
       "    </tr>\n",
       "  </tbody>\n",
       "</table>\n",
       "</div>"
      ],
      "text/plain": [
       "                                        user_id_hash  event_value\n",
       "0  002e447aed33ed4c51a68743cc293ef2148058b6a6239e...         43.0\n",
       "1  005c9d79cf18efc6c8b5fa767964b1def9b8e2f8abd23f...         12.0\n",
       "2  0061b4d30e8a9935b2ebeec954ff509b4f0cb500cd725c...          0.0\n",
       "3  00fbbf507c7d3c2f259cd3329d241c29d35712e2d4699f...         53.0\n",
       "4  0107a0017873efc2dea9a9155832363ceacf6fe97bd428...          0.0"
      ]
     },
     "execution_count": 84,
     "metadata": {},
     "output_type": "execute_result"
    }
   ],
   "source": [
    "eventval_pu.head()"
   ]
  },
  {
   "cell_type": "code",
   "execution_count": 88,
   "metadata": {
    "ExecuteTime": {
     "end_time": "2019-02-18T01:26:12.036087Z",
     "start_time": "2019-02-18T01:26:12.025640Z"
    }
   },
   "outputs": [
    {
     "data": {
      "text/html": [
       "<div>\n",
       "<style scoped>\n",
       "    .dataframe tbody tr th:only-of-type {\n",
       "        vertical-align: middle;\n",
       "    }\n",
       "\n",
       "    .dataframe tbody tr th {\n",
       "        vertical-align: top;\n",
       "    }\n",
       "\n",
       "    .dataframe thead th {\n",
       "        text-align: right;\n",
       "    }\n",
       "</style>\n",
       "<table border=\"1\" class=\"dataframe\">\n",
       "  <thead>\n",
       "    <tr style=\"text-align: right;\">\n",
       "      <th></th>\n",
       "      <th>user_id_hash</th>\n",
       "      <th>0_x</th>\n",
       "      <th>event</th>\n",
       "      <th>0_y</th>\n",
       "      <th>event_value</th>\n",
       "    </tr>\n",
       "  </thead>\n",
       "  <tbody>\n",
       "    <tr>\n",
       "      <th>0</th>\n",
       "      <td>9943447915df3a45fd6720a026af905b6da6b56a37701b...</td>\n",
       "      <td>0.001481</td>\n",
       "      <td>675</td>\n",
       "      <td>18.243243</td>\n",
       "      <td>203.492996</td>\n",
       "    </tr>\n",
       "    <tr>\n",
       "      <th>1</th>\n",
       "      <td>43f75f8042d3c80c45e222bdd09267f4584684c54d6fae...</td>\n",
       "      <td>0.000000</td>\n",
       "      <td>86</td>\n",
       "      <td>43.000000</td>\n",
       "      <td>52.000000</td>\n",
       "    </tr>\n",
       "    <tr>\n",
       "      <th>2</th>\n",
       "      <td>999524249720812f2d8c0390293efd58e1ac84d587a01c...</td>\n",
       "      <td>0.000000</td>\n",
       "      <td>33</td>\n",
       "      <td>33.000000</td>\n",
       "      <td>47.000000</td>\n",
       "    </tr>\n",
       "    <tr>\n",
       "      <th>3</th>\n",
       "      <td>4e6bc35cf7fd79a5312047651e7865915f4a6bec193cf2...</td>\n",
       "      <td>0.000000</td>\n",
       "      <td>17</td>\n",
       "      <td>8.500000</td>\n",
       "      <td>0.000000</td>\n",
       "    </tr>\n",
       "    <tr>\n",
       "      <th>4</th>\n",
       "      <td>dc009148ee26d658e0240c7b7f6a258790a457737f96e8...</td>\n",
       "      <td>0.000000</td>\n",
       "      <td>8</td>\n",
       "      <td>4.000000</td>\n",
       "      <td>0.000000</td>\n",
       "    </tr>\n",
       "  </tbody>\n",
       "</table>\n",
       "</div>"
      ],
      "text/plain": [
       "                                        user_id_hash       0_x  event  \\\n",
       "0  9943447915df3a45fd6720a026af905b6da6b56a37701b...  0.001481    675   \n",
       "1  43f75f8042d3c80c45e222bdd09267f4584684c54d6fae...  0.000000     86   \n",
       "2  999524249720812f2d8c0390293efd58e1ac84d587a01c...  0.000000     33   \n",
       "3  4e6bc35cf7fd79a5312047651e7865915f4a6bec193cf2...  0.000000     17   \n",
       "4  dc009148ee26d658e0240c7b7f6a258790a457737f96e8...  0.000000      8   \n",
       "\n",
       "         0_y  event_value  \n",
       "0  18.243243   203.492996  \n",
       "1  43.000000    52.000000  \n",
       "2  33.000000    47.000000  \n",
       "3   8.500000     0.000000  \n",
       "4   4.000000     0.000000  "
      ]
     },
     "execution_count": 88,
     "metadata": {},
     "output_type": "execute_result"
    }
   ],
   "source": [
    "event_df.head()"
   ]
  },
  {
   "cell_type": "code",
   "execution_count": 89,
   "metadata": {
    "ExecuteTime": {
     "end_time": "2019-02-18T01:26:23.884580Z",
     "start_time": "2019-02-18T01:26:23.882022Z"
    }
   },
   "outputs": [],
   "source": [
    "event_df.columns = ['user_id_hash','pur_npur_ratio', 'events_pu', 'avg_event_pu', 'eventval_pu']"
   ]
  },
  {
   "cell_type": "code",
   "execution_count": 90,
   "metadata": {
    "ExecuteTime": {
     "end_time": "2019-02-18T01:26:29.430780Z",
     "start_time": "2019-02-18T01:26:29.418979Z"
    }
   },
   "outputs": [
    {
     "data": {
      "text/html": [
       "<div>\n",
       "<style scoped>\n",
       "    .dataframe tbody tr th:only-of-type {\n",
       "        vertical-align: middle;\n",
       "    }\n",
       "\n",
       "    .dataframe tbody tr th {\n",
       "        vertical-align: top;\n",
       "    }\n",
       "\n",
       "    .dataframe thead th {\n",
       "        text-align: right;\n",
       "    }\n",
       "</style>\n",
       "<table border=\"1\" class=\"dataframe\">\n",
       "  <thead>\n",
       "    <tr style=\"text-align: right;\">\n",
       "      <th></th>\n",
       "      <th>user_id_hash</th>\n",
       "      <th>pur_npur_ratio</th>\n",
       "      <th>events_pu</th>\n",
       "      <th>avg_event_pu</th>\n",
       "      <th>eventval_pu</th>\n",
       "    </tr>\n",
       "  </thead>\n",
       "  <tbody>\n",
       "    <tr>\n",
       "      <th>0</th>\n",
       "      <td>9943447915df3a45fd6720a026af905b6da6b56a37701b...</td>\n",
       "      <td>0.001481</td>\n",
       "      <td>675</td>\n",
       "      <td>18.243243</td>\n",
       "      <td>203.492996</td>\n",
       "    </tr>\n",
       "    <tr>\n",
       "      <th>1</th>\n",
       "      <td>43f75f8042d3c80c45e222bdd09267f4584684c54d6fae...</td>\n",
       "      <td>0.000000</td>\n",
       "      <td>86</td>\n",
       "      <td>43.000000</td>\n",
       "      <td>52.000000</td>\n",
       "    </tr>\n",
       "    <tr>\n",
       "      <th>2</th>\n",
       "      <td>999524249720812f2d8c0390293efd58e1ac84d587a01c...</td>\n",
       "      <td>0.000000</td>\n",
       "      <td>33</td>\n",
       "      <td>33.000000</td>\n",
       "      <td>47.000000</td>\n",
       "    </tr>\n",
       "    <tr>\n",
       "      <th>3</th>\n",
       "      <td>4e6bc35cf7fd79a5312047651e7865915f4a6bec193cf2...</td>\n",
       "      <td>0.000000</td>\n",
       "      <td>17</td>\n",
       "      <td>8.500000</td>\n",
       "      <td>0.000000</td>\n",
       "    </tr>\n",
       "    <tr>\n",
       "      <th>4</th>\n",
       "      <td>dc009148ee26d658e0240c7b7f6a258790a457737f96e8...</td>\n",
       "      <td>0.000000</td>\n",
       "      <td>8</td>\n",
       "      <td>4.000000</td>\n",
       "      <td>0.000000</td>\n",
       "    </tr>\n",
       "  </tbody>\n",
       "</table>\n",
       "</div>"
      ],
      "text/plain": [
       "                                        user_id_hash  pur_npur_ratio  \\\n",
       "0  9943447915df3a45fd6720a026af905b6da6b56a37701b...        0.001481   \n",
       "1  43f75f8042d3c80c45e222bdd09267f4584684c54d6fae...        0.000000   \n",
       "2  999524249720812f2d8c0390293efd58e1ac84d587a01c...        0.000000   \n",
       "3  4e6bc35cf7fd79a5312047651e7865915f4a6bec193cf2...        0.000000   \n",
       "4  dc009148ee26d658e0240c7b7f6a258790a457737f96e8...        0.000000   \n",
       "\n",
       "   events_pu  avg_event_pu  eventval_pu  \n",
       "0        675     18.243243   203.492996  \n",
       "1         86     43.000000    52.000000  \n",
       "2         33     33.000000    47.000000  \n",
       "3         17      8.500000     0.000000  \n",
       "4          8      4.000000     0.000000  "
      ]
     },
     "execution_count": 90,
     "metadata": {},
     "output_type": "execute_result"
    }
   ],
   "source": [
    "event_df.head()"
   ]
  },
  {
   "cell_type": "markdown",
   "metadata": {},
   "source": [
    "## sample submission"
   ]
  },
  {
   "cell_type": "code",
   "execution_count": 54,
   "metadata": {
    "ExecuteTime": {
     "end_time": "2019-02-19T03:29:28.971991Z",
     "start_time": "2019-02-19T03:29:28.582181Z"
    }
   },
   "outputs": [],
   "source": [
    "sample_sub = pd.read_csv('../data/sample_submission_2.csv')"
   ]
  },
  {
   "cell_type": "code",
   "execution_count": 55,
   "metadata": {
    "ExecuteTime": {
     "end_time": "2019-02-19T03:29:31.139018Z",
     "start_time": "2019-02-19T03:29:31.128960Z"
    },
    "scrolled": true
   },
   "outputs": [
    {
     "data": {
      "text/html": [
       "<div>\n",
       "<style scoped>\n",
       "    .dataframe tbody tr th:only-of-type {\n",
       "        vertical-align: middle;\n",
       "    }\n",
       "\n",
       "    .dataframe tbody tr th {\n",
       "        vertical-align: top;\n",
       "    }\n",
       "\n",
       "    .dataframe thead th {\n",
       "        text-align: right;\n",
       "    }\n",
       "</style>\n",
       "<table border=\"1\" class=\"dataframe\">\n",
       "  <thead>\n",
       "    <tr style=\"text-align: right;\">\n",
       "      <th></th>\n",
       "      <th>user_id_hash</th>\n",
       "      <th>user_purchase_binary_7_days</th>\n",
       "      <th>user_purchase_binary_14_days</th>\n",
       "    </tr>\n",
       "  </thead>\n",
       "  <tbody>\n",
       "    <tr>\n",
       "      <th>0</th>\n",
       "      <td>e469dfaed039ead9110165d9bc457acb11609ca34057dc...</td>\n",
       "      <td>0.01</td>\n",
       "      <td>0.02</td>\n",
       "    </tr>\n",
       "    <tr>\n",
       "      <th>1</th>\n",
       "      <td>afcc639a324b6c598ef83d360450afa011cb2dd1358bf9...</td>\n",
       "      <td>0.01</td>\n",
       "      <td>0.02</td>\n",
       "    </tr>\n",
       "    <tr>\n",
       "      <th>2</th>\n",
       "      <td>fd5a7cf211d08e3e00f7be6a9df6e6ea3d2e5c22a5d9c3...</td>\n",
       "      <td>0.01</td>\n",
       "      <td>0.02</td>\n",
       "    </tr>\n",
       "    <tr>\n",
       "      <th>3</th>\n",
       "      <td>00bfff98b9d0329f014c2eeac7ce47cd18b2bc6e10d608...</td>\n",
       "      <td>0.01</td>\n",
       "      <td>0.02</td>\n",
       "    </tr>\n",
       "    <tr>\n",
       "      <th>4</th>\n",
       "      <td>0d298f3638c43e915c119d4935e1ce8d168f81b5e3e8c1...</td>\n",
       "      <td>0.01</td>\n",
       "      <td>0.02</td>\n",
       "    </tr>\n",
       "  </tbody>\n",
       "</table>\n",
       "</div>"
      ],
      "text/plain": [
       "                                        user_id_hash  \\\n",
       "0  e469dfaed039ead9110165d9bc457acb11609ca34057dc...   \n",
       "1  afcc639a324b6c598ef83d360450afa011cb2dd1358bf9...   \n",
       "2  fd5a7cf211d08e3e00f7be6a9df6e6ea3d2e5c22a5d9c3...   \n",
       "3  00bfff98b9d0329f014c2eeac7ce47cd18b2bc6e10d608...   \n",
       "4  0d298f3638c43e915c119d4935e1ce8d168f81b5e3e8c1...   \n",
       "\n",
       "   user_purchase_binary_7_days  user_purchase_binary_14_days  \n",
       "0                         0.01                          0.02  \n",
       "1                         0.01                          0.02  \n",
       "2                         0.01                          0.02  \n",
       "3                         0.01                          0.02  \n",
       "4                         0.01                          0.02  "
      ]
     },
     "execution_count": 55,
     "metadata": {},
     "output_type": "execute_result"
    }
   ],
   "source": [
    "sample_sub.head()"
   ]
  },
  {
   "cell_type": "code",
   "execution_count": 56,
   "metadata": {
    "ExecuteTime": {
     "end_time": "2019-02-19T03:29:33.226213Z",
     "start_time": "2019-02-19T03:29:33.127842Z"
    },
    "scrolled": true
   },
   "outputs": [
    {
     "data": {
      "text/plain": [
       "312568"
      ]
     },
     "execution_count": 56,
     "metadata": {},
     "output_type": "execute_result"
    }
   ],
   "source": [
    "len(sample_sub.user_id_hash.unique())"
   ]
  },
  {
   "cell_type": "markdown",
   "metadata": {
    "ExecuteTime": {
     "end_time": "2019-02-16T19:44:26.504892Z",
     "start_time": "2019-02-16T19:44:26.500341Z"
    }
   },
   "source": [
    "# Join Tables (session + event)"
   ]
  },
  {
   "cell_type": "code",
   "execution_count": 92,
   "metadata": {
    "ExecuteTime": {
     "end_time": "2019-02-18T01:27:45.021289Z",
     "start_time": "2019-02-18T01:27:42.663289Z"
    }
   },
   "outputs": [],
   "source": [
    "data = pd.merge(session_new, event_df, how='left', on='user_id_hash')"
   ]
  },
  {
   "cell_type": "code",
   "execution_count": 93,
   "metadata": {
    "ExecuteTime": {
     "end_time": "2019-02-18T01:27:49.498256Z",
     "start_time": "2019-02-18T01:27:49.486017Z"
    },
    "scrolled": true
   },
   "outputs": [
    {
     "data": {
      "text/html": [
       "<div>\n",
       "<style scoped>\n",
       "    .dataframe tbody tr th:only-of-type {\n",
       "        vertical-align: middle;\n",
       "    }\n",
       "\n",
       "    .dataframe tbody tr th {\n",
       "        vertical-align: top;\n",
       "    }\n",
       "\n",
       "    .dataframe thead th {\n",
       "        text-align: right;\n",
       "    }\n",
       "</style>\n",
       "<table border=\"1\" class=\"dataframe\">\n",
       "  <thead>\n",
       "    <tr style=\"text-align: right;\">\n",
       "      <th></th>\n",
       "      <th>user_id_hash</th>\n",
       "      <th>session_pu</th>\n",
       "      <th>prev_sd_pu</th>\n",
       "      <th>num_ct_pu</th>\n",
       "      <th>pur_npur_ratio</th>\n",
       "      <th>events_pu</th>\n",
       "      <th>avg_event_pu</th>\n",
       "      <th>eventval_pu</th>\n",
       "    </tr>\n",
       "  </thead>\n",
       "  <tbody>\n",
       "    <tr>\n",
       "      <th>0</th>\n",
       "      <td>9943447915df3a45fd6720a026af905b6da6b56a37701b...</td>\n",
       "      <td>49</td>\n",
       "      <td>2.128299e+07</td>\n",
       "      <td>49</td>\n",
       "      <td>0.001481</td>\n",
       "      <td>675.0</td>\n",
       "      <td>18.243243</td>\n",
       "      <td>203.492996</td>\n",
       "    </tr>\n",
       "    <tr>\n",
       "      <th>1</th>\n",
       "      <td>43f75f8042d3c80c45e222bdd09267f4584684c54d6fae...</td>\n",
       "      <td>3</td>\n",
       "      <td>2.024939e+06</td>\n",
       "      <td>3</td>\n",
       "      <td>0.000000</td>\n",
       "      <td>86.0</td>\n",
       "      <td>43.000000</td>\n",
       "      <td>52.000000</td>\n",
       "    </tr>\n",
       "    <tr>\n",
       "      <th>2</th>\n",
       "      <td>999524249720812f2d8c0390293efd58e1ac84d587a01c...</td>\n",
       "      <td>1</td>\n",
       "      <td>0.000000e+00</td>\n",
       "      <td>1</td>\n",
       "      <td>0.000000</td>\n",
       "      <td>33.0</td>\n",
       "      <td>33.000000</td>\n",
       "      <td>47.000000</td>\n",
       "    </tr>\n",
       "    <tr>\n",
       "      <th>3</th>\n",
       "      <td>4e6bc35cf7fd79a5312047651e7865915f4a6bec193cf2...</td>\n",
       "      <td>2</td>\n",
       "      <td>2.984835e+05</td>\n",
       "      <td>2</td>\n",
       "      <td>0.000000</td>\n",
       "      <td>17.0</td>\n",
       "      <td>8.500000</td>\n",
       "      <td>0.000000</td>\n",
       "    </tr>\n",
       "    <tr>\n",
       "      <th>4</th>\n",
       "      <td>dc009148ee26d658e0240c7b7f6a258790a457737f96e8...</td>\n",
       "      <td>2</td>\n",
       "      <td>4.874100e+04</td>\n",
       "      <td>2</td>\n",
       "      <td>0.000000</td>\n",
       "      <td>8.0</td>\n",
       "      <td>4.000000</td>\n",
       "      <td>0.000000</td>\n",
       "    </tr>\n",
       "  </tbody>\n",
       "</table>\n",
       "</div>"
      ],
      "text/plain": [
       "                                        user_id_hash  session_pu  \\\n",
       "0  9943447915df3a45fd6720a026af905b6da6b56a37701b...          49   \n",
       "1  43f75f8042d3c80c45e222bdd09267f4584684c54d6fae...           3   \n",
       "2  999524249720812f2d8c0390293efd58e1ac84d587a01c...           1   \n",
       "3  4e6bc35cf7fd79a5312047651e7865915f4a6bec193cf2...           2   \n",
       "4  dc009148ee26d658e0240c7b7f6a258790a457737f96e8...           2   \n",
       "\n",
       "     prev_sd_pu  num_ct_pu  pur_npur_ratio  events_pu  avg_event_pu  \\\n",
       "0  2.128299e+07         49        0.001481      675.0     18.243243   \n",
       "1  2.024939e+06          3        0.000000       86.0     43.000000   \n",
       "2  0.000000e+00          1        0.000000       33.0     33.000000   \n",
       "3  2.984835e+05          2        0.000000       17.0      8.500000   \n",
       "4  4.874100e+04          2        0.000000        8.0      4.000000   \n",
       "\n",
       "   eventval_pu  \n",
       "0   203.492996  \n",
       "1    52.000000  \n",
       "2    47.000000  \n",
       "3     0.000000  \n",
       "4     0.000000  "
      ]
     },
     "execution_count": 93,
     "metadata": {},
     "output_type": "execute_result"
    }
   ],
   "source": [
    "data.head()"
   ]
  },
  {
   "cell_type": "code",
   "execution_count": 94,
   "metadata": {
    "ExecuteTime": {
     "end_time": "2019-02-18T01:27:59.196500Z",
     "start_time": "2019-02-18T01:27:59.057859Z"
    }
   },
   "outputs": [
    {
     "name": "stdout",
     "output_type": "stream",
     "text": [
      "<class 'pandas.core.frame.DataFrame'>\n",
      "Int64Index: 621106 entries, 0 to 621105\n",
      "Data columns (total 8 columns):\n",
      "user_id_hash      621106 non-null object\n",
      "session_pu        621106 non-null int64\n",
      "prev_sd_pu        621106 non-null float64\n",
      "num_ct_pu         621106 non-null int64\n",
      "pur_npur_ratio    621001 non-null float64\n",
      "events_pu         621001 non-null float64\n",
      "avg_event_pu      621001 non-null float64\n",
      "eventval_pu       621001 non-null float32\n",
      "dtypes: float32(1), float64(4), int64(2), object(1)\n",
      "memory usage: 40.3+ MB\n"
     ]
    }
   ],
   "source": [
    "data.info()"
   ]
  },
  {
   "cell_type": "markdown",
   "metadata": {
    "ExecuteTime": {
     "end_time": "2019-02-18T01:28:58.176012Z",
     "start_time": "2019-02-18T01:28:58.173418Z"
    }
   },
   "source": [
    "# Train val data"
   ]
  },
  {
   "cell_type": "code",
   "execution_count": 97,
   "metadata": {
    "ExecuteTime": {
     "end_time": "2019-02-18T01:30:44.270094Z",
     "start_time": "2019-02-18T01:30:40.587550Z"
    }
   },
   "outputs": [
    {
     "name": "stdout",
     "output_type": "stream",
     "text": [
      "4729 unique users purchased in 7 days\n",
      "6126 unique users purchased in 14 days\n"
     ]
    }
   ],
   "source": [
    "import datetime\n",
    "\n",
    "user_purchase_7=event_new[(event_new.event=='8')&(event_new.event_timestamp>=pd.Timestamp(datetime.datetime(2018,12,1)))&(event_new.event_timestamp<=pd.Timestamp(datetime.datetime(2018,12,8)))].user_id_hash.unique()\n",
    "user_purchase_7\n",
    "print(len(user_purchase_7), 'unique users purchased in 7 days')\n",
    "\n",
    "user_purchase_14 = event_new[(event_new.event=='8')&(event_new.event_timestamp>=pd.Timestamp(datetime.datetime(2018,12,1)))&(event_new.event_timestamp<=pd.Timestamp(datetime.datetime(2018,12,15)))].user_id_hash.unique()\n",
    "user_purchase_14\n",
    "print(len(user_purchase_14), 'unique users purchased in 14 days')"
   ]
  },
  {
   "cell_type": "code",
   "execution_count": 98,
   "metadata": {
    "ExecuteTime": {
     "end_time": "2019-02-18T01:33:53.725693Z",
     "start_time": "2019-02-18T01:33:53.720310Z"
    },
    "scrolled": true
   },
   "outputs": [
    {
     "data": {
      "text/plain": [
       "[280a7625f66e60896e558eaeee6b3eb0419c488eed15ef..., 0e02d992cae31bf3cc09708fc70db2cf935288bf715aa7..., f885fd72310deaa1b7591bb3af277e632c364d36bdda5e..., 5fb8780d18dfc69e2c968508d624828ecff7b504bf2719..., 75ce9e8bf0517bc7dec67b715f3caf38871135c5cd462b..., ..., 666704a3b7800c31bf3bfd6210ea9e9f5c78ae24b3d727..., 935bf98415a1892b047e3a765564839b24539ecec83266..., 37a6bda2f661e665958aaef74190ebe9124845d2d25d24..., ff191d081c4d4629082688bb95a7afd6a2ac6911ded427..., 2820306b1425196413fd71b05faab1c22a0b03c8d20fb1...]\n",
       "Length: 4729\n",
       "Categories (4729, object): [280a7625f66e60896e558eaeee6b3eb0419c488eed15ef..., 0e02d992cae31bf3cc09708fc70db2cf935288bf715aa7..., f885fd72310deaa1b7591bb3af277e632c364d36bdda5e..., 5fb8780d18dfc69e2c968508d624828ecff7b504bf2719..., ..., 935bf98415a1892b047e3a765564839b24539ecec83266..., 37a6bda2f661e665958aaef74190ebe9124845d2d25d24..., ff191d081c4d4629082688bb95a7afd6a2ac6911ded427..., 2820306b1425196413fd71b05faab1c22a0b03c8d20fb1...]"
      ]
     },
     "execution_count": 98,
     "metadata": {},
     "output_type": "execute_result"
    }
   ],
   "source": [
    "user_purchase_7"
   ]
  },
  {
   "cell_type": "code",
   "execution_count": 104,
   "metadata": {
    "ExecuteTime": {
     "end_time": "2019-02-18T01:36:49.500760Z",
     "start_time": "2019-02-18T01:36:49.304085Z"
    }
   },
   "outputs": [],
   "source": [
    "#data['label_1'] = np.where(data['user_id_hash'].isin(user_purchase_7), 1, 0)\n",
    "#data['label_2'] = np.where(data['user_id_hash'].isin(user_purchase_14), 1, 0)\n",
    "\n",
    "data['label_1'] = np.where((data['user_id_hash'].isin(sample_sub.user_id_hash.unique()))&(data.event=='8'), 1, 0)\n",
    "data['label_2'] = np.where(data['user_id_hash'].isin(sample_sub.user_id_hash.unique()), 1, 0)"
   ]
  },
  {
   "cell_type": "code",
   "execution_count": 105,
   "metadata": {
    "ExecuteTime": {
     "end_time": "2019-02-18T01:36:50.737317Z",
     "start_time": "2019-02-18T01:36:50.724063Z"
    },
    "scrolled": true
   },
   "outputs": [
    {
     "data": {
      "text/html": [
       "<div>\n",
       "<style scoped>\n",
       "    .dataframe tbody tr th:only-of-type {\n",
       "        vertical-align: middle;\n",
       "    }\n",
       "\n",
       "    .dataframe tbody tr th {\n",
       "        vertical-align: top;\n",
       "    }\n",
       "\n",
       "    .dataframe thead th {\n",
       "        text-align: right;\n",
       "    }\n",
       "</style>\n",
       "<table border=\"1\" class=\"dataframe\">\n",
       "  <thead>\n",
       "    <tr style=\"text-align: right;\">\n",
       "      <th></th>\n",
       "      <th>user_id_hash</th>\n",
       "      <th>session_pu</th>\n",
       "      <th>prev_sd_pu</th>\n",
       "      <th>num_ct_pu</th>\n",
       "      <th>pur_npur_ratio</th>\n",
       "      <th>events_pu</th>\n",
       "      <th>avg_event_pu</th>\n",
       "      <th>eventval_pu</th>\n",
       "      <th>label_1</th>\n",
       "      <th>label_2</th>\n",
       "    </tr>\n",
       "  </thead>\n",
       "  <tbody>\n",
       "    <tr>\n",
       "      <th>0</th>\n",
       "      <td>9943447915df3a45fd6720a026af905b6da6b56a37701b...</td>\n",
       "      <td>49</td>\n",
       "      <td>2.128299e+07</td>\n",
       "      <td>49</td>\n",
       "      <td>0.001481</td>\n",
       "      <td>675.0</td>\n",
       "      <td>18.243243</td>\n",
       "      <td>203.492996</td>\n",
       "      <td>0</td>\n",
       "      <td>0</td>\n",
       "    </tr>\n",
       "    <tr>\n",
       "      <th>1</th>\n",
       "      <td>43f75f8042d3c80c45e222bdd09267f4584684c54d6fae...</td>\n",
       "      <td>3</td>\n",
       "      <td>2.024939e+06</td>\n",
       "      <td>3</td>\n",
       "      <td>0.000000</td>\n",
       "      <td>86.0</td>\n",
       "      <td>43.000000</td>\n",
       "      <td>52.000000</td>\n",
       "      <td>0</td>\n",
       "      <td>0</td>\n",
       "    </tr>\n",
       "    <tr>\n",
       "      <th>2</th>\n",
       "      <td>999524249720812f2d8c0390293efd58e1ac84d587a01c...</td>\n",
       "      <td>1</td>\n",
       "      <td>0.000000e+00</td>\n",
       "      <td>1</td>\n",
       "      <td>0.000000</td>\n",
       "      <td>33.0</td>\n",
       "      <td>33.000000</td>\n",
       "      <td>47.000000</td>\n",
       "      <td>0</td>\n",
       "      <td>0</td>\n",
       "    </tr>\n",
       "    <tr>\n",
       "      <th>3</th>\n",
       "      <td>4e6bc35cf7fd79a5312047651e7865915f4a6bec193cf2...</td>\n",
       "      <td>2</td>\n",
       "      <td>2.984835e+05</td>\n",
       "      <td>2</td>\n",
       "      <td>0.000000</td>\n",
       "      <td>17.0</td>\n",
       "      <td>8.500000</td>\n",
       "      <td>0.000000</td>\n",
       "      <td>0</td>\n",
       "      <td>0</td>\n",
       "    </tr>\n",
       "    <tr>\n",
       "      <th>4</th>\n",
       "      <td>dc009148ee26d658e0240c7b7f6a258790a457737f96e8...</td>\n",
       "      <td>2</td>\n",
       "      <td>4.874100e+04</td>\n",
       "      <td>2</td>\n",
       "      <td>0.000000</td>\n",
       "      <td>8.0</td>\n",
       "      <td>4.000000</td>\n",
       "      <td>0.000000</td>\n",
       "      <td>0</td>\n",
       "      <td>0</td>\n",
       "    </tr>\n",
       "  </tbody>\n",
       "</table>\n",
       "</div>"
      ],
      "text/plain": [
       "                                        user_id_hash  session_pu  \\\n",
       "0  9943447915df3a45fd6720a026af905b6da6b56a37701b...          49   \n",
       "1  43f75f8042d3c80c45e222bdd09267f4584684c54d6fae...           3   \n",
       "2  999524249720812f2d8c0390293efd58e1ac84d587a01c...           1   \n",
       "3  4e6bc35cf7fd79a5312047651e7865915f4a6bec193cf2...           2   \n",
       "4  dc009148ee26d658e0240c7b7f6a258790a457737f96e8...           2   \n",
       "\n",
       "     prev_sd_pu  num_ct_pu  pur_npur_ratio  events_pu  avg_event_pu  \\\n",
       "0  2.128299e+07         49        0.001481      675.0     18.243243   \n",
       "1  2.024939e+06          3        0.000000       86.0     43.000000   \n",
       "2  0.000000e+00          1        0.000000       33.0     33.000000   \n",
       "3  2.984835e+05          2        0.000000       17.0      8.500000   \n",
       "4  4.874100e+04          2        0.000000        8.0      4.000000   \n",
       "\n",
       "   eventval_pu  label_1  label_2  \n",
       "0   203.492996        0        0  \n",
       "1    52.000000        0        0  \n",
       "2    47.000000        0        0  \n",
       "3     0.000000        0        0  \n",
       "4     0.000000        0        0  "
      ]
     },
     "execution_count": 105,
     "metadata": {},
     "output_type": "execute_result"
    }
   ],
   "source": [
    "data.head()"
   ]
  },
  {
   "cell_type": "code",
   "execution_count": 109,
   "metadata": {
    "ExecuteTime": {
     "end_time": "2019-02-18T01:37:22.217059Z",
     "start_time": "2019-02-18T01:37:22.207198Z"
    }
   },
   "outputs": [
    {
     "data": {
      "text/plain": [
       "0    0.992386\n",
       "1    0.007614\n",
       "Name: label_1, dtype: float64"
      ]
     },
     "execution_count": 109,
     "metadata": {},
     "output_type": "execute_result"
    }
   ],
   "source": [
    "data.label_1.value_counts()/len(data)"
   ]
  },
  {
   "cell_type": "code",
   "execution_count": 108,
   "metadata": {
    "ExecuteTime": {
     "end_time": "2019-02-18T01:37:20.665038Z",
     "start_time": "2019-02-18T01:37:20.654594Z"
    }
   },
   "outputs": [
    {
     "data": {
      "text/plain": [
       "0    0.990137\n",
       "1    0.009863\n",
       "Name: label_2, dtype: float64"
      ]
     },
     "execution_count": 108,
     "metadata": {},
     "output_type": "execute_result"
    }
   ],
   "source": [
    "data.label_2.value_counts()/len(data)"
   ]
  }
 ],
 "metadata": {
  "kernelspec": {
   "display_name": "Python 3",
   "language": "python",
   "name": "python3"
  },
  "language_info": {
   "codemirror_mode": {
    "name": "ipython",
    "version": 3
   },
   "file_extension": ".py",
   "mimetype": "text/x-python",
   "name": "python",
   "nbconvert_exporter": "python",
   "pygments_lexer": "ipython3",
   "version": "3.6.6"
  },
  "toc": {
   "base_numbering": 1,
   "nav_menu": {},
   "number_sections": true,
   "sideBar": true,
   "skip_h1_title": false,
   "title_cell": "Table of Contents",
   "title_sidebar": "Contents",
   "toc_cell": true,
   "toc_position": {
    "height": "calc(100% - 180px)",
    "left": "10px",
    "top": "150px",
    "width": "302.796875px"
   },
   "toc_section_display": true,
   "toc_window_display": true
  }
 },
 "nbformat": 4,
 "nbformat_minor": 2
}
